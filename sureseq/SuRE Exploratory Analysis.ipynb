{
 "cells": [
  {
   "cell_type": "code",
   "execution_count": null,
   "metadata": {
    "collapsed": false
   },
   "outputs": [],
   "source": [
    "!du -hs SuRE-counts-K562.txt.gz"
   ]
  },
  {
   "cell_type": "code",
   "execution_count": null,
   "metadata": {
    "collapsed": false
   },
   "outputs": [],
   "source": [
    "!zcat SuRE-counts-K562.txt.gz | wc -l"
   ]
  },
  {
   "cell_type": "code",
   "execution_count": null,
   "metadata": {
    "collapsed": true
   },
   "outputs": [],
   "source": [
    "import gzip\n",
    "import numpy as np\n",
    "import time\n",
    "from scipy.stats import pearsonr, spearmanr, rankdata, ks_2samp\n",
    "import matplotlib.pyplot as plt\n",
    "import matplotlib"
   ]
  },
  {
   "cell_type": "code",
   "execution_count": null,
   "metadata": {
    "collapsed": false
   },
   "outputs": [],
   "source": [
    "sure = {}\n",
    "sure['chrs'] = []\n",
    "sure['starts'] = []\n",
    "sure['ends'] = []\n",
    "sure['strands'] = []\n",
    "sure['ipcr'] = []\n",
    "sure['rna'] = {}\n",
    "sure['rna']['bio1pcr1'] = []\n",
    "sure['rna']['bio1pcr2'] = []\n",
    "sure['rna']['bio1pcr3'] = []\n",
    "sure['rna']['bio1pcr4'] = []\n",
    "sure['rna']['bio2pcr1'] = []\n",
    "sure['rna']['bio2pcr2'] = []\n",
    "sure['plasmid'] = {}\n",
    "sure['plasmid']['pcr1'] = []\n",
    "sure['plasmid']['pcr2'] = []\n",
    "\n",
    "t0 = time.time()\n",
    "with gzip.open('SuRE-counts-K562.txt.gz', 'rb') as f:\n",
    "    next(f)\n",
    "    i = 0\n",
    "    for line in f:\n",
    "        if i % 10000000 == 0:\n",
    "            print \"On line \" + str(i)\n",
    "        if time.time() - t0 > 10:\n",
    "            t0 = time.time()\n",
    "            print i\n",
    "        line = line.strip().split('\\t')\n",
    "        sure['chrs'].append(line[0])\n",
    "        sure['starts'].append(int(line[1]))\n",
    "        sure['ends'].append(int(line[2]))\n",
    "        sure['strands'].append(line[3])\n",
    "        sure['ipcr'].append(int(line[4]))\n",
    "        sure['rna']['bio1pcr1'].append(int(line[5]))\n",
    "        sure['rna']['bio1pcr2'].append(int(line[6]))\n",
    "        sure['rna']['bio1pcr3'].append(int(line[7]))\n",
    "        sure['rna']['bio1pcr4'].append(int(line[8]))\n",
    "        sure['rna']['bio2pcr1'].append(int(line[9]))\n",
    "        sure['rna']['bio2pcr2'].append(int(line[10]))\n",
    "        sure['plasmid']['pcr1'].append(int(line[11]))\n",
    "        sure['plasmid']['pcr2'].append(int(line[12]))\n",
    "        i += 1"
   ]
  },
  {
   "cell_type": "code",
   "execution_count": null,
   "metadata": {
    "collapsed": true
   },
   "outputs": [],
   "source": [
    "import json\n",
    "sure = json.load(open('SURECounts.txt'))"
   ]
  },
  {
   "cell_type": "code",
   "execution_count": null,
   "metadata": {
    "collapsed": false
   },
   "outputs": [],
   "source": [
    "# import io, json\n",
    "# with io.open('sureCounts.txt', 'w', encoding = 'utf-8') as outfile:\n",
    "#     outfile.write(json.dumps(sure, sort_keys = True, indent = 4, ensure_ascii = False))"
   ]
  },
  {
   "cell_type": "code",
   "execution_count": null,
   "metadata": {
    "collapsed": false
   },
   "outputs": [],
   "source": [
    "import numpy as np\n",
    "sure['ipcr'] = np.array(sure['ipcr'])\n",
    "sure['rna'] = { repName : np.array(sure['rna'][repName]) for repName in sure['rna'] }\n",
    "sure['plasmid'] = { repName : np.array(sure['plasmid'][repName]) for repName in sure['plasmid'] }"
   ]
  },
  {
   "cell_type": "code",
   "execution_count": null,
   "metadata": {
    "collapsed": false
   },
   "outputs": [],
   "source": [
    "ones = (sure['ipcr'] < 10)\n",
    "# print ones[9000:9100]\n",
    "print float(np.sum(ones)) / len(sure['ipcr'])\n",
    "del ones"
   ]
  },
  {
   "cell_type": "code",
   "execution_count": null,
   "metadata": {
    "collapsed": false
   },
   "outputs": [],
   "source": [
    "import matplotlib.pyplot as plt\n",
    "import seaborn as sns\n",
    "\n",
    "plt.figure()\n",
    "sns.distplot(sure['ipcr'])\n",
    "plt.show()"
   ]
  },
  {
   "cell_type": "code",
   "execution_count": null,
   "metadata": {
    "collapsed": false
   },
   "outputs": [],
   "source": [
    "sure['plasmid']['total'] = sure['plasmid']['pcr1'] + sure['plasmid']['pcr2']"
   ]
  },
  {
   "cell_type": "code",
   "execution_count": null,
   "metadata": {
    "collapsed": true
   },
   "outputs": [],
   "source": [
    "from scipy.stats import pearsonr, spearmanr"
   ]
  },
  {
   "cell_type": "code",
   "execution_count": null,
   "metadata": {
    "collapsed": false
   },
   "outputs": [],
   "source": [
    "print pearsonr(sure['ipcr'], sure['plasmid']['total'])\n",
    "print spearmanr(sure['ipcr'], sure['plasmid']['total'])"
   ]
  },
  {
   "cell_type": "code",
   "execution_count": null,
   "metadata": {
    "collapsed": false
   },
   "outputs": [],
   "source": [
    "print pearsonr(sure['rna']['bio1pcr1'], sure['rna']['bio1pcr2'])\n",
    "print pearsonr(sure['rna']['bio1pcr1'], sure['rna']['bio1pcr3'])\n",
    "print pearsonr(sure['rna']['bio1pcr1'], sure['rna']['bio1pcr4'])\n",
    "print pearsonr(sure['rna']['bio1pcr2'], sure['rna']['bio1pcr3'])\n",
    "print pearsonr(sure['rna']['bio1pcr2'], sure['rna']['bio1pcr4'])\n",
    "print pearsonr(sure['rna']['bio1pcr3'], sure['rna']['bio1pcr4'])\n",
    "print pearsonr(sure['rna']['bio2pcr1'], sure['rna']['bio2pcr1'])\n",
    "print pearsonr(sure['rna']['bio1pcr1'] + sure['rna']['bio1pcr2'] + sure['rna']['bio1pcr3'] + sure['rna']['bio1pcr4'], sure['rna']['bio2pcr1'] + sure['rna']['bio2pcr2'])"
   ]
  },
  {
   "cell_type": "code",
   "execution_count": null,
   "metadata": {
    "collapsed": false
   },
   "outputs": [],
   "source": [
    "print pearsonr(sure['rna']['bio2pcr1'], sure['rna']['bio2pcr2'])"
   ]
  },
  {
   "cell_type": "code",
   "execution_count": null,
   "metadata": {
    "collapsed": false
   },
   "outputs": [],
   "source": [
    "print pearsonr(sure['plasmid']['pcr1'], sure['plasmid']['pcr2'])"
   ]
  },
  {
   "cell_type": "code",
   "execution_count": null,
   "metadata": {
    "collapsed": false
   },
   "outputs": [],
   "source": [
    "print pearsonr(sure['rna']['bio1pcr1'] + sure['rna']['bio1pcr2'], sure['rna']['bio2pcr1'] + sure['rna']['bio2pcr2'])\n",
    "print pearsonr(sure['rna']['bio1pcr3'] + sure['rna']['bio1pcr4'], sure['rna']['bio2pcr1'] + sure['rna']['bio2pcr2'])"
   ]
  },
  {
   "cell_type": "code",
   "execution_count": null,
   "metadata": {
    "collapsed": false
   },
   "outputs": [],
   "source": [
    "import json\n",
    "print \"converting from numPy arrays to lists\"\n",
    "sure['ipcr'] = sure['ipcr'].tolist()\n",
    "sure['rna'] = { repName : sure['rna'][repName].tolist() for repName in sure['rna'] }\n",
    "sure['plasmid'] = { repName : sure['plasmid'][repName].tolist() for repName in sure['plasmid'] }\n",
    "print \"dumping JSON\"\n",
    "with open('SURECounts.txt', 'w') as outfile:\n",
    "    json.dump(sure, outfile)"
   ]
  },
  {
   "cell_type": "code",
   "execution_count": null,
   "metadata": {
    "collapsed": false
   },
   "outputs": [],
   "source": [
    "print pearsonr(sure['ipcr'], sure['rna']['bio1pcr2'])"
   ]
  },
  {
   "cell_type": "code",
   "execution_count": null,
   "metadata": {
    "collapsed": false,
    "scrolled": false
   },
   "outputs": [],
   "source": [
    "import matplotlib.pyplot as plt\n",
    "import seaborn as sns\n",
    "from scipy.stats import pearsonr, spearmanr\n",
    " \n",
    "biorep1 = sure['rna']['bio1pcr1'] + sure['rna']['bio1pcr2'] + sure['rna']['bio1pcr3'] + sure['rna']['bio1pcr4']\n",
    "biorep2 = sure['rna']['bio2pcr1'] + sure['rna']['bio2pcr2']\n",
    "\n",
    "# npoints = 1e7\n",
    " \n",
    "# print spearmanr(biorep1[3e7:3e7+npoints], biorep2[3e7:3e7+npoints])\n",
    " \n",
    "# plt.figure()\n",
    "# sns.jointplot(biorep1[3e7:3e7+npoints], biorep2[3e7:3e7+npoints])\n",
    "# plt.show()"
   ]
  },
  {
   "cell_type": "code",
   "execution_count": null,
   "metadata": {
    "collapsed": false
   },
   "outputs": [],
   "source": [
    "print str(100.0 * len(biorep1[biorep1 != 0]) / len(biorep1)) + \"%\"\n",
    "print str(100.0 * len(biorep2[biorep2 != 0]) / len(biorep2)) + \"%\""
   ]
  },
  {
   "cell_type": "code",
   "execution_count": null,
   "metadata": {
    "collapsed": false
   },
   "outputs": [],
   "source": [
    "print pearsonr(biorep1, biorep2)\n",
    "print spearmanr(biorep1, biorep2)"
   ]
  },
  {
   "cell_type": "code",
   "execution_count": null,
   "metadata": {
    "collapsed": false
   },
   "outputs": [],
   "source": [
    "print sure['rna']['bio1pcr1'].shape"
   ]
  },
  {
   "cell_type": "code",
   "execution_count": null,
   "metadata": {
    "collapsed": false
   },
   "outputs": [],
   "source": [
    "import numpy as np\n",
    "\n",
    "SUREsignalfile = open('SUREfragmentsignal3.txt', 'w')\n",
    "SUREsignalfile.write('chr\\tstart\\tend\\tstrand\\tBiorep1Signal\\tBiorep2Signal\\tAverageSignal\\tInputPlasmid\\n')\n",
    "\n",
    "NUM_READS_BIOREP1 = 37770653.0\n",
    "NUM_READS_BIOREP2 = 74081034.0\n",
    "NUM_READS_PLASMIDINPUT = 80000000.0 # approximation assuming 40M reads per PCR replicate, as noted in the manuscript\n",
    "biorep1Signal = [] # signal will be in reads per billion, so numReads will be multiplied by 1e9/totalReads\n",
    "biorep2Signal = []\n",
    "inputPlasmidSignal = []\n",
    "\n",
    "numFragments = len(sure['chrs'])\n",
    "for i in range(numFragments):\n",
    "    SUREsignalfile.write(str(sure['chrs'][i]) + '\\t' + str(sure['starts'][i]) + '\\t' + \n",
    "                         str(sure['ends'][i]) + '\\t' + str(sure['strands'][i]) + '\\t')\n",
    "    \n",
    "    inputPlasmidReads = 1 + sure['plasmid']['pcr1'][i] + sure['plasmid']['pcr2'][i]\n",
    "    inputPlasmidReadsPerBillion = np.float(inputPlasmidReads) * 1e9 / NUM_READS_PLASMIDINPUT\n",
    "    \n",
    "    rep1ReadsPerBillion = np.float(biorep1[i]) * 1e9 / NUM_READS_BIOREP1\n",
    "    rep2ReadsPerBillion = np.float(biorep2[i]) * 1e9 / NUM_READS_BIOREP2\n",
    "    rep1Signal = rep1ReadsPerBillion / inputPlasmidReadsPerBillion\n",
    "    rep2Signal = rep2ReadsPerBillion / inputPlasmidReadsPerBillion\n",
    "    avgSignal = (np.float(biorep1[i]) + biorep2[i]) * 1e9 / ((NUM_READS_BIOREP1 + NUM_READS_BIOREP2)*inputPlasmidReadsPerBillion)\n",
    "#     avgSignal = (float(biorep1[i]) + biorep2[i]) / inputPlasmidReads\n",
    "    \n",
    "    inputPlasmidSignal.append(inputPlasmidReadsPerBillion)\n",
    "    biorep1Signal.append(rep1Signal)\n",
    "    biorep2Signal.append(rep2Signal)\n",
    "    \n",
    "    SUREsignalfile.write(str(rep1Signal) + '\\t' + str(rep2Signal) + '\\t' + \n",
    "                         str(avgSignal) + '\\t' + str(inputPlasmidReadsPerBillion) + '\\n')\n",
    "\n",
    "SUREsignalfile.close()"
   ]
  },
  {
   "cell_type": "code",
   "execution_count": null,
   "metadata": {
    "collapsed": false
   },
   "outputs": [],
   "source": [
    "print spearmanr(biorep1Signal, biorep2Signal)"
   ]
  },
  {
   "cell_type": "code",
   "execution_count": null,
   "metadata": {
    "collapsed": true
   },
   "outputs": [],
   "source": [
    "del biorep1\n",
    "del biorep2"
   ]
  },
  {
   "cell_type": "code",
   "execution_count": null,
   "metadata": {
    "collapsed": true
   },
   "outputs": [],
   "source": [
    "inputPlasmidReadCounts = []\n",
    "for i in range(numFragments):\n",
    "    inputPlasmidReads = 1 + sure['plasmid']['pcr1'][i] + sure['plasmid']['pcr2'][i]\n",
    "    inputPlasmidReadCounts.append(inputPlasmidReads)"
   ]
  },
  {
   "cell_type": "code",
   "execution_count": null,
   "metadata": {
    "collapsed": true
   },
   "outputs": [],
   "source": [
    "biorep1Signal = np.array(biorep1Signal)\n",
    "biorep2Signal = np.array(biorep2Signal)"
   ]
  },
  {
   "cell_type": "code",
   "execution_count": null,
   "metadata": {
    "collapsed": true
   },
   "outputs": [],
   "source": [
    "replicateAbsFoldChange = np.absolute(np.log2((biorep1Signal.astype(np.float) + 1) / \n",
    "                                             (biorep2Signal.astype(np.float) + 1)))\n",
    "\n",
    "# fragmentSignal = (biorep1Signal.astype(np.float) + biorep2Signal) / 2"
   ]
  },
  {
   "cell_type": "code",
   "execution_count": null,
   "metadata": {
    "collapsed": false
   },
   "outputs": [],
   "source": [
    "# print replicateChange[:100]\n",
    "print np.mean(biorep1Signal)\n",
    "print np.mean(biorep2Signal)"
   ]
  },
  {
   "cell_type": "code",
   "execution_count": null,
   "metadata": {
    "collapsed": false
   },
   "outputs": [],
   "source": [
    "from scipy.stats import ks_2samp\n",
    "\n",
    "print ks_2samp(biorep1Signal, biorep2Signal)"
   ]
  },
  {
   "cell_type": "code",
   "execution_count": null,
   "metadata": {
    "collapsed": false
   },
   "outputs": [],
   "source": [
    "import matplotlib.pyplot as plt\n",
    "import seaborn as sns\n",
    "from scipy.stats import pearsonr, spearmanr\n",
    "\n",
    "# account for the case where both bioreps are 0\n",
    "# replicateChange[replicateChange == 'nan'] = 0\n",
    "print pearsonr(fragmentSignal, replicateAbsFoldChange)\n",
    "print spearmanr(fragmentSignal, replicateAbsFoldChange)\n",
    "\n",
    "npoints = 1e7\n",
    "indices = np.random.choice(np.arange(len(replicateAbsFoldChange)), npoints, replace=False)\n",
    "\n",
    "plt.figure()\n",
    "fig = sns.jointplot(np.take(fragmentSignal, indices), \n",
    "                    np.take(replicateAbsFoldChange, indices),\n",
    "                    stat_func=spearmanr);\n",
    "fig.set_axis_labels('SuRE fragment signal', 'abs(log2(biorep1/biorep2)): amount of replicate variation')\n",
    "plt.show()"
   ]
  },
  {
   "cell_type": "code",
   "execution_count": null,
   "metadata": {
    "collapsed": false
   },
   "outputs": [],
   "source": [
    "print pearsonr(inputPlasmidSignal, replicateAbsFoldChange)\n",
    "print spearmanr(inputPlasmidSignal, replicateAbsFoldChange)\n",
    "\n",
    "plt.figure()\n",
    "fig = sns.jointplot(np.take(inputPlasmidSignal, indices), \n",
    "                    np.take(replicateAbsFoldChange, indices),\n",
    "                    stat_func=spearmanr);\n",
    "fig.set_axis_labels('Input fragment representation in SuRE library (reads per billion)', 'abs(log2(biorep1/biorep2)): amount of replicate variation')\n",
    "plt.show()"
   ]
  },
  {
   "cell_type": "code",
   "execution_count": null,
   "metadata": {
    "collapsed": false
   },
   "outputs": [],
   "source": [
    "plt.figure()\n",
    "fig = sns.boxplot(x = np.take(inputPlasmidSignal, indices), \n",
    "                  y = np.take(replicateAbsFoldChange, indices));\n",
    "fig.set(xlabel = 'Input fragment representation in SuRE library (reads per billion)', ylabel = 'abs(log2(biorep1/biorep2)): amount of replicate variation');\n",
    "plt.show()"
   ]
  },
  {
   "cell_type": "code",
   "execution_count": null,
   "metadata": {
    "collapsed": false
   },
   "outputs": [],
   "source": [
    "# Plot the rank-rank plot without the points where either replicate has signal 0\n",
    "# want to see if at least the fragments with signal can be trusted\n",
    "\n",
    "import matplotlib.pyplot as plt\n",
    "import seaborn as sns\n",
    "from scipy.stats import pearsonr, spearmanr\n",
    "\n",
    "npoints = int(1e7)\n",
    "indices = np.random.choice(np.arange(len(replicateAbsFoldChange)), npoints, replace=False)\n",
    "\n",
    "print \"removing zeros\"\n",
    "\n",
    "biorep1Subset = np.take(biorep1Signal, indices)\n",
    "biorep2Subset = np.take(biorep2Signal, indices)\n",
    "zeroIndices = []\n",
    "for i in range(len(biorep1Subset)):\n",
    "#     if i % 5e4 == 0:\n",
    "#         print i\n",
    "    if biorep1Subset[i] == 0 or biorep2Subset[i] == 0:\n",
    "        # fml what am i doing why did i not just set it up this way\n",
    "        zeroIndices.append(i)\n",
    "#         mask = np.ones(len(biorep1Sub), dtype=bool)\n",
    "#         mask[i] = False\n",
    "#         biorep1Subset = biorep1Subset[mask]\n",
    "#         biorep2Subset = biorep1Subset[mask]\n",
    "#         biorep1Subset = np.delete(biorep1Subset, i)\n",
    "#         biorep2Subset = np.delete(biorep2Subset, i)\n",
    "        # don't use np.concatenate for 1 element deletions, v slow.\n",
    "#         biorep1Subset = np.concatenate((biorep1Subset[:i], biorep1Subset[i+1:]))\n",
    "#         biorep2Subset = np.concatenate((biorep2Subset[:i], biorep2Subset[i+1:]))\n",
    "\n",
    "biorep1Subset = np.delete(biorep1Subset, zeroIndices)\n",
    "biorep2Subset = np.delete(biorep2Subset, zeroIndices)\n",
    "\n",
    "print \"Npoints = \" + str(len(biorep1Subset))\n",
    "print \"Percentage of nonzero points is \" + str(float(len(biorep1Subset)) * 100 / npoints) + \"%.\"\n",
    "# print len(biorep2Subset)"
   ]
  },
  {
   "cell_type": "code",
   "execution_count": null,
   "metadata": {
    "collapsed": false
   },
   "outputs": [],
   "source": [
    "from scipy.stats import pearsonr, rankdata\n",
    "\n",
    "print \"plotting rank-rank plot between replicates, with zeros removed\"\n",
    "\n",
    "print \"Npoints = \" + str(len(biorep1Subset))\n",
    "        \n",
    "plt.figure()\n",
    "# fig = sns.jointplot(rankdata(np.take(biorep1Subset, indices)), \n",
    "#                     rankdata(np.take(biorep2Subset, indices)),\n",
    "#                     stat_func=pearsonr);\n",
    "fig = sns.jointplot(rankdata(biorep1Subset),\n",
    "                    rankdata(biorep2Subset),\n",
    "                    stat_func = pearsonr)\n",
    "# fig = sns.jointplot(np.argsort(biorep1Signal), np.argsort(biorep2Signal), kind=\"hex\");\n",
    "fig.set_axis_labels('rank(biorep1)', 'rank(biorep2)')\n",
    "# sns.set_title('rank-rank plot between replicates; Npoints = 10M')\n",
    "plt.show()"
   ]
  },
  {
   "cell_type": "code",
   "execution_count": null,
   "metadata": {
    "collapsed": false
   },
   "outputs": [],
   "source": [
    "plt.figure()\n",
    "fig = sns.jointplot(rankdata(biorep1Subset),\n",
    "                    rankdata(biorep2Subset),\n",
    "                    stat_func = pearsonr,\n",
    "                    kind = 'hex');\n",
    "fig.set_axis_labels('rank(biorep1)', 'rank(biorep2)');\n",
    "plt.show()"
   ]
  },
  {
   "cell_type": "code",
   "execution_count": null,
   "metadata": {
    "collapsed": false
   },
   "outputs": [],
   "source": [
    "import matplotlib\n",
    "\n",
    "plt.figure(dpi=150)\n",
    "\n",
    "sns.set(context = 'paper', style = 'ticks', font = 'Arial Narrow')\n",
    "ax = sns.kdeplot(biorep1Signal, color='#00aaff', shade = True);\n",
    "sns.kdeplot(biorep2Signal, color='#FF3500', shade = True);\n",
    "ax.set(xlabel='SuRE Signal', ylabel='Frequency Density')\n",
    "\n",
    "legend_labels  = ['BioRep 1', 'BioRep 2']\n",
    "legend_patches = [matplotlib.patches.Patch(color=C, label=L) for\n",
    "                  C, L in zip(['#00aaff', '#FF3500'],\n",
    "                               legend_labels)]\n",
    "\n",
    "plt.legend(handles=legend_patches, bbox_to_anchor=(0.7, 0.85), loc=3, borderaxespad=0.)\n",
    "\n",
    "plt.show()"
   ]
  },
  {
   "cell_type": "code",
   "execution_count": null,
   "metadata": {
    "collapsed": false
   },
   "outputs": [],
   "source": [
    "print spearmanr(biorep1Signal, biorep2Signal)"
   ]
  },
  {
   "cell_type": "code",
   "execution_count": null,
   "metadata": {
    "collapsed": false
   },
   "outputs": [],
   "source": [
    "print spearmanr(np.take(biorep1Signal, indices), np.take(biorep2Signal, indices))"
   ]
  },
  {
   "cell_type": "code",
   "execution_count": null,
   "metadata": {
    "collapsed": true
   },
   "outputs": [],
   "source": [
    "percents = np.concatenate((np.arange(0, 100, 1), np.arange(99, 100, 0.01)))\n",
    "biorep1Percentiles = np.percentile(biorep1Signal, percents)\n",
    "biorep2Percentiles = np.percentile(biorep2Signal, percents)"
   ]
  },
  {
   "cell_type": "code",
   "execution_count": null,
   "metadata": {
    "collapsed": false
   },
   "outputs": [],
   "source": [
    "print percents\n",
    "print biorep1Percentiles\n",
    "print biorep2Percentiles\n",
    "# print 1.0 * len(biorep2Signal[biorep2Signal < biorep2Percentiles[-3]]) / len(biorep2Signal)\n",
    "# print 1.0*len(biorep1Signal[biorep1Signal >= np.percentile(biorep1Signal, 99)]) / len(biorep1Signal)"
   ]
  },
  {
   "cell_type": "code",
   "execution_count": null,
   "metadata": {
    "collapsed": true
   },
   "outputs": [],
   "source": [
    "# concatenate the two percentile arrays, remove duplicates (all those zeros!), and sort (np.unique does steps 2 and 3)\n",
    "signalThresholds = np.unique(np.concatenate((biorep1Percentiles, biorep2Percentiles)))"
   ]
  },
  {
   "cell_type": "code",
   "execution_count": null,
   "metadata": {
    "collapsed": false
   },
   "outputs": [],
   "source": [
    "print \"test\""
   ]
  },
  {
   "cell_type": "code",
   "execution_count": null,
   "metadata": {
    "collapsed": false
   },
   "outputs": [],
   "source": [
    "correlationsAtThresholds = []\n",
    "nPointsAboveThresholds = []\n",
    "print \"Number of threshold scores = \" + str(len(signalThresholds))\n",
    "for score in signalThresholds:\n",
    "    print score\n",
    "    indices = []\n",
    "    for i in range(len(biorep1Signal)):\n",
    "        if biorep1Signal[i] >= score and biorep2Signal[i] >= score:\n",
    "            indices.append(i)\n",
    "    nPointsAboveThresholds.append(len(indices))\n",
    "    biorep1AboveThreshold = np.take(biorep1Signal, indices)\n",
    "    biorep2AboveThreshold = np.take(biorep2Signal, indices)\n",
    "    r = pearsonr(biorep1AboveThreshold, biorep2AboveThreshold)\n",
    "    rho = spearmanr(biorep1AboveThreshold, biorep2AboveThreshold)\n",
    "    correlationsAtThresholds.append((r, rho))"
   ]
  },
  {
   "cell_type": "code",
   "execution_count": null,
   "metadata": {
    "collapsed": false,
    "scrolled": false
   },
   "outputs": [],
   "source": [
    "# signalThresholds = np.array(signalThresholds)\n",
    "# correlationsAtThresholds = np.array(correlationsAtThresholds)\n",
    "# print signalThresholds.shape\n",
    "# print correlationsAtThresholds.shape\n",
    "\n",
    "# plt.figure(dpi=150)\n",
    "# ax = sns.regplot(signalThresholds, \n",
    "#                  correlationsAtThresholds[:, 0, 0], \n",
    "#                  fit_reg = False, \n",
    "#                  color = 'r',\n",
    "#                  scatter_kws={'s':25, 'alpha':0.6});\n",
    "# ax.set(xlabel='SuRE Signal Threshold', ylabel='Replicate Pearson Correlation');\n",
    "# ax.set_xlim([-20,200]);\n",
    "# plt.show()\n",
    "\n",
    "# plt.figure(dpi=150)\n",
    "# ax = sns.regplot(signalThresholds, \n",
    "#                  correlationsAtThresholds[:, 1, 0], \n",
    "#                  fit_reg = False, \n",
    "#                  color = 'g',\n",
    "#                  scatter_kws={'s':25, 'alpha':0.6});\n",
    "# ax.set(xlabel='SuRE Signal Threshold', ylabel='Replicate Spearman Correlation');\n",
    "# ax.set_xlim([-20,200]);\n",
    "# plt.show()\n",
    "\n",
    "plt.figure(dpi=150)\n",
    "ax = sns.jointplot(signalThresholds, \n",
    "              correlationsAtThresholds[:, 0, 0], \n",
    "              color = 'r',\n",
    "              joint_kws={'s':25, 'alpha':0.6, 'edgecolor':'white'},\n",
    "              stat_func = spearmanr);\n",
    "ax.set_axis_labels(xlabel='SuRE Signal Threshold', ylabel='Replicate Pearson Correlation');\n",
    "# ax.set_xlim([-20,200]);\n",
    "plt.show()\n",
    "\n",
    "plt.figure(dpi=150)\n",
    "ax = sns.jointplot(signalThresholds, \n",
    "              correlationsAtThresholds[:, 1, 0], \n",
    "              color = 'g',\n",
    "              joint_kws={'s':25, 'alpha':0.6, 'edgecolor':'white'},\n",
    "              stat_func = spearmanr);\n",
    "ax.set_axis_labels(xlabel='SuRE Signal Threshold', ylabel='Replicate Spearman Correlation');\n",
    "# ax.set_xlim([-20,200]);\n",
    "plt.show()\n",
    "\n",
    "plt.figure(dpi=150)\n",
    "ax = sns.jointplot(np.array(nPointsAboveThresholds), \n",
    "                   correlationsAtThresholds[:, 1, 0], \n",
    "                   color = 'g',\n",
    "                   joint_kws={'s':25, 'alpha':0.6, 'edgecolor':'white'},\n",
    "                   stat_func = spearmanr);\n",
    "ax.set_axis_labels(xlabel='Number of Points Above Threshold', ylabel='Replicate Spearman Correlation');\n",
    "# ax.set_xlim([-20,200]);\n",
    "plt.show()"
   ]
  },
  {
   "cell_type": "code",
   "execution_count": null,
   "metadata": {
    "collapsed": false
   },
   "outputs": [],
   "source": [
    "print nPointsAboveThresholds"
   ]
  },
  {
   "cell_type": "code",
   "execution_count": null,
   "metadata": {
    "collapsed": false
   },
   "outputs": [],
   "source": [
    "# percentThresholds = np.arange(0, 100, 1)\n",
    "# plasmidThresholds = np.percentile(inputPlasmidSignal, percentThresholds)\n",
    "# print plasmidThresholds\n",
    "plasmidThresholds = np.unique(inputPlasmidSignal)\n",
    "print len(plasmidThresholds)\n",
    "print plasmidThresholds"
   ]
  },
  {
   "cell_type": "code",
   "execution_count": null,
   "metadata": {
    "collapsed": false
   },
   "outputs": [],
   "source": [
    "correlationsByPlasmidInput = []\n",
    "nPointsByPlasmidInput = []\n",
    "print \"Number of plasmid input thresholds = \" + str(len(plasmidThresholds))\n",
    "for inputThreshold in plasmidThresholds:\n",
    "    print inputThreshold\n",
    "    indices = []\n",
    "    for i in range(len(inputPlasmidSignal)):\n",
    "        if inputPlasmidSignal[i] > inputThreshold:\n",
    "            indices.append(i)\n",
    "    nPointsByPlasmidInput.append(len(indices))\n",
    "    biorep1AboveThreshold = np.take(biorep1Signal, indices)\n",
    "    biorep2AboveThreshold = np.take(biorep2Signal, indices)\n",
    "    r = pearsonr(biorep1AboveThreshold, biorep2AboveThreshold)\n",
    "    rho = spearmanr(biorep1AboveThreshold, biorep2AboveThreshold)\n",
    "    correlationsByPlasmidInput.append((r, rho))"
   ]
  },
  {
   "cell_type": "code",
   "execution_count": null,
   "metadata": {
    "collapsed": false
   },
   "outputs": [],
   "source": [
    "# plasmidThresholds = np.array(plasmidThresholds)\n",
    "# correlationsByPlasmidInput = np.array(correlationsByPlasmidInput)\n",
    "# print plasmidThresholds.shape\n",
    "# print correlationsByPlasmidInput.shape\n",
    "\n",
    "# print len(plasmidThresholds)\n",
    "# print len(correlationsByPlasmidInput)\n",
    "# print nPointsByPlasmidInput\n",
    "\n",
    "significantPlasmidThresholds = plasmidThresholds\n",
    "significantCorrelationsByPlasmidInput = correlationsByPlasmidInput\n",
    "indices = []\n",
    "for i in range(len(significantCorrelationsByPlasmidInput)):\n",
    "    corr = significantCorrelationsByPlasmidInput[i]\n",
    "    if corr[1, 1] < 0.01:\n",
    "        indices.append(i)\n",
    "\n",
    "significantCorrelationsByPlasmidInput = significantCorrelationsByPlasmidInput[indices]\n",
    "significantPlasmidThresholds = significantPlasmidThresholds[indices]\n",
    "\n",
    "print(np.array(nPointsByPlasmidInput)[indices])\n",
    "\n",
    "plt.figure(dpi=150)\n",
    "ax = sns.jointplot(significantPlasmidThresholds, \n",
    "                   significantCorrelationsByPlasmidInput[:, 1, 0], \n",
    "                   color = 'g',\n",
    "                   joint_kws={'s':25, 'alpha':0.6, 'edgecolor':'white'},\n",
    "                   stat_func = spearmanr);\n",
    "ax.set_axis_labels(xlabel='Input Plasmid Threshold (reads per billion)', ylabel='Replicate Spearman Correlation');\n",
    "# ax.set_xlim([-20,200]);\n",
    "plt.show()"
   ]
  },
  {
   "cell_type": "code",
   "execution_count": null,
   "metadata": {
    "collapsed": false
   },
   "outputs": [],
   "source": [
    "print \"Percent of fragments in BioRep1 with nonzero signal is \" + \\\n",
    "str(100.0 * len(biorep1Signal[biorep1Signal != 0]) / len(biorep1Signal)) + \"%.\"\n",
    "print \"Percent of fragments in BioRep2 with nonzero signal is \" + \\\n",
    "str(100.0 * len(biorep2Signal[biorep2Signal != 0]) / len(biorep2Signal)) + \"%.\"\n",
    "# print len(biorep1Signal)"
   ]
  },
  {
   "cell_type": "code",
   "execution_count": null,
   "metadata": {
    "collapsed": false
   },
   "outputs": [],
   "source": [
    "# (10^(log(1.53e8/100)/100))^5 = 2.04\n",
    "nTopPoints = np.logspace(2, np.log10(len(biorep1Signal)), num = 100, base = 10.0) \n",
    "nTopPoints = np.floor(nTopPoints)\n",
    "avgSignal = (biorep1Signal + biorep2Signal)/2\n",
    "print \"sorting average signals\"\n",
    "sortedAvgSignal = np.argsort(avgSignal)\n",
    "replicateCorrs = np.ndarray(shape = (len(nTopPoints), 2), dtype = float)\n",
    "\n",
    "print \"calculating replicate correlations for top N points\"\n",
    "for i in range(len(nTopPoints)):\n",
    "    N = nTopPoints[i]\n",
    "    if i % 5 == 0:\n",
    "        print N\n",
    "    topIndices = sortedAvgSignal[-N:]\n",
    "    replicateCorrs[i] = spearmanr(biorep1Signal[topIndices], biorep2Signal[topIndices])"
   ]
  },
  {
   "cell_type": "code",
   "execution_count": null,
   "metadata": {
    "collapsed": false
   },
   "outputs": [],
   "source": [
    "import sys\n",
    "# print nTopPoints\n",
    "# print replicateCorrs[:, 0]\n",
    "# print replicateCorrs[-20 : ]\n",
    "# print nTopPoints[-20 : ]\n",
    "# significantCorrIndices = replicateCorrs[:, 1] < 0.01\n",
    "# print significantCorrIndices\n",
    "# print replicateCorrs[-1, 0]\n",
    "# sys.exit(0)\n",
    "plt.figure(dpi=150)\n",
    "ax = sns.jointplot(np.log10(nTopPoints[significantCorrIndices]), \n",
    "                   replicateCorrs[:, 0][significantCorrIndices], \n",
    "                   color = 'g',\n",
    "                   joint_kws={'s':25, 'alpha':0.6, 'edgecolor':'white'},\n",
    "                   stat_func = spearmanr);\n",
    "ax.set_axis_labels(xlabel='Log10(Number of Points)', ylabel='Replicate Spearman Correlation');\n",
    "# ax.set_xlim([-20,200]);\n",
    "plt.show()"
   ]
  },
  {
   "cell_type": "code",
   "execution_count": null,
   "metadata": {
    "collapsed": false
   },
   "outputs": [],
   "source": [
    "allIndices = np.arange(len(biorep1Signal))\n",
    "nonzeroIndices = np.intersect1d(allIndices[biorep1Signal != 0], allIndices[biorep2Signal != 0])\n",
    "print len(nonzeroIndices)"
   ]
  },
  {
   "cell_type": "code",
   "execution_count": null,
   "metadata": {
    "collapsed": false
   },
   "outputs": [],
   "source": [
    "print spearmanr(biorep1Signal[nonzeroIndices], biorep2Signal[nonzeroIndices])"
   ]
  },
  {
   "cell_type": "code",
   "execution_count": null,
   "metadata": {
    "collapsed": false
   },
   "outputs": [],
   "source": [
    "nonzeroPointNumbers = np.floor(np.logspace(2, np.log10(len(nonzeroIndices)), num = 100, base = 10.0))\n",
    "nonzeroPointNumbers = nonzeroPointNumbers[::-1]\n",
    "avgNonzero = avgSignal[nonzeroIndices]\n",
    "biorep1Nonzero = biorep1Signal[nonzeroIndices]\n",
    "biorep2Nonzero = biorep2Signal[nonzeroIndices]\n",
    "# print spearmanr(biorep1Nonzero, biorep2Nonzero)\n",
    "# print spearmanr(avgNonzero, biorep1Nonzero)\n",
    "# print spearmanr(avgNonzero, biorep2Nonzero)\n",
    "# sys.exit()\n",
    "sortedAvgNonzero = np.argsort(avgNonzero)\n",
    "nonzeroReplicateCorrs = np.ndarray(shape = (len(nonzeroPointNumbers), 2), dtype = float)\n",
    "\n",
    "print \"calculating replicate correlations for top N nonzero points\"\n",
    "for i in range(len(nonzeroPointNumbers)):\n",
    "    N = nonzeroPointNumbers[i]\n",
    "#     topNonzeroIndices = sortedAvgNonzero[-N:][::-1]\n",
    "    topNonzeroIndices = sortedAvgNonzero[-N : ][::-1]\n",
    "    nonzeroReplicateCorrs[i] = spearmanr(biorep1Nonzero[topNonzeroIndices], \n",
    "                                         biorep2Nonzero[topNonzeroIndices])\n",
    "    if i % 1 == 0:\n",
    "        print str(N) + \" points: \" + str(nonzeroReplicateCorrs[i])\n",
    "#     sys.exit(0)"
   ]
  },
  {
   "cell_type": "code",
   "execution_count": null,
   "metadata": {
    "collapsed": false
   },
   "outputs": [],
   "source": [
    "print sure"
   ]
  },
  {
   "cell_type": "code",
   "execution_count": null,
   "metadata": {
    "collapsed": false
   },
   "outputs": [],
   "source": [
    "import shutil\n",
    "\n",
    "signal = open('SUREfragmentsignal.txt')\n",
    "newsignal = open('SUREfragmentsignal2.txt', 'w')\n",
    "signal.readline()\n",
    "newfirstline = ('chr\\tstart\\tend\\tstrand\\tBiorep1Signal\\tBiorep2Signal\\tAverageSignal\\nchr1\\t9988\\t10280\\t-\\t0.0\\t0.0\\t0.0\\t12.5\\n')\n",
    "newsignal.write(newfirstline)\n",
    "shutil.copyfileobj(signal, newsignal)"
   ]
  },
  {
   "cell_type": "code",
   "execution_count": null,
   "metadata": {
    "collapsed": false
   },
   "outputs": [],
   "source": [
    "signal1 = open('SUREfragmentsignal.txt', 'r')\n",
    "signal2 = open('SUREfragmentsignal2.txt', 'r')\n",
    "\n",
    "print len(biorep1Signal)\n",
    "\n",
    "# rep1Data = []\n",
    "rep2Data = []\n",
    "# rep1Data = np.ndarray(shape = (len(biorep1Signal), 7), dtype = 'str')\n",
    "# rep2Data = np.ndarray(shape = (len(biorep2Signal), 7), dtype = 'str')\n",
    "\n",
    "headerBad = signal1.readline()\n",
    "signal2Header = signal2.readline()\n",
    "line1 = signal2.readline()\n",
    "signal2.close()\n",
    "line1 = line1.strip().split('\\t')\n",
    "# rep1Data.append([line1[0], line1[1], line1[2], 0, 0, line1[3], line1[4]])\n",
    "rep2Data.append([line1[0], line1[1], line1[2], 0, 0, line1[3], line1[5]])\n",
    "\n",
    "i = 1\n",
    "for line in signal1:\n",
    "    line = line.strip().split('\\t')\n",
    "#     try:\n",
    "#         rep1Data.append([line[0], line[1], line[2], i, 0, line[3], line[4]])\n",
    "#     except:\n",
    "#         print line\n",
    "    rep2Data.append([line[0], line[1], line[2], i, 0, line[3], line[5]])\n",
    "#     rep1Data[i] = [line[0], line[1], line[2], i, 0, line[3], line[4]]\n",
    "#     rep2Data[i] = [line[0], line[1], line[2], i, 0, line[3], line[5]]\n",
    "\n",
    "# rep1Data = np.array(rep1Data)\n",
    "rep2Data = np.array(rep2Data)"
   ]
  },
  {
   "cell_type": "code",
   "execution_count": null,
   "metadata": {
    "collapsed": true
   },
   "outputs": [],
   "source": [
    "# line1 = line1.strip().split('\\t')\n",
    "# rep1Data[0] = [line1[0], line1[1], line1[2], 0, 0, line1[3], line1[4]]\n",
    "# rep2Data[0] = [line1[0], line1[1], line1[2], 0, 0, line1[3], line1[5]]"
   ]
  },
  {
   "cell_type": "code",
   "execution_count": null,
   "metadata": {
    "collapsed": true
   },
   "outputs": [],
   "source": [
    "# print rep1Data[0:2, 6].astype(np.float)\n",
    "# print rep1Data[0]\n",
    "rep1Data = rep1Data[np.argsort(rep1Data[:, 6].astype(np.float))[::-1]]"
   ]
  },
  {
   "cell_type": "code",
   "execution_count": null,
   "metadata": {
    "collapsed": false
   },
   "outputs": [],
   "source": [
    "rep2Data = rep2Data[np.argsort(rep2Data[:, 6].astype(np.float))[::-1]]"
   ]
  },
  {
   "cell_type": "code",
   "execution_count": null,
   "metadata": {
    "collapsed": false
   },
   "outputs": [],
   "source": [
    "print rep1Data.shape\n",
    "print rep1Data.dtype\n",
    "print rep1Data[:10]\n",
    "print rep2Data[:10]"
   ]
  },
  {
   "cell_type": "code",
   "execution_count": null,
   "metadata": {
    "collapsed": true
   },
   "outputs": [],
   "source": [
    "rep1Data[:, 3] = np.arange(len(rep1Data))\n",
    "rep2Data[:, 3] = np.arange(len(rep2Data))\n",
    "rep1Data[:, 4] = rep1Data[:, 6]\n",
    "rep2Data[:, 4] = rep2Data[:, 6]"
   ]
  },
  {
   "cell_type": "code",
   "execution_count": null,
   "metadata": {
    "collapsed": true
   },
   "outputs": [],
   "source": [
    "rep1Data = rep1Data[: , 0:6]\n",
    "rep2Data = rep2Data[: , 0:6]"
   ]
  },
  {
   "cell_type": "code",
   "execution_count": null,
   "metadata": {
    "collapsed": false
   },
   "outputs": [],
   "source": [
    "# print np.zeros((len(rep1Data), 3)).shape\n",
    "rep1Data = np.concatenate((rep1Data, np.zeros((len(rep1Data), 3))), axis = 1)\n",
    "rep2Data = np.concatenate((rep2Data, np.zeros((len(rep2Data), 3))), axis = 1)"
   ]
  },
  {
   "cell_type": "code",
   "execution_count": null,
   "metadata": {
    "collapsed": false
   },
   "outputs": [],
   "source": [
    "print rep1Data.shape\n",
    "print rep2Data.shape"
   ]
  },
  {
   "cell_type": "code",
   "execution_count": null,
   "metadata": {
    "collapsed": false
   },
   "outputs": [],
   "source": [
    "header1 = 'chr\\tstart\\tend\\tname\\tsignal\\tstrand\\tfill1\\tfill2\\tfill3\\n'\n",
    "header2 = 'chr\\tstart\\tend\\tname\\tsignal\\tstrand\\tfill1\\tfill2\\tfill3\\n'\n",
    "np.savetxt(fname = 'SUREfragmentsignalreplicate1fixed.bed',\n",
    "           fmt = '%s',\n",
    "           X = rep1Data,\n",
    "           delimiter = '\\t', \n",
    "           header = header1,\n",
    "           comments='# ')\n",
    "np.savetxt(fname = 'SUREfragmentsignalreplicate2fixed.bed',\n",
    "           fmt = '%s',\n",
    "           X = rep2Data,\n",
    "           delimiter = '\\t', \n",
    "           header = header2,\n",
    "           comments='# ')"
   ]
  },
  {
   "cell_type": "code",
   "execution_count": null,
   "metadata": {
    "collapsed": true
   },
   "outputs": [],
   "source": [
    "!idr --samples SUREfragmentsignalreplicate1fixed.bed SUREfragmentsignalreplicate2fixed.bed --input-file-type bed --rank 4 --plot"
   ]
  },
  {
   "cell_type": "code",
   "execution_count": null,
   "metadata": {
    "collapsed": false
   },
   "outputs": [],
   "source": [
    "Npoints = int(1e7)\n",
    "Npoints = biorep1Signal.size\n",
    "# shuffle1 = np.random.random(biorep1Signal.size)\n",
    "# shuffle2 = np.random.random(biorep2Signal.size)\n",
    "shuffle1 = np.random.random(Npoints)\n",
    "shuffle2 = np.random.random(Npoints)\n",
    "randomIndices = np.random.choice(np.arange(len(biorep1Signal)), Npoints, replace = False)\n",
    "biorep1Ranks = np.lexsort((shuffle1, np.take(biorep1Signal, randomIndices)))\n",
    "biorep2Ranks = np.lexsort((shuffle2, np.take(biorep2Signal, randomIndices)))\n",
    "print spearmanr(biorep1Ranks, biorep2Ranks)"
   ]
  },
  {
   "cell_type": "code",
   "execution_count": null,
   "metadata": {
    "collapsed": true
   },
   "outputs": [],
   "source": [
    "del sure"
   ]
  },
  {
   "cell_type": "code",
   "execution_count": null,
   "metadata": {
    "collapsed": false
   },
   "outputs": [],
   "source": [
    "print(len(sure.keys()))"
   ]
  },
  {
   "cell_type": "code",
   "execution_count": null,
   "metadata": {
    "collapsed": true
   },
   "outputs": [],
   "source": [
    "outfile.close()"
   ]
  },
  {
   "cell_type": "code",
   "execution_count": null,
   "metadata": {
    "collapsed": true
   },
   "outputs": [],
   "source": [
    "f.close()"
   ]
  },
  {
   "cell_type": "code",
   "execution_count": null,
   "metadata": {
    "collapsed": false,
    "scrolled": true
   },
   "outputs": [],
   "source": [
    "import sys\n",
    "for variable in dir():\n",
    "    print variable\n",
    "    print sys.getsizeof(variable)"
   ]
  },
  {
   "cell_type": "code",
   "execution_count": null,
   "metadata": {
    "collapsed": false
   },
   "outputs": [],
   "source": [
    "values = {}\n",
    "\n",
    "peaks1 = open('idrValues.txt').readlines()\n",
    "print \"Number of peaks from IDR run 1 = \" + str(len(peaks1))\n",
    "counts1 = [0, 0, 0]\n",
    "for peak in peaks1:\n",
    "    peak = peak.strip().split('\\t')\n",
    "    score = float(peak[4])\n",
    "    if score not in values:\n",
    "        values[score] = 0\n",
    "    values[score] += 1\n",
    "    if score >= 540:\n",
    "        counts1[0] += 1\n",
    "    if score >= 415:\n",
    "        counts1[1] += 1\n",
    "    if score >= 830:\n",
    "        counts1[2] += 1\n",
    "\n",
    "print str(100.0*counts1[2] / len(peaks1)) + \"% peaks passing threshold 0.01 for IDR run 1\"\n",
    "print str(100.0*counts1[0] / len(peaks1)) + \"% peaks passing threshold 0.05 for IDR run 1\"\n",
    "print str(100.0*counts1[1] / len(peaks1)) + \"% peaks passing threshold 0.10 for IDR run 1\"\n",
    "\n",
    "# peaks2 = open('idrValues2.txt').readlines()\n",
    "# print \"Number of peaks from IDR run 2 = \" + str(len(peaks2))\n",
    "# counts2 = [0, 0]\n",
    "# for peak in peaks2:\n",
    "#     peak = peak.strip().split('\\t')\n",
    "#     score = float(peak[4])\n",
    "#     if score not in values:\n",
    "#         values[score] = 0\n",
    "#     values[score] += 1\n",
    "#     if score >= 540:\n",
    "#         counts2[0] += 1\n",
    "#     if score >= 415:\n",
    "#         counts2[1] += 1\n",
    "\n",
    "# print str(100.0*counts2[0] / len(peaks2)) + \"% peaks passing threshold 0.05 for IDR run 2\"\n",
    "# print str(100.0*counts2[1] / len(peaks2)) + \"% peaks passing threshold 0.10 for IDR run 2\"\n",
    "\n",
    "print values"
   ]
  },
  {
   "cell_type": "markdown",
   "metadata": {
    "collapsed": true
   },
   "source": [
    "# Preparing for IDR run 2, with each fragment unique"
   ]
  },
  {
   "cell_type": "code",
   "execution_count": null,
   "metadata": {
    "collapsed": false
   },
   "outputs": [],
   "source": [
    "import numpy as np\n",
    "\n",
    "signal = open('SUREfragmentsignal3.txt')\n",
    "\n",
    "header = signal.readline()\n",
    "i=0\n",
    "rep1Data = []\n",
    "rep2Data = []\n",
    "avgData = []\n",
    "for line in signal:\n",
    "    if i % 1e7 == 0:\n",
    "        print i\n",
    "    line = line.strip().split('\\t')\n",
    "    if float(line[4]) == 0 or float(line[5]) == 0:\n",
    "        i += 1\n",
    "        continue\n",
    "    name = line[0] + \":\" + line[1] + \",\" + line[2] + line[3]\n",
    "    if i < 1e8:\n",
    "        newChr = 'chr1'\n",
    "        start = 2*i + 1e5 # 2 so that there's no chance of overlap, 1e5 to offset to avoid finicky starting effects\n",
    "        end = start + 1\n",
    "    else:\n",
    "        newChr = 'chr2' \n",
    "        start = 2*(i - 1e8) + 1e5\n",
    "        end = start + 1\n",
    "    rep1Data.append([newChr, start, end, name, line[4], '.', 0, 0, 0])\n",
    "    rep2Data.append([newChr, start, end, name, line[5], '.', 0, 0, 0])\n",
    "    avgData.append(float(line[6]))\n",
    "    if i < 10:\n",
    "        print [newChr, start, end, name, str(line[4]), '.', 0, 0, 0]\n",
    "        print [newChr, start, end, name, str(line[5]), '.', 0, 0, 0]\n",
    "    i += 1"
   ]
  },
  {
   "cell_type": "code",
   "execution_count": null,
   "metadata": {
    "collapsed": false
   },
   "outputs": [],
   "source": [
    "rep1Data = np.array(rep1Data)\n",
    "rep2Data = np.array(rep2Data)\n",
    "avgData = np.array(avgData)"
   ]
  },
  {
   "cell_type": "code",
   "execution_count": null,
   "metadata": {
    "collapsed": false
   },
   "outputs": [],
   "source": [
    "print avgData[:10]"
   ]
  },
  {
   "cell_type": "code",
   "execution_count": null,
   "metadata": {
    "collapsed": false
   },
   "outputs": [],
   "source": [
    "topN = 6e6\n",
    "# topIndices = np.argsort(avgData)[-topN:]\n",
    "topIndices = np.random.choice(np.arange(len(avgData)), topN)"
   ]
  },
  {
   "cell_type": "code",
   "execution_count": null,
   "metadata": {
    "collapsed": false
   },
   "outputs": [],
   "source": [
    "print avgData[topIndices][-10:]\n",
    "print len(topIndices)\n",
    "print topIndices[-10:]"
   ]
  },
  {
   "cell_type": "code",
   "execution_count": null,
   "metadata": {
    "collapsed": false
   },
   "outputs": [],
   "source": [
    "topRep1Data = rep1Data[topIndices]\n",
    "topRep2Data = rep2Data[topIndices]\n",
    "topRep1Data = np.array(topRep1Data).astype(np.str)\n",
    "topRep2Data = np.array(topRep2Data).astype(np.str)\n",
    "print topRep1Data.shape\n",
    "print topRep2Data.shape"
   ]
  },
  {
   "cell_type": "code",
   "execution_count": null,
   "metadata": {
    "collapsed": false
   },
   "outputs": [],
   "source": [
    "topRep1Data = topRep1Data[np.argsort(topRep1Data[:, 4].astype(np.float))[::-1]]\n",
    "topRep2Data = topRep2Data[np.argsort(topRep2Data[:, 4].astype(np.float))[::-1]]\n",
    "topRep1Data[:, 1:3] = topRep1Data[:, 1:3].astype(np.float).astype(np.int32).astype(np.str)\n",
    "topRep2Data[:, 1:3] = topRep2Data[:, 1:3].astype(np.float).astype(np.int32).astype(np.str)\n",
    "print topRep1Data[:5]\n",
    "print topRep2Data[:5]"
   ]
  },
  {
   "cell_type": "code",
   "execution_count": null,
   "metadata": {
    "collapsed": true
   },
   "outputs": [],
   "source": [
    "header1 = 'chr\\tstart\\tend\\tname\\tsignal\\tstrand\\tfill1\\tfill2\\tfill3\\n'\n",
    "header2 = 'chr\\tstart\\tend\\tname\\tsignal\\tstrand\\tfill1\\tfill2\\tfill3\\n'\n",
    "np.savetxt(fname = 'idrSureMappedFragmentsRandom' + str(int(topN)) + 'Replicate1.bed',\n",
    "           fmt = '%s',\n",
    "           X = topRep1Data,\n",
    "           delimiter = '\\t', \n",
    "           header = header1,\n",
    "           comments='# ')\n",
    "np.savetxt(fname = 'idrSureMappedFragmentsRandom' + str(int(topN)) + 'Replicate2.bed',\n",
    "           fmt = '%s',\n",
    "           X = topRep2Data,\n",
    "           delimiter = '\\t', \n",
    "           header = header2,\n",
    "           comments='# ')"
   ]
  },
  {
   "cell_type": "code",
   "execution_count": null,
   "metadata": {
    "collapsed": false
   },
   "outputs": [],
   "source": [
    "rep1Data = np.array(rep1Data).astype(np.str)\n",
    "rep2Data = np.array(rep2Data).astype(np.str)\n",
    "print rep1Data.shape\n",
    "print rep2Data.shape"
   ]
  },
  {
   "cell_type": "code",
   "execution_count": null,
   "metadata": {
    "collapsed": true
   },
   "outputs": [],
   "source": [
    "rep1Data = rep1Data[np.argsort(rep1Data[:, 4].astype(np.float))[::-1]]\n",
    "rep2Data = rep2Data[np.argsort(rep2Data[:, 4].astype(np.float))[::-1]]"
   ]
  },
  {
   "cell_type": "code",
   "execution_count": null,
   "metadata": {
    "collapsed": false
   },
   "outputs": [],
   "source": [
    "rep1Data[:, 1:3] = rep1Data[:, 1:3].astype(np.float).astype(np.int32).astype(np.str)\n",
    "rep2Data[:, 1:3] = rep2Data[:, 1:3].astype(np.float).astype(np.int32).astype(np.str)"
   ]
  },
  {
   "cell_type": "code",
   "execution_count": null,
   "metadata": {
    "collapsed": false
   },
   "outputs": [],
   "source": [
    "print rep1Data[:3]\n",
    "print rep2Data[:3]"
   ]
  },
  {
   "cell_type": "code",
   "execution_count": null,
   "metadata": {
    "collapsed": true
   },
   "outputs": [],
   "source": [
    "header1 = 'chr\\tstart\\tend\\tname\\tsignal\\tstrand\\tfill1\\tfill2\\tfill3\\n'\n",
    "header2 = 'chr\\tstart\\tend\\tname\\tsignal\\tstrand\\tfill1\\tfill2\\tfill3\\n'\n",
    "np.savetxt(fname = 'idrBothPositiveSureMappedFragmentsReplicate1.bed',\n",
    "           fmt = '%s',\n",
    "           X = rep1Data,\n",
    "           delimiter = '\\t', \n",
    "           header = header1,\n",
    "           comments='# ')\n",
    "np.savetxt(fname = 'idrBothPositiveSureMappedFragmentsReplicate2.bed',\n",
    "           fmt = '%s',\n",
    "           X = rep2Data,\n",
    "           delimiter = '\\t', \n",
    "           header = header2,\n",
    "           comments='# ')"
   ]
  },
  {
   "cell_type": "code",
   "execution_count": null,
   "metadata": {
    "collapsed": true
   },
   "outputs": [],
   "source": [
    "NUM_READS_BIOREP1 = float(37770653.0)\n",
    "NUM_READS_BIOREP2 = 74081034.0\n",
    "TOTAL_READS = NUM_READS_BIOREP1 + NUM_READS_BIOREP2\n",
    "WEIGHT_REP1 = NUM_READS_BIOREP1 / TOTAL_READS\n",
    "WEIGHT_REP2 = NUM_READS_BIOREP2 / TOTAL_READS\n",
    "topN = 3e6\n",
    "avgData = WEIGHT_REP1 * rep1Data[:, 4].astype(np.float) + WEIGHT_REP2 * rep2Data[:, 4].astype(np.float)"
   ]
  },
  {
   "cell_type": "code",
   "execution_count": null,
   "metadata": {
    "collapsed": false
   },
   "outputs": [],
   "source": [
    "print avgData[:10]"
   ]
  },
  {
   "cell_type": "code",
   "execution_count": null,
   "metadata": {
    "collapsed": true
   },
   "outputs": [],
   "source": []
  }
 ],
 "metadata": {
  "anaconda-cloud": {},
  "kernelspec": {
   "display_name": "Python [conda root]",
   "language": "python",
   "name": "conda-root-py"
  },
  "language_info": {
   "codemirror_mode": {
    "name": "ipython",
    "version": 2
   },
   "file_extension": ".py",
   "mimetype": "text/x-python",
   "name": "python",
   "nbconvert_exporter": "python",
   "pygments_lexer": "ipython2",
   "version": "2.7.12"
  }
 },
 "nbformat": 4,
 "nbformat_minor": 1
}
