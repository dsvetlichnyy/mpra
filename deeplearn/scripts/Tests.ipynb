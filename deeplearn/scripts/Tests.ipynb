{
 "cells": [
  {
   "cell_type": "markdown",
   "metadata": {},
   "source": [
    "# Test GPU-accelerated XGB"
   ]
  },
  {
   "cell_type": "code",
   "execution_count": 2,
   "metadata": {
    "collapsed": false
   },
   "outputs": [],
   "source": [
    "import xgboost\n",
    "import numpy as np\n",
    "import sklearn"
   ]
  },
  {
   "cell_type": "code",
   "execution_count": 3,
   "metadata": {
    "collapsed": false
   },
   "outputs": [
    {
     "name": "stdout",
     "output_type": "stream",
     "text": [
      "/home/users/rmovva/anaconda2/bin/python\r\n"
     ]
    }
   ],
   "source": [
    "!which python"
   ]
  },
  {
   "cell_type": "code",
   "execution_count": 4,
   "metadata": {
    "collapsed": true
   },
   "outputs": [],
   "source": [
    "!module load cuda\n",
    "!module load cudnn"
   ]
  },
  {
   "cell_type": "code",
   "execution_count": 5,
   "metadata": {
    "collapsed": false
   },
   "outputs": [],
   "source": [
    "X_train = np.random.random((1000000, 10))\n",
    "y_train = np.random.random(1000000)"
   ]
  },
  {
   "cell_type": "code",
   "execution_count": 6,
   "metadata": {
    "collapsed": false
   },
   "outputs": [],
   "source": [
    "model_cpu = xgboost.XGBRegressor(max_depth = 6, \n",
    "                             learning_rate = 0.05,\n",
    "                             n_estimators = 25,\n",
    "                             objective = 'reg:linear',\n",
    "                             silent = False,\n",
    "                             random_state = 0,\n",
    "                             reg_lambda=0,\n",
    "                             reg_alpha=0\n",
    "                            )\n",
    "\n",
    "model_gpu = xgboost.XGBRegressor(max_depth = 6, \n",
    "                             learning_rate = 0.05,\n",
    "                             n_estimators = 25,\n",
    "                             objective = 'reg:linear',\n",
    "                             silent = False,\n",
    "                             updater = 'grow_gpu', # train on GPU\n",
    "                             random_state = 0,\n",
    "                             reg_lambda=0,\n",
    "                             reg_alpha=0,\n",
    "                             gpu_id=3\n",
    "                            )\n",
    "\n",
    "model_cpu_hist = xgboost.XGBRegressor(max_depth = 6, \n",
    "                             learning_rate = 0.05,\n",
    "                             n_estimators = 25,\n",
    "                             objective = 'reg:linear',\n",
    "                             silent = False,\n",
    "                             tree_method = 'hist',\n",
    "                             random_state = 0,\n",
    "                             reg_lambda=0,\n",
    "                             reg_alpha=0\n",
    "                            )\n",
    "\n",
    "model_gpu_hist = xgboost.XGBRegressor(max_depth = 6, \n",
    "                             learning_rate = 0.05,\n",
    "                             n_estimators = 25,\n",
    "                             objective = 'reg:linear',\n",
    "                             silent = False,\n",
    "                             updater = 'grow_gpu', # train on GPU\n",
    "                             tree_method = 'hist',\n",
    "                             random_state = 0,\n",
    "                             reg_lambda=0,\n",
    "                             reg_alpha=0,\n",
    "                             gpu_id=3\n",
    "                            )"
   ]
  },
  {
   "cell_type": "code",
   "execution_count": 7,
   "metadata": {
    "collapsed": false
   },
   "outputs": [
    {
     "name": "stdout",
     "output_type": "stream",
     "text": [
      "Training on CPU (tree_method = exact) took 110.519 s\n",
      "Training on GPU (tree_method = exact) took 6.564 s\n",
      "Training on CPU (tree_method = hist) took 10.665 s\n",
      "Training on GPU (tree_method = hist) took 10.673 s\n"
     ]
    }
   ],
   "source": [
    "import time\n",
    "\n",
    "t0 = time.time()\n",
    "model_cpu.fit(X_train, y_train)\n",
    "print(\"Training on CPU (tree_method = exact) took %.3f s\" % (time.time() - t0))\n",
    "\n",
    "t0 = time.time()\n",
    "model_gpu.fit(X_train, y_train)\n",
    "print(\"Training on GPU (tree_method = exact) took %.3f s\" % (time.time() - t0))\n",
    "    \n",
    "t0 = time.time()\n",
    "model_cpu_hist.fit(X_train, y_train)\n",
    "print(\"Training on CPU (tree_method = hist) took %.3f s\" % (time.time() - t0))\n",
    "\n",
    "t0 = time.time()\n",
    "model_gpu_hist.fit(X_train, y_train)\n",
    "print(\"Training on GPU (tree_method = hist) took %.3f s\" % (time.time() - t0))"
   ]
  },
  {
   "cell_type": "code",
   "execution_count": 8,
   "metadata": {
    "collapsed": false
   },
   "outputs": [
    {
     "name": "stdout",
     "output_type": "stream",
     "text": [
      "SpearmanrResult(correlation=0.026486012825428468, pvalue=3.1546097072435049e-09)\n",
      "SpearmanrResult(correlation=0.026486173415435754, pvalue=3.153920281607462e-09)\n",
      "SpearmanrResult(correlation=0.049845568098914668, pvalue=6.9652413767016198e-29)\n",
      "SpearmanrResult(correlation=0.049845568098914668, pvalue=6.9652413767016198e-29)\n"
     ]
    }
   ],
   "source": [
    "eval_size = 50000\n",
    "\n",
    "y_pred_cpu = model_cpu.predict(X_train[:eval_size])\n",
    "y_pred_gpu = model_gpu.predict(X_train[:eval_size])\n",
    "y_pred_cpuhist = model_cpu_hist.predict(X_train[:eval_size])\n",
    "y_pred_gpuhist = model_gpu_hist.predict(X_train[:eval_size])\n",
    "\n",
    "from scipy.stats import spearmanr\n",
    "\n",
    "print(spearmanr(y_pred_cpu, y_train[:eval_size]))\n",
    "print(spearmanr(y_pred_gpu, y_train[:eval_size]))\n",
    "print(spearmanr(y_pred_cpuhist, y_train[:eval_size]))\n",
    "print(spearmanr(y_pred_gpuhist, y_train[:eval_size]))"
   ]
  },
  {
   "cell_type": "code",
   "execution_count": null,
   "metadata": {
    "collapsed": true
   },
   "outputs": [],
   "source": []
  }
 ],
 "metadata": {
  "anaconda-cloud": {},
  "kernelspec": {
   "display_name": "Python [conda env:xgb]",
   "language": "python",
   "name": "conda-env-xgb-py"
  },
  "language_info": {
   "codemirror_mode": {
    "name": "ipython",
    "version": 2
   },
   "file_extension": ".py",
   "mimetype": "text/x-python",
   "name": "python",
   "nbconvert_exporter": "python",
   "pygments_lexer": "ipython2",
   "version": "2.7.13"
  }
 },
 "nbformat": 4,
 "nbformat_minor": 2
}
