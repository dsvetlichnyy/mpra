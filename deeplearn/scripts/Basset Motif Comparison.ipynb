{
 "cells": [
  {
   "cell_type": "code",
   "execution_count": 1,
   "metadata": {
    "collapsed": false
   },
   "outputs": [
    {
     "name": "stdout",
     "output_type": "stream",
     "text": [
      "[u'activation_1', u'activation_2', u'activation_3', u'batchnormalization_1', u'batchnormalization_2', u'batchnormalization_3', u'batchnormalization_4', u'batchnormalization_5', u'convolution1d_1', u'convolution1d_2', u'convolution1d_3', u'dense_1', u'dense_2', u'dense_3', u'dropout_1', u'dropout_2', u'flatten_1', u'maxpooling1d_1', u'maxpooling1d_2', u'maxpooling1d_3', u'prelu_1', u'prelu_2']\n"
     ]
    }
   ],
   "source": [
    "import h5py\n",
    "\n",
    "modelID = \"record_2_model_88vVF_\"\n",
    "weightsFileName = \"../model_files/regression_jul3_strands_augmented/\" + modelID + \"modelWeights.h5\"\n",
    "weights = h5py.File(weightsFileName, 'r')\n",
    "print weights.keys()"
   ]
  },
  {
   "cell_type": "code",
   "execution_count": 2,
   "metadata": {
    "collapsed": false
   },
   "outputs": [
    {
     "name": "stdout",
     "output_type": "stream",
     "text": [
      "(19, 1, 4, 100)\n",
      "(100,)\n"
     ]
    }
   ],
   "source": [
    "import numpy as np\n",
    "\n",
    "layer = 'convolution1d_1'\n",
    "# print np.array(weights[layer][str(layer + '_W')])\n",
    "conv1_weights = np.array(weights[layer][str(layer + '_W')])\n",
    "conv1_biases = np.array(weights[layer][str(layer + '_b')])\n",
    "print conv1_weights.shape\n",
    "print conv1_biases.shape"
   ]
  },
  {
   "cell_type": "code",
   "execution_count": 3,
   "metadata": {
    "collapsed": false
   },
   "outputs": [],
   "source": [
    "val_data_path = \"../hdf5files/regression_jul3_strands_augmented_rep2only/valid_data.hdf5\"\n",
    "val_data = h5py.File(val_data_path)"
   ]
  },
  {
   "cell_type": "code",
   "execution_count": 4,
   "metadata": {
    "collapsed": false
   },
   "outputs": [
    {
     "name": "stdout",
     "output_type": "stream",
     "text": [
      "(205984, 2000, 4)\n"
     ]
    }
   ],
   "source": [
    "print val_data['X']['sequence'].shape"
   ]
  },
  {
   "cell_type": "code",
   "execution_count": 32,
   "metadata": {
    "collapsed": false
   },
   "outputs": [
    {
     "name": "stdout",
     "output_type": "stream",
     "text": [
      "Took ~2.0056s for sequences 98 to 1098\n",
      "Took ~3.0268s for sequences 1060 to 2060\n",
      "Took ~3.7409s for sequences 2057 to 3057\n",
      "Took ~4.8142s for sequences 3084 to 4084\n",
      "Took ~6.3423s for sequences 4015 to 5015\n",
      "Took ~7.5925s for sequences 5062 to 6062\n",
      "Took ~8.7622s for sequences 6011 to 7011\n",
      "Took ~9.9333s for sequences 7003 to 8003\n",
      "Took ~10.9842s for sequences 8070 to 9070\n",
      "Took ~12.3798s for sequences 9106 to 10106\n",
      "Took ~13.5531s for sequences 10022 to 11022\n",
      "Took ~14.8428s for sequences 11104 to 12104\n",
      "Took ~16.2545s for sequences 12092 to 13092\n",
      "Took ~17.0817s for sequences 13006 to 14006\n",
      "Took ~18.1439s for sequences 14047 to 15047\n",
      "Took ~19.4398s for sequences 15066 to 16066\n",
      "Took ~20.6167s for sequences 16054 to 17054\n",
      "Took ~21.4425s for sequences 17000 to 18000\n",
      "Took ~22.7375s for sequences 18016 to 19016\n",
      "Took ~23.5656s for sequences 19109 to 20109\n",
      "Took ~25.2063s for sequences 20130 to 21130\n",
      "Took ~26.1323s for sequences 21091 to 22091\n",
      "Took ~27.1774s for sequences 22084 to 23084\n",
      "Took ~28.3405s for sequences 23106 to 24106\n",
      "Took ~29.5054s for sequences 24036 to 25036\n",
      "Took ~31.9391s for sequences 25030 to 26030\n",
      "Took ~32.7036s for sequences 26022 to 27022\n",
      "Took ~33.3329s for sequences 27024 to 28024\n",
      "Took ~34.076s for sequences 28013 to 29013\n",
      "Took ~35.576s for sequences 29154 to 30154\n",
      "Took ~36.5747s for sequences 30054 to 31054\n",
      "Took ~37.8862s for sequences 31152 to 32152\n",
      "Took ~38.7019s for sequences 32014 to 33014\n",
      "Took ~39.7232s for sequences 33042 to 34042\n",
      "Took ~40.8473s for sequences 34061 to 35061\n",
      "Took ~41.7661s for sequences 35040 to 36040\n",
      "Took ~42.4802s for sequences 36088 to 37088\n",
      "Took ~44.0106s for sequences 37100 to 38100\n",
      "Took ~45.6429s for sequences 38132 to 39132\n",
      "Took ~47.0715s for sequences 39006 to 40006\n",
      "Took ~47.9897s for sequences 40063 to 41063\n",
      "Took ~49.0103s for sequences 41052 to 42052\n",
      "Took ~50.2416s for sequences 42088 to 43088\n",
      "Took ~50.8538s for sequences 43003 to 44003\n",
      "Took ~51.6715s for sequences 44093 to 45093\n",
      "Took ~52.6942s for sequences 45001 to 46001\n",
      "Took ~53.8132s for sequences 46056 to 47056\n",
      "Took ~55.035s for sequences 47052 to 48052\n",
      "Took ~55.8516s for sequences 48096 to 49096\n",
      "Took ~56.7692s for sequences 49063 to 50063\n",
      "Took ~57.6879s for sequences 50076 to 51076\n",
      "Took ~59.1221s for sequences 51096 to 52096\n",
      "Took ~60.0496s for sequences 52099 to 53099\n",
      "Took ~60.9716s for sequences 53122 to 54122\n",
      "Took ~61.7965s for sequences 54030 to 55030\n",
      "Took ~63.4565s for sequences 55044 to 56044\n",
      "Took ~64.7628s for sequences 56101 to 57101\n",
      "Took ~65.6667s for sequences 57026 to 58026\n",
      "Took ~66.6155s for sequences 58164 to 59164\n",
      "Took ~67.2253s for sequences 59034 to 60034\n",
      "Took ~68.2111s for sequences 60084 to 61084\n",
      "Took ~69.215s for sequences 61018 to 62018\n",
      "Took ~70.5285s for sequences 62128 to 63128\n",
      "Took ~71.5364s for sequences 63035 to 64035\n",
      "Took ~72.5966s for sequences 64081 to 65081\n",
      "Took ~73.5044s for sequences 65059 to 66059\n",
      "Took ~74.4061s for sequences 66106 to 67106\n",
      "Took ~75.2084s for sequences 67036 to 68036\n",
      "Took ~76.2122s for sequences 68078 to 69078\n",
      "Took ~77.2163s for sequences 69122 to 70122\n",
      "Took ~77.9237s for sequences 70019 to 71019\n",
      "Took ~79.438s for sequences 71026 to 72026\n",
      "Took ~80.2434s for sequences 72052 to 73052\n",
      "Took ~81.1498s for sequences 73062 to 74062\n",
      "Took ~82.3581s for sequences 74117 to 75117\n",
      "Took ~83.464s for sequences 75068 to 76068\n",
      "Took ~84.6111s for sequences 76003 to 77003\n",
      "Took ~85.5159s for sequences 77062 to 78062\n",
      "Took ~86.6212s for sequences 78100 to 79100\n",
      "Took ~87.7287s for sequences 79044 to 80044\n",
      "Took ~88.536s for sequences 80078 to 81078\n",
      "Took ~89.4393s for sequences 81191 to 82191\n",
      "Took ~90.2419s for sequences 82067 to 83067\n",
      "Took ~91.0471s for sequences 83013 to 84013\n",
      "Took ~92.0533s for sequences 84034 to 85034\n",
      "Took ~93.4613s for sequences 85041 to 86041\n",
      "Took ~94.4714s for sequences 86009 to 87009\n",
      "Took ~95.8418s for sequences 87112 to 88112\n",
      "Took ~97.4782s for sequences 88115 to 89115\n",
      "Took ~98.4248s for sequences 89054 to 90054\n",
      "Took ~99.8808s for sequences 90068 to 91068\n",
      "Took ~100.7171s for sequences 91064 to 92064\n",
      "Took ~101.6571s for sequences 92037 to 93037\n",
      "Took ~103.02s for sequences 93020 to 94020\n",
      "Took ~104.5013s for sequences 94076 to 95076\n",
      "Took ~105.4712s for sequences 95028 to 96028\n",
      "Took ~106.7073s for sequences 96062 to 97062\n",
      "Took ~107.7753s for sequences 97052 to 98052\n",
      "Took ~108.6078s for sequences 98146 to 99146\n",
      "Took ~109.3731s for sequences 99084 to 100084\n"
     ]
    }
   ],
   "source": [
    "import time\n",
    "t0 = time.time()\n",
    "\n",
    "numSequences = 1e5\n",
    "\n",
    "filter_length = conv1_weights.shape[0]\n",
    "stride = filter_length / 2\n",
    "val_sequences = []\n",
    "cnt = 0\n",
    "for seq in val_data['X']['sequence']:\n",
    "    if len(val_sequences) > numSequences:\n",
    "        break\n",
    "    seqLen = int(np.sum(seq))\n",
    "    \n",
    "    sliceIndices = np.arange(1000 - seqLen/2, 1000 + seqLen/2 - filter_length, stride)\n",
    "    slicer = lambda t: [t, t + filter_length]\n",
    "    sliceIndices = np.swapaxes(np.array(slicer(sliceIndices)), 0, 1)\n",
    "    \n",
    "    val_sequences += [seq[iin : iout] for iin, iout in sliceIndices]\n",
    "    if len(val_sequences) / 1000 > cnt / 1000:\n",
    "        cnt += len(sliceIndices)\n",
    "        print \"Took ~\" + str(round(time.time() - t0, 4)) + \"s for sequences \" + str(cnt-1000) + \" to \" + str(cnt)\n",
    "    else:\n",
    "        cnt += len(sliceIndices)\n",
    "#     if len(val_sequences) % 1000 == 0:\n",
    "#             cnt = len(val_sequences)\n",
    "#             print \"Took \" + str(round(time.time() - t0, 4)) + \"s for sequences \" + str(cnt-1000) + \" to \" + str(cnt)\n",
    "            \n",
    "#     for idx in startIndices:\n",
    "#         val_sequences.append(seq[idx : idx + filter_length])\n",
    "#         if len(val_sequences) % 1000 == 0:\n",
    "#             cnt = len(val_sequences)\n",
    "#             print \"Took \" + str(round(time.time() - t0, 4)) + \"s for sequences \" + str(cnt-1000) + \" to \" + str(cnt)"
   ]
  },
  {
   "cell_type": "code",
   "execution_count": 11,
   "metadata": {
    "collapsed": false
   },
   "outputs": [
    {
     "name": "stdout",
     "output_type": "stream",
     "text": [
      "(48488, 19, 4)\n"
     ]
    }
   ],
   "source": [
    "val_sequences = np.array(val_sequences)\n",
    "print val_sequences.shape"
   ]
  },
  {
   "cell_type": "code",
   "execution_count": null,
   "metadata": {
    "collapsed": true
   },
   "outputs": [],
   "source": []
  }
 ],
 "metadata": {
  "kernelspec": {
   "display_name": "Python [conda env:mommadragonn]",
   "language": "python",
   "name": "conda-env-mommadragonn-py"
  },
  "language_info": {
   "codemirror_mode": {
    "name": "ipython",
    "version": 2
   },
   "file_extension": ".py",
   "mimetype": "text/x-python",
   "name": "python",
   "nbconvert_exporter": "python",
   "pygments_lexer": "ipython2",
   "version": "2.7.13"
  }
 },
 "nbformat": 4,
 "nbformat_minor": 2
}
