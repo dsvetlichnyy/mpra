{
 "cells": [
  {
   "cell_type": "code",
   "execution_count": 1,
   "metadata": {
    "collapsed": false
   },
   "outputs": [],
   "source": [
    "import gzip\n",
    "import numpy as np\n",
    "import time\n",
    "from scipy.stats import pearsonr, spearmanr, rankdata, ks_2samp\n",
    "import matplotlib.pyplot as plt\n",
    "import matplotlib"
   ]
  },
  {
   "cell_type": "code",
   "execution_count": null,
   "metadata": {
    "collapsed": false
   },
   "outputs": [],
   "source": [
    "!pwd"
   ]
  },
  {
   "cell_type": "markdown",
   "metadata": {
    "collapsed": true
   },
   "source": [
    "# Extract fragments that are nonzero in both reps or zero in both reps"
   ]
  },
  {
   "cell_type": "code",
   "execution_count": 2,
   "metadata": {
    "collapsed": false
   },
   "outputs": [],
   "source": [
    "signals = open('../../sureseq/SUREfragmentsignal3.txt')\n",
    "header = signals.readline()"
   ]
  },
  {
   "cell_type": "code",
   "execution_count": 3,
   "metadata": {
    "collapsed": true
   },
   "outputs": [],
   "source": [
    "rep1Data = []\n",
    "rep2Data = []\n",
    "rep1GoodData = []\n",
    "rep2GoodData = []\n",
    "goodSignals = []"
   ]
  },
  {
   "cell_type": "code",
   "execution_count": 4,
   "metadata": {
    "collapsed": false
   },
   "outputs": [
    {
     "name": "stdout",
     "output_type": "stream",
     "text": [
      "On fragment 0 / 153000000\n",
      "On fragment 10000000 / 153000000\n",
      "On fragment 20000000 / 153000000\n",
      "On fragment 30000000 / 153000000\n",
      "On fragment 40000000 / 153000000\n",
      "On fragment 50000000 / 153000000\n",
      "On fragment 60000000 / 153000000\n",
      "On fragment 70000000 / 153000000\n",
      "On fragment 80000000 / 153000000\n",
      "On fragment 90000000 / 153000000\n",
      "On fragment 100000000 / 153000000\n",
      "On fragment 110000000 / 153000000\n",
      "On fragment 120000000 / 153000000\n",
      "On fragment 130000000 / 153000000\n",
      "On fragment 140000000 / 153000000\n",
      "On fragment 150000000 / 153000000\n"
     ]
    }
   ],
   "source": [
    "# Take a backwards-pass through the data, removing any lines not satisfying either:\n",
    "# biorep1Signal[i] > 0 and biorep2Signal[i] > 0 or biorep1Signal[i] == 0 and biorep2Signal[i] == 0\n",
    "i = 0\n",
    "for line in signals:\n",
    "    if (i-1) % 1e7 == 0:\n",
    "        print \"On fragment %s / \" %(i-1) + '153000000'\n",
    "    line = line.strip().split('\\t')\n",
    "    rep1Signal = float(line[4])\n",
    "    rep2Signal = float(line[5])\n",
    "    rep1Data.append(rep1Signal)\n",
    "    rep2Data.append(rep2Signal)\n",
    "    seqLen = int(line[2]) - int(line[1])\n",
    "#     if ((rep1Signal > 0 and rep2Signal > 0) or (rep1Signal == 0 and rep2Signal == 0)) and seqLen <= 2000:\n",
    "    if rep1Signal > 0 and rep2Signal > 0 and seqLen <= 2000:\n",
    "        rep1GoodData.append(rep1Signal)\n",
    "        rep2GoodData.append(rep2Signal)\n",
    "        name = line[0] + \":\" + line[1] + \"-\" + line[2] + '(' + line[3] + ')'\n",
    "        avgSignal = float(line[6])\n",
    "        goodSignals.append([line[0], line[1], line[2], name, avgSignal, line[3], rep1Signal, rep2Signal])\n",
    "    i += 1"
   ]
  },
  {
   "cell_type": "code",
   "execution_count": 5,
   "metadata": {
    "collapsed": false
   },
   "outputs": [],
   "source": [
    "goodSignals = np.array(goodSignals)"
   ]
  },
  {
   "cell_type": "code",
   "execution_count": 6,
   "metadata": {
    "collapsed": false
   },
   "outputs": [
    {
     "name": "stdout",
     "output_type": "stream",
     "text": [
      "2090287\n"
     ]
    }
   ],
   "source": [
    "print len(goodSignals)"
   ]
  },
  {
   "cell_type": "code",
   "execution_count": 7,
   "metadata": {
    "collapsed": false
   },
   "outputs": [
    {
     "name": "stdout",
     "output_type": "stream",
     "text": [
      "[['chr1' '10225' '10368' 'chr1:10225-10368(+)' '1.43046568444' '+'\n",
      "  '2.11804651617' '1.07989853381']\n",
      " ['chr1' '10271' '10772' 'chr1:10271-10772(+)' '47.9206004287' '+'\n",
      "  '31.7706977425' '56.1547237583']\n",
      " ['chr1' '10271' '11710' 'chr1:10271-11710(-)' '9.29802694885' '-'\n",
      "  '10.5902325808' '8.63918827051']\n",
      " ['chr1' '10587' '11454' 'chr1:10587-11454(-)' '113.006789071' '-'\n",
      "  '131.318884002' '103.670259246']\n",
      " ['chr1' '11261' '12065' 'chr1:11261-12065(-)' '1.07284926333' '-'\n",
      "  '2.11804651617' '0.539949266907']]\n"
     ]
    }
   ],
   "source": [
    "print goodSignals[:5]"
   ]
  },
  {
   "cell_type": "code",
   "execution_count": 8,
   "metadata": {
    "collapsed": true
   },
   "outputs": [],
   "source": [
    "header = 'chr\\tstart\\tend\\tname\\tavgSignal\\tstrand\\trep1Signal\\trep2Signal\\n'\n",
    "\n",
    "np.savetxt(fname = '../data/positiveReplicateSignalsSizeSelected.bed',\n",
    "           fmt = '%s',\n",
    "           X = goodSignals,\n",
    "           delimiter = '\\t', \n",
    "           header = header,\n",
    "           comments='# ')"
   ]
  },
  {
   "cell_type": "code",
   "execution_count": null,
   "metadata": {
    "collapsed": false
   },
   "outputs": [],
   "source": [
    "print pearsonr(rep1GoodData, rep2GoodData)\n",
    "print spearmanr(rep1GoodData, rep2GoodData)"
   ]
  },
  {
   "cell_type": "code",
   "execution_count": null,
   "metadata": {
    "collapsed": true
   },
   "outputs": [],
   "source": [
    "cnt = 0\n",
    "for i in range(len(rep1GoodData)):\n",
    "    if rep1GoodData[i] > 0:\n",
    "        cnt += 1"
   ]
  },
  {
   "cell_type": "code",
   "execution_count": null,
   "metadata": {
    "collapsed": false
   },
   "outputs": [],
   "source": [
    "print float(cnt) / len(rep1GoodData) * 100.0"
   ]
  },
  {
   "cell_type": "code",
   "execution_count": null,
   "metadata": {
    "collapsed": true
   },
   "outputs": [],
   "source": [
    "rep1Data = np.array(rep1Data)\n",
    "rep2Data = np.array(rep2Data)\n",
    "rep1GoodData = np.array(rep1GoodData)\n",
    "rep1GoodData = np.array(rep1GoodData)"
   ]
  },
  {
   "cell_type": "code",
   "execution_count": null,
   "metadata": {
    "collapsed": false
   },
   "outputs": [],
   "source": [
    "L = len(rep1Data)"
   ]
  },
  {
   "cell_type": "code",
   "execution_count": null,
   "metadata": {
    "collapsed": false
   },
   "outputs": [],
   "source": [
    "print 100.0 * np.sum(rep1Data > 0) / L\n",
    "print 100.0 * np.sum(rep2Data > 0) / L\n",
    "print 100.0 * np.sum(np.logical_and(rep1Data == 0, rep2Data == 0)) / L\n",
    "print 100.0 * np.sum(np.logical_and(rep1Data > 0, rep2Data == 0)) / L\n",
    "print 100.0 * np.sum(np.logical_and(rep1Data == 0, rep2Data > 0)) / L\n",
    "print 100.0 * np.sum(np.logical_and(rep1Data > 0, rep2Data > 0)) / L"
   ]
  },
  {
   "cell_type": "code",
   "execution_count": null,
   "metadata": {
    "collapsed": false
   },
   "outputs": [],
   "source": [
    "greaterThanZeroOrZero = np.logical_or(np.logical_and(rep1Data > 0, rep2Data > 0), np.logical_and(rep1Data == 0, rep2Data == 0))\n",
    "print spearmanr(rep1Data[greaterThanZeroOrZero], rep2Data[greaterThanZeroOrZero])"
   ]
  },
  {
   "cell_type": "markdown",
   "metadata": {
    "collapsed": true
   },
   "source": [
    "# Create train+val+test splits, fragment labels, fragment features"
   ]
  },
  {
   "cell_type": "code",
   "execution_count": 2,
   "metadata": {
    "collapsed": false
   },
   "outputs": [
    {
     "name": "stdout",
     "output_type": "stream",
     "text": [
      "train size = 1851920 fragments\n",
      "validation size = 51838 fragments\n",
      "test size = 102992 fragments\n",
      "total data size = 2006750 fragments\n"
     ]
    }
   ],
   "source": [
    "import sys\n",
    "\n",
    "runName = 'Jun24RegressionPositives'\n",
    "# runName = 'Jun22ClassificationWithoutQc'\n",
    "chrs = ['chr' + str(i) for i in range(1, 23)]\n",
    "valChrs = ['chr18']\n",
    "testChrs = ['chr8']\n",
    "trainChrs = chrs\n",
    "trainChrs = [chrom for chrom in trainChrs if chrom not in valChrs and chrom not in testChrs]\n",
    "# print trainChrs\n",
    "\n",
    "dataMatrix = open('../data/positiveReplicateSignalsSizeSelected.bed', 'r').readlines()[2:]\n",
    "# print len(dataMatrix)\n",
    "# sys.exit(0)\n",
    "# header = dataMatrix.readline()\n",
    "# spacer = dataMatrix.readline()\n",
    "\n",
    "trainSplit = open('../splits/train' + runName + '.txt', 'w')\n",
    "valSplit = open('../splits/val' + runName + '.txt', 'w')\n",
    "testSplit = open('../splits/test' + runName + '.txt', 'w')\n",
    "\n",
    "# runName = 'Jun22ClassificationWithoutQc'\n",
    "# classificationLabels = open('../labels/labels' + runName + '.txt', 'w')\n",
    "# classificationLabels.write('name\\tavg\\trep1\\trep2\\n')\n",
    "# runName = 'Jun22RegressionWithoutQc'\n",
    "regressionLabels = open('../labels/labels' + runName + '.txt', 'w')\n",
    "regressionLabels.write('name\\tavg\\trep1\\trep2\\n')\n",
    "\n",
    "counts = [0,0,0,0]\n",
    "for line in dataMatrix:\n",
    "    line = line.strip().split('\\t')\n",
    "    chrom = line[0]\n",
    "    fragmentName = line[3]\n",
    "    if chrom in chrs:\n",
    "        counts[3] += 1\n",
    "    \n",
    "    # add fragment names to their respective split files\n",
    "    if chrom in trainChrs:\n",
    "        trainSplit.write(fragmentName + '\\n')\n",
    "        counts[0] += 1\n",
    "    elif chrom in valChrs:\n",
    "        valSplit.write(fragmentName + '\\n')\n",
    "        counts[1] += 1\n",
    "    elif chrom in testChrs:\n",
    "        testSplit.write(fragmentName + '\\n')\n",
    "        counts[2] += 1\n",
    "    \n",
    "    avgSignal = float(line[4])\n",
    "    rep1Signal = float(line[6])\n",
    "    rep2Signal = float(line[7])\n",
    "        \n",
    "    # if the fragment was in any of the relevant splits, then add it to the labels file\n",
    "    if chrom in trainChrs or chrom in valChrs or chrom in testChrs:\n",
    "#         classificationLabel = fragmentName + '\\t' + str(int(avgSignal > 0)) + '\\t' + \\\n",
    "#                               str(int(rep1Signal > 0)) + '\\t' + str(int(rep2Signal > 0)) + '\\n'\n",
    "#         classificationLabels.write(classificationLabel)\n",
    "        \n",
    "        regressionLabel = fragmentName + '\\t' + str(avgSignal) + '\\t' + \\\n",
    "                          str(rep1Signal) + '\\t' + str(rep2Signal) + '\\n'\n",
    "        regressionLabels.write(regressionLabel)\n",
    "\n",
    "trainSplit.close()\n",
    "valSplit.close()\n",
    "testSplit.close()\n",
    "regressionLabels.close()\n",
    "\n",
    "print \"train size = \" + str(counts[0]) + \" fragments\"\n",
    "print \"validation size = \" + str(counts[1]) + \" fragments\"\n",
    "print \"test size = \" + str(counts[2]) + \" fragments\"\n",
    "print \"total data size = \" + str(counts[3]) + \" fragments\""
   ]
  },
  {
   "cell_type": "code",
   "execution_count": null,
   "metadata": {
    "collapsed": false
   },
   "outputs": [],
   "source": [
    "!gzip ../splits/*.txt\n",
    "!gzip ../labels/*.txt"
   ]
  },
  {
   "cell_type": "markdown",
   "metadata": {},
   "source": [
    "# BedTools getfasta command to extract sequences"
   ]
  },
  {
   "cell_type": "code",
   "execution_count": null,
   "metadata": {
    "collapsed": false
   },
   "outputs": [],
   "source": [
    "!bedtools getfasta -fi ../../../data/hg19.fa -bed ../data/positiveReplicateSignals.bed -s -fo ../features/sequencesJun24RegressionPositives.fa"
   ]
  },
  {
   "cell_type": "markdown",
   "metadata": {
    "collapsed": true
   },
   "source": [
    "# Pad fasta sequences after using bedtools"
   ]
  },
  {
   "cell_type": "code",
   "execution_count": 3,
   "metadata": {
    "collapsed": false
   },
   "outputs": [
    {
     "name": "stdout",
     "output_type": "stream",
     "text": [
      "opening files...\n",
      "padding...\n"
     ]
    }
   ],
   "source": [
    "print \"opening files...\"\n",
    "\n",
    "runName = 'Jun24RegressionPositives'\n",
    "sequences = open('../features/sequences' + runName + '.fa', 'r')\n",
    "paddedSequences = open('../features/paddedSequences' + runName + '.fa', 'w')\n",
    "\n",
    "print \"padding...\"\n",
    "\n",
    "PADDED_LENGTH = 2000\n",
    "i = 0\n",
    "for line in sequences:\n",
    "    if i % 2 == 0:\n",
    "        paddedSequences.write(line)\n",
    "    else:\n",
    "        seq = line.strip()\n",
    "        length = len(seq)\n",
    "        padLength = (PADDED_LENGTH - length) / 2\n",
    "        newSeq = 'N' * padLength + seq + 'N' * padLength\n",
    "        if len(newSeq) < PADDED_LENGTH:\n",
    "            newSeq += 'N'\n",
    "        paddedSequences.write(newSeq + '\\n')\n",
    "    i += 1"
   ]
  },
  {
   "cell_type": "code",
   "execution_count": null,
   "metadata": {
    "collapsed": false
   },
   "outputs": [],
   "source": [
    "!pwd"
   ]
  },
  {
   "cell_type": "markdown",
   "metadata": {
    "collapsed": true
   },
   "source": [
    "# Check correctness of features and labels files"
   ]
  },
  {
   "cell_type": "code",
   "execution_count": null,
   "metadata": {
    "collapsed": false
   },
   "outputs": [],
   "source": [
    "import gzip\n",
    "\n",
    "sequences = gzip.open(\"../features/paddedSequencesRegressionJun24Positives.fa.gz\", 'r')\n",
    "i = 0\n",
    "for line in sequences:\n",
    "    print len(line.strip())\n",
    "    if i > 100:\n",
    "        break"
   ]
  },
  {
   "cell_type": "code",
   "execution_count": null,
   "metadata": {
    "collapsed": true
   },
   "outputs": [],
   "source": []
  }
 ],
 "metadata": {
  "anaconda-cloud": {},
  "kernelspec": {
   "display_name": "Python [conda root]",
   "language": "python",
   "name": "conda-root-py"
  },
  "language_info": {
   "codemirror_mode": {
    "name": "ipython",
    "version": 2
   },
   "file_extension": ".py",
   "mimetype": "text/x-python",
   "name": "python",
   "nbconvert_exporter": "python",
   "pygments_lexer": "ipython2",
   "version": "2.7.12"
  }
 },
 "nbformat": 4,
 "nbformat_minor": 2
}
