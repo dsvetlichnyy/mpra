{
 "cells": [
  {
   "cell_type": "code",
   "execution_count": 1,
   "metadata": {
    "collapsed": false
   },
   "outputs": [
    {
     "name": "stdout",
     "output_type": "stream",
     "text": [
      "/home/users/rmovva/anaconda2/bin/python\r\n"
     ]
    }
   ],
   "source": [
    "!which python"
   ]
  },
  {
   "cell_type": "code",
   "execution_count": 2,
   "metadata": {
    "collapsed": false
   },
   "outputs": [],
   "source": [
    "import xgboost\n",
    "import matplotlib.pyplot as plt\n",
    "from scipy import stats\n",
    "import numpy as np"
   ]
  },
  {
   "cell_type": "markdown",
   "metadata": {},
   "source": [
    "# k-mer XGBoost on Sharpr\n",
    "Get all k-mers (k from 1 to X, where X = 6/7/8 depending on training capabilities), use as features to train XGB on Sharpr"
   ]
  },
  {
   "cell_type": "code",
   "execution_count": 7,
   "metadata": {
    "collapsed": false
   },
   "outputs": [],
   "source": [
    "import gzip\n",
    "\n",
    "def get_seqs_from_file(fasta):\n",
    "    seqfile = gzip.open(fasta)\n",
    "    seqs = {}\n",
    "    for line in seqfile:\n",
    "        if line[0] == '>':\n",
    "            name = line.strip()[1:]\n",
    "        else:\n",
    "            seq = line.strip()\n",
    "            seqs[name] = seq\n",
    "    seqfile.close()\n",
    "    return seqs\n",
    "\n",
    "def get_labels_from_file(filename):\n",
    "    labelfile = gzip.open(filename)\n",
    "    labels = {}\n",
    "    labelfile.readline()\n",
    "    for line in labelfile:\n",
    "        line = line.strip().split('\\t')\n",
    "        name = line[0]\n",
    "        vals = [float(lbl) for lbl in line[13:]] # 1 for name + 12 for counts --> 13:\n",
    "        labels[name] = vals\n",
    "    labelfile.close()\n",
    "    return labels\n",
    "        \n",
    "\n",
    "def get_seqs_labels_from_split(filename, seqs, labels):\n",
    "    splitFile = gzip.open(filename)\n",
    "    seqs_from_split = []\n",
    "    labels_from_split = []\n",
    "    for line in splitFile:\n",
    "        name = line.strip()\n",
    "        seqs_from_split.append(seqs[name])\n",
    "        labels_from_split.append(labels[name])\n",
    "    splitFile.close()\n",
    "    return np.array(seqs_from_split), np.array(labels_from_split)\n",
    "\n",
    "# Functions from Joe Paggi (https://github.com/jpaggi/deepmpra/blob/master/models/kmer_model.py)\n",
    "\n",
    "BASES = ['A', 'C', 'G', 'T']\n",
    "\n",
    "def seqs_to_matrix(seqs):\n",
    "    return np.vstack([map(lambda x: BASES.index(x), seq)\n",
    "                     for seq in seqs])\n",
    "\n",
    "def get_kmer_features(seqs, k):\n",
    "    X = seqs_to_matrix(seqs)\n",
    "    bases = ['00', '01', '10', '11']\n",
    "    counts = []\n",
    "    for seq in X:\n",
    "        binary_seq = ''.join(map(lambda x: bases[x], seq))\n",
    "        k_vals = np.arange(k)\n",
    "        count = np.zeros(np.sum(map(lambda x: 4**x, k_vals)), dtype = np.uint8)\n",
    "        \n",
    "        count_idx = 0\n",
    "        for k_val in range(k):\n",
    "            for i in range(0, len(seq) - k_val + 1):\n",
    "                count[count_idx] += 1\n",
    "                count_idx += 1\n",
    "#                 count[int(binary_seq[i*2:(i+k)*2], 2)] += 1\n",
    "        counts += [count]\n",
    "    return np.vstack(counts)    "
   ]
  },
  {
   "cell_type": "code",
   "execution_count": 4,
   "metadata": {
    "collapsed": false
   },
   "outputs": [],
   "source": [
    "seqsPath = '../features/sequences_sharpr_znormed_jul23.fa.gz'\n",
    "labelsPath = '../labels/labels_sharpr_znormed_jul23.txt.gz'\n",
    "\n",
    "trainSplitPath = '../splits/sharpr_znormed_jul23/train_split.txt.gz'\n",
    "valSplitPath = '../splits/sharpr_znormed_jul23/val_split.txt.gz'\n",
    "testSplitPath = '../splits/sharpr_znormed_jul23/test_split.txt.gz'\n",
    "\n",
    "seqs = get_seqs_from_file(seqsPath)\n",
    "labels = get_labels_from_file(labelsPath)\n",
    "\n",
    "trainSeqs, trainLabels = get_seqs_labels_from_split(trainSplitPath, seqs, labels)\n",
    "valSeqs, valLabels = get_seqs_labels_from_split(valSplitPath, seqs, labels)"
   ]
  },
  {
   "cell_type": "code",
   "execution_count": 5,
   "metadata": {
    "collapsed": true
   },
   "outputs": [],
   "source": [
    "train_idxs_without_N = [i for (i, seq) in enumerate(trainSeqs) if 'N' not in seq]\n",
    "trainSeqs = trainSeqs[train_idxs_without_N]\n",
    "trainLabels = trainLabels[train_idxs_without_N]\n",
    "\n",
    "val_idxs_without_N = [i for (i, seq) in enumerate(valSeqs) if 'N' not in seq]\n",
    "valSeqs = valSeqs[val_idxs_without_N]\n",
    "valLabels = valLabels[val_idxs_without_N]"
   ]
  },
  {
   "cell_type": "code",
   "execution_count": 6,
   "metadata": {
    "collapsed": false
   },
   "outputs": [
    {
     "name": "stdout",
     "output_type": "stream",
     "text": [
      "(914336,) (914336, 12) (19833,) (19833, 12)\n"
     ]
    }
   ],
   "source": [
    "print trainSeqs.shape, trainLabels.shape, valSeqs.shape, valLabels.shape"
   ]
  },
  {
   "cell_type": "code",
   "execution_count": null,
   "metadata": {
    "collapsed": false
   },
   "outputs": [],
   "source": [
    "import time\n",
    "\n",
    "ntest = 20000\n",
    "k = 6\n",
    "label_idx = 2 # k562_minp_norm_avg\n",
    "\n",
    "t0 = time.time()\n",
    "X_train = get_kmer_features(trainSeqs, k)\n",
    "y_train = trainLabels[:, label_idx]\n",
    "X_val = get_kmer_features(valSeqs, k)\n",
    "y_val = valLabels[:, label_idx]\n",
    "print(\"Creating k-mer features for train/val set took %.3f s\" % (time.time() - t0))"
   ]
  },
  {
   "cell_type": "code",
   "execution_count": null,
   "metadata": {
    "collapsed": true
   },
   "outputs": [],
   "source": [
    "eval_set = [(X_val, y_val)]\n",
    "random_state = np.random.RandomState(seed = 0)\n",
    "model = xgboost.XGBRegressor(max_depth = 6, \n",
    "                             learning_rate = 0.05,\n",
    "                             n_estimators = 250,\n",
    "                             objective = 'reg:linear',\n",
    "                             silent = False,\n",
    "                             updater = 'grow_gpu',\n",
    "                             random_state = 0\n",
    "                             gpu_id = 2\n",
    "                            )"
   ]
  },
  {
   "cell_type": "code",
   "execution_count": null,
   "metadata": {
    "collapsed": false
   },
   "outputs": [],
   "source": [
    "xgb_param = model.get_xgb_params()\n",
    "print xgb_param"
   ]
  },
  {
   "cell_type": "code",
   "execution_count": null,
   "metadata": {
    "collapsed": false
   },
   "outputs": [],
   "source": [
    "from scipy.stats import spearmanr\n",
    "\n",
    "ntest = 20000\n",
    "t0 = time.time()\n",
    "model.fit(X_train[:ntest], y_train[:ntest], eval_set = eval_set, early_stopping_rounds = 8, eval_metric = 'mae')\n",
    "print(\"Fitting model took %.3f s\" % (time.time() - t0))"
   ]
  },
  {
   "cell_type": "code",
   "execution_count": null,
   "metadata": {
    "collapsed": false
   },
   "outputs": [],
   "source": [
    "y_val_pred = model.predict(X_val)\n",
    "print spearmanr(y_val, y_val_pred)"
   ]
  },
  {
   "cell_type": "code",
   "execution_count": null,
   "metadata": {
    "collapsed": true
   },
   "outputs": [],
   "source": []
  }
 ],
 "metadata": {
  "anaconda-cloud": {},
  "kernelspec": {
   "display_name": "Python [conda env:xgb]",
   "language": "python",
   "name": "conda-env-xgb-py"
  },
  "language_info": {
   "codemirror_mode": {
    "name": "ipython",
    "version": 2
   },
   "file_extension": ".py",
   "mimetype": "text/x-python",
   "name": "python",
   "nbconvert_exporter": "python",
   "pygments_lexer": "ipython2",
   "version": "2.7.13"
  }
 },
 "nbformat": 4,
 "nbformat_minor": 2
}
