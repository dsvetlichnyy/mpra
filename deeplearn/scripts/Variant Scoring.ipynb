{
 "cells": [
  {
   "cell_type": "markdown",
   "metadata": {},
   "source": [
    "# Score LDL variants for the HepG2 task\n",
    "Look for variants that increase / decrease expression to explain mechanisms of disease, find causal variants, and predict the most pathogenic variants. Also a validation technique.\n",
    "\n",
    "1. make bed file with appropriate regions\n",
    "2. bedtools getfasta for the sequences\n",
    "3. intialize model\n",
    "4. convert to one hot\n",
    "5. try all base pair changes (ISM)\n",
    "6. compute deepLIFT scores"
   ]
  },
  {
   "cell_type": "code",
   "execution_count": 1,
   "metadata": {
    "collapsed": true
   },
   "outputs": [],
   "source": [
    "import os\n",
    "\n",
    "basePath = '../../data/variants/peyton_gwas/expanded_LD_geno/rsq_0.8/grasp/'\n",
    "phenotype = 'LDL_cholesterol'\n",
    "os.system('mkdir ../variant_scoring/%s' % phenotype)\n",
    "variantBed = open(basePath + phenotype + '_pruned_rsq_0.8_expanded_rsq_0.8.bed')\n",
    "variantSequenceBed = open('../variant_scoring/%s/variants_sequence_context.bed' % phenotype, 'w')\n",
    "associatedVariants = []\n",
    "for line in variantBed:\n",
    "    line = line.strip().split('\\t')\n",
    "    line[1] = str(int(line[1]) - 72)\n",
    "    line[2] = str(int(line[2]) + 72)\n",
    "    associatedVariants.append(line[3])\n",
    "    variantSequenceBed.write('\\t'.join(line) + '\\n')\n",
    "variantBed.close()\n",
    "variantSequenceBed.close()"
   ]
  },
  {
   "cell_type": "code",
   "execution_count": 4,
   "metadata": {
    "collapsed": false
   },
   "outputs": [],
   "source": [
    "!bedtools getfasta -fi /scratch/users/rmovva/data/hg19.fa -bed ../variant_scoring/LDL_cholesterol/variants_sequence_context.bed -fo ../variant_scoring/LDL_cholesterol/variant_sequences.fa"
   ]
  },
  {
   "cell_type": "code",
   "execution_count": 2,
   "metadata": {
    "collapsed": false
   },
   "outputs": [
    {
     "name": "stderr",
     "output_type": "stream",
     "text": [
      "/home/users/rmovva/anaconda2/envs/mommadragonn/lib/python2.7/site-packages/theano/gpuarray/dnn.py:135: UserWarning: Your cuDNN version is more recent than Theano. If you encounter problems, try updating Theano or downgrading cuDNN to version 5.1.\n",
      "  warnings.warn(\"Your cuDNN version is more recent than \"\n",
      "Using cuDNN version 6020 on context None\n",
      "Mapped name None to device cuda: Tesla P100-PCIE-16GB (0000:82:00.0)\n",
      "Using Theano backend.\n"
     ]
    },
    {
     "name": "stdout",
     "output_type": "stream",
     "text": [
      "Converting seq strings to one-hot arrays took 46.111 sec\n",
      "(1003711, 145, 4)\n"
     ]
    }
   ],
   "source": [
    "import avutils.util\n",
    "import deeplift\n",
    "import deeplift.conversion.keras_conversion as kc\n",
    "import numpy as np\n",
    "\n",
    "modelName = \"record_13_model_bgGhy_\"\n",
    "modelJson = \"../model_files/sharpr_znormed_jul23/\" + modelName + \"modelJson.json\"\n",
    "modelWeights = \"../model_files/sharpr_znormed_jul23/\" + modelName + \"modelWeights.h5\"\n",
    "\n",
    "keras_model = kc.load_keras_model(modelWeights, json=modelJson)\n",
    "\n",
    "seqNames = []\n",
    "seqStrings = []\n",
    "with open('../variant_scoring/%s/variant_sequences.fa' % phenotype) as seqFile:\n",
    "    i = 0\n",
    "    for line in seqFile:\n",
    "        line = line.strip()\n",
    "        if i % 2 == 0:\n",
    "            seqNames.append(line.split('>')[1] + ',' + associatedVariants[i/2])\n",
    "        else:\n",
    "            seqStrings.append(line)\n",
    "        i += 1\n",
    "\n",
    "import time\n",
    "t0 = time.time()\n",
    "seqs = np.array([avutils.util.seq_to_one_hot(seq) for seq in seqStrings]).astype(np.float32)\n",
    "print(\"Converting seq strings to one-hot arrays took %.3f sec\" % (time.time() - t0))\n",
    "print seqs.shape"
   ]
  },
  {
   "cell_type": "code",
   "execution_count": 3,
   "metadata": {
    "collapsed": true
   },
   "outputs": [],
   "source": [
    "seqs = seqs.astype(np.float32)\n",
    "seqsMutated = np.ndarray(shape=(4, seqs.shape[0], seqs.shape[1], seqs.shape[2]), dtype=np.float32)\n",
    "for i in range(4):\n",
    "    seqs[:, seqs.shape[1]/2] = np.zeros(4)\n",
    "    seqs[:, seqs.shape[1]/2, i] = 1.0\n",
    "    seqsMutated[i] = seqs"
   ]
  },
  {
   "cell_type": "code",
   "execution_count": 4,
   "metadata": {
    "collapsed": false
   },
   "outputs": [
    {
     "name": "stdout",
     "output_type": "stream",
     "text": [
      "[ 0.  0.  0.  1.]\n",
      "[[ 1.  0.  0.  0.]\n",
      " [ 0.  1.  0.  0.]\n",
      " [ 0.  0.  1.  0.]\n",
      " [ 0.  0.  0.  1.]]\n"
     ]
    }
   ],
   "source": [
    "print seqs[0][72]\n",
    "print seqsMutated[:, 0, 72, :]"
   ]
  },
  {
   "cell_type": "code",
   "execution_count": 5,
   "metadata": {
    "collapsed": false
   },
   "outputs": [
    {
     "name": "stdout",
     "output_type": "stream",
     "text": [
      "Computing reference predictions took 89.457 sec\n"
     ]
    }
   ],
   "source": [
    "t0 = time.time()\n",
    "refPreds = keras_model.predict(seqs, batch_size=200)\n",
    "print(\"Computing reference predictions took %.3f sec\" % (time.time() - t0))"
   ]
  },
  {
   "cell_type": "code",
   "execution_count": 6,
   "metadata": {
    "collapsed": false
   },
   "outputs": [
    {
     "name": "stdout",
     "output_type": "stream",
     "text": [
      "Computing mutated predictions took 139.007 sec\n"
     ]
    }
   ],
   "source": [
    "mutPreds = np.ndarray(shape=(4, seqs.shape[0], refPreds.shape[1]), dtype=np.float32)\n",
    "t0 = time.time()\n",
    "for i in range(len(mutPreds)):\n",
    "    mutPreds[i] = keras_model.predict(seqsMutated[i], batch_size=200)\n",
    "print(\"Computing mutated predictions took %.3f sec\" % (time.time() - t0))"
   ]
  },
  {
   "cell_type": "code",
   "execution_count": 27,
   "metadata": {
    "collapsed": false
   },
   "outputs": [],
   "source": [
    "np.save(\"../variant_scoring/LDL_cholesterol/refPreds.npy\",\n",
    "        refPreds)\n",
    "np.save(\"../variant_scoring/LDL_cholesterol/mutPreds.npy\",\n",
    "        mutPreds)"
   ]
  },
  {
   "cell_type": "code",
   "execution_count": 20,
   "metadata": {
    "collapsed": false
   },
   "outputs": [],
   "source": [
    "# hepg2_scores = np.max(np.abs(np.log2(mutPreds[:, :, 8]) - np.log2(refPreds[:, 8])), axis=0)\n",
    "# k562_scores = np.max(np.abs(np.log2(mutPreds[:, :, 2]) - np.log2(refPreds[:, 2])), axis=0)\n",
    "# hepg2_scores = np.log2(np.max(np.abs((mutPreds[:, :, 8] - refPreds[:, 8]) / refPreds[:, 8]), axis=0))\n",
    "# k562_scores = np.log2(np.max(np.abs((mutPreds[:, :, 2] - refPreds[:, 2]) / refPreds[:, 2]), axis=0))\n",
    "hepg2_scores = np.max(np.abs(mutPreds[:, :, 8] - refPreds[:, 8]), axis=0)\n",
    "k562_scores = np.max(np.abs(mutPreds[:, :, 2] - refPreds[:, 2]), axis=0)\n",
    "# hepg2_scores = np.max(np.abs(mutPreds[:, :, 11] - refPreds[:, 11]), axis=0)\n",
    "# k562_scores = np.max(np.abs(mutPreds[:, :, 5] - refPreds[:, 5]), axis=0)"
   ]
  },
  {
   "cell_type": "code",
   "execution_count": 21,
   "metadata": {
    "collapsed": false
   },
   "outputs": [],
   "source": [
    "hepg2ScoresByTagSnp = {snp: [] for snp in set(associatedVariants)}\n",
    "k562ScoresByTagSnp = {snp: [] for snp in set(associatedVariants)}\n",
    "for (i, score) in enumerate(hepg2_scores):\n",
    "    hepg2ScoresByTagSnp[associatedVariants[i]].append(hepg2_scores[i])\n",
    "    k562ScoresByTagSnp[associatedVariants[i]].append(k562_scores[i])\n",
    "hepg2MaxScoresByTagSnp = {snp: np.max(hepg2ScoresByTagSnp[snp]) for snp in hepg2ScoresByTagSnp}\n",
    "k562MaxScoresByTagSnp = {snp: np.max(k562ScoresByTagSnp[snp]) for snp in k562ScoresByTagSnp}\n",
    "hepg2SecondScoresByTagSnp = {snp: hepg2ScoresByTagSnp[snp][0] if len(hepg2ScoresByTagSnp[snp]) == 1 else np.sort(hepg2ScoresByTagSnp[snp])[::-1][1] for snp in hepg2ScoresByTagSnp}\n",
    "k562SecondScoresByTagSnp = {snp: k562ScoresByTagSnp[snp][0] if len(k562ScoresByTagSnp[snp]) == 1 else np.sort(k562ScoresByTagSnp[snp])[::-1][1] for snp in k562ScoresByTagSnp}"
   ]
  },
  {
   "cell_type": "code",
   "execution_count": 22,
   "metadata": {
    "collapsed": false
   },
   "outputs": [
    {
     "name": "stdout",
     "output_type": "stream",
     "text": [
      "0.04938 0.0425464\n",
      "0.0619959 0.0434637\n",
      "0.103606 0.0946029\n",
      "0.116271 0.0908191\n",
      "1.53261 1.30825\n",
      "1.42252 0.942196\n"
     ]
    }
   ],
   "source": [
    "print np.mean(hepg2_scores), np.std(hepg2_scores)\n",
    "print np.mean(k562_scores), np.std(k562_scores)\n",
    "print np.mean(hepg2MaxScoresByTagSnp.values()), np.std(hepg2MaxScoresByTagSnp.values())\n",
    "print np.mean(k562MaxScoresByTagSnp.values()), np.std(k562MaxScoresByTagSnp.values())\n",
    "hepg2Ratios = np.array(hepg2MaxScoresByTagSnp.values()) / np.array(hepg2SecondScoresByTagSnp.values())\n",
    "k562Ratios = np.array(k562MaxScoresByTagSnp.values()) / np.array(k562SecondScoresByTagSnp.values())\n",
    "print np.mean(hepg2Ratios), np.std(hepg2Ratios)\n",
    "print np.mean(k562Ratios), np.std(k562Ratios)"
   ]
  },
  {
   "cell_type": "code",
   "execution_count": 24,
   "metadata": {
    "collapsed": false
   },
   "outputs": [
    {
     "data": {
      "image/png": "[encoded data removed]",
      "text/plain": [
       "<matplotlib.figure.Figure at 0x7f3b5710c810>"
      ]
     },
     "metadata": {},
     "output_type": "display_data"
    }
   ],
   "source": [
    "import matplotlib.pyplot as plt\n",
    "import seaborn as sns\n",
    "import pandas as pd\n",
    "\n",
    "df_dict = {'HepG2': hepg2MaxScoresByTagSnp.values(), 'K562': k562MaxScoresByTagSnp.values()}\n",
    "df = pd.DataFrame.from_dict(df_dict)\n",
    "\n",
    "# sns.boxplot(data=df, showfliers=True)\n",
    "sns.violinplot(data=df, showfliers=True)\n",
    "\n",
    "plt.show()"
   ]
  },
  {
   "cell_type": "code",
   "execution_count": 131,
   "metadata": {
    "collapsed": false
   },
   "outputs": [
    {
     "name": "stdout",
     "output_type": "stream",
     "text": [
      "HepG2\n",
      "[ 1.29019952  1.20572996  1.06968939  1.04579473  1.03509963  0.97602427\n",
      "  0.96438742  0.95192677  0.94532216  0.93639517]\n",
      "[808722 231500 210803 621244 648508 414723 494358 631461 497844 566686]\n",
      "[ 0.00023094  0.00027475  0.00048102  0.000528    0.000606    0.000606\n",
      "  0.0006067   0.00060672  0.00063346  0.00067669]\n",
      "[198935  87611 725309 516173 590269 590268  58069  92427 975889 730089]\n",
      "K562\n",
      "[ 1.17142379  1.15530252  1.01787317  0.9672491   0.95594156  0.94325411\n",
      "  0.93980086  0.90893173  0.90420294  0.89360923]\n",
      "[808722 231500 648508 621244 210803 497844 414723 528849 566686 494358]\n",
      "[ 0.00036955  0.00052136  0.0005483   0.0006566   0.00089183  0.00104889\n",
      "  0.00105584  0.00107908  0.00108552  0.00112133]\n",
      "[ 50779 582144  53781  59562 469238 623531 445132 735473 822081 117239]\n",
      "9\n"
     ]
    }
   ],
   "source": [
    "print \"HepG2\"\n",
    "print np.sort(hepg2_scores)[::-1][:10]\n",
    "print np.argsort(hepg2_scores)[::-1][:10]\n",
    "print np.sort(hepg2_scores)[:10]\n",
    "print np.argsort(hepg2_scores)[:10]\n",
    "print \"K562\"\n",
    "print np.sort(k562_scores)[::-1][:10]\n",
    "print np.argsort(k562_scores)[::-1][:10]\n",
    "print np.sort(k562_scores)[:10]\n",
    "print np.argsort(k562_scores)[:10]\n",
    "print len(set(np.argsort(k562_scores)[::-1][:10]).intersection(np.argsort(hepg2_scores)[::-1][:10]))"
   ]
  },
  {
   "cell_type": "code",
   "execution_count": 123,
   "metadata": {
    "collapsed": false
   },
   "outputs": [
    {
     "name": "stdout",
     "output_type": "stream",
     "text": [
      "SpearmanrResult(correlation=0.7652785229639244, pvalue=0.0)\n"
     ]
    }
   ],
   "source": [
    "from scipy.stats import spearmanr\n",
    "\n",
    "# sample = np.random.choice(np.arange(len(hepg2_scores)), 1000)\n",
    "\n",
    "print spearmanr(k562_scores, hepg2_scores, nan_policy = 'omit')"
   ]
  },
  {
   "cell_type": "code",
   "execution_count": 127,
   "metadata": {
    "collapsed": false
   },
   "outputs": [
    {
     "name": "stdout",
     "output_type": "stream",
     "text": [
      "1\n",
      "1.2902\n",
      "acctggtggaatatgattgaattatggggtcaggtctttcccatgctgttctcatgatagtgaatgggtctcacgagatatgatggttttaaaaatgggagtttctctgcacaagctctctttttttgactgttgccatccatgt\n",
      "chr6:84544203-84544348,rs16874003\n",
      "gggtctcacgagata\n",
      "2\n",
      "1.20573\n",
      "gtgtttgcaatgaattttaaaaCGCACATCTGggtcaggtgcggtggctcacacctgtaatcccagcacttcaggaagctgatgtgggaggatcgcttgaggccaggagttcgagacccagcctgggcaacatagtgagatactg\n",
      "chr12:124410456-124410601,rs11057408\n",
      "gcacttcaggaagct\n",
      "3\n",
      "1.06969\n",
      "cccaaaagagaaaaaaacagaaaatcgactacagaatgaaaagagaaaggatgctggttcttccactcttccggaagtcactttatgcagaaaggaggagcttgccacaagtaagggaagtgcaacaacagtggccatgtttctt\n",
      "chr12:55572428-55572573,rs7966464\n",
      "ctcttccggaagtca\n",
      "4\n",
      "1.04579\n",
      "tggctcttgggggtggattcctcatgaatggctctgtgttgttctctgggccgtgagtgagtttttgctctctcgagactggtttagttcttgggggaatggattagttctcactaataaaagaacaggtttttatagagaaaga\n",
      "chr3:176929172-176929317,rs9290612\n",
      "tgctctctcgagact\n",
      "5\n",
      "1.0351\n",
      "ACCGTGATTTAAACATACTTCAAGAggctgggcatggtggctcacgcctgtaatcccagcactttcggaagccgaagtgggtggatcacaaggtcaggagttcaagaccagcctggccaagatggtgaaaccccatctctattaa\n",
      "chr4:46264609-46264754,rs504696\n",
      "cggaagccgaagtgg\n",
      "6\n",
      "0.976024\n",
      "acagaaaaaaaggaagttaaattatcttacactgatgatataatgctctacctagaaaactttacagatttcTGGAAGtatataattttaaaatataaattatGGCTGTTAAATATCTTCATTTCTATACCTCTTTTGGCTAATA\n",
      "chr19:21847561-21847706,rs16998334\n",
      "agatttcTGGAAGta\n",
      "7\n",
      "0.964387\n",
      "gtatatttcactgattaaatggaagcaatcagaagaaaaaagctagcttcaccctatcccatgtgtgcttgcacatgcgcacgcacacacacacacacacaccttaactacctgcatctgtgtcatgtattctgcattgtttatg\n",
      "chr2:195331729-195331874,rs1406028\n",
      "tgcttgcacatgcgc\n",
      "8\n",
      "0.951927\n",
      "ctgggttcaaataagccttagtagctgtgtcacctcagatgtggtacccactctctccaagcctttgcttcccgaaatggaggtagtacccacctgacaaggtccttgtgagataacacatagacactcatgagataacacatag\n",
      "chr4:5436312-5436457,rs3733183\n",
      "tgcttcccgaaatgg\n",
      "9\n",
      "0.945322\n",
      "gaactcccaacctcaggtgatccgcccgcctcgacctcccaaagtgctgggattacaggcatgagccaccacgtccggtcACTATGATTTTTGTAATAACCGTAATTTGATAACTAACGGAAACCCATTCACATTTCAACACCTT\n",
      "chr2:207570041-207570186,rs16838596\n",
      "ccaccacgtccggtc\n",
      "10\n",
      "0.936395\n",
      "AGGGAAGGAAACTGGCTGGAGGCCGCTGGACCCACAGAGGACAATAGACAATCTCCTGCTGTAAGTCACTTCTGGTCCCATCATCAGTTATGCCCCCAGCAATTTGGTTCTCTATCTCCAAAAGCTAGAACAATTAGAGATTCTA\n",
      "chr3:27844281-27844426,rs7649139\n",
      "TCACTTCTGGTCCCA\n"
     ]
    }
   ],
   "source": [
    "variant_idxs = np.argsort(hepg2_scores)[::-1][:10]\n",
    "for (i, variant_idx) in enumerate(variant_idxs):\n",
    "    print(i+1)\n",
    "    print hepg2_scores[variant_idx]\n",
    "    print seqStrings[variant_idx]\n",
    "    print seqNames[variant_idx]\n",
    "    print seqStrings[variant_idx][65:80]"
   ]
  },
  {
   "cell_type": "markdown",
   "metadata": {},
   "source": [
    "Motifs for the top 10 matches above ALL correspond to known TFs!\n",
    "1. ZBTB33\n",
    "2. ELK1\n",
    "3. ELK1\n",
    "4. ZBTB33\n",
    "5. SPI1_full\n",
    "6. ELK1\n",
    "7. NRF1\n",
    "8. ETV6\n",
    "9. GABPA\n",
    "10. ELK1"
   ]
  },
  {
   "cell_type": "markdown",
   "metadata": {},
   "source": [
    "# Using the Nature Genetics 2013 LDL variant set (un-LD-expanded)"
   ]
  },
  {
   "cell_type": "code",
   "execution_count": 1,
   "metadata": {
    "collapsed": true
   },
   "outputs": [],
   "source": [
    "import os\n",
    "\n",
    "basepath = '../../data/variants/ldl_gwas/'\n",
    "path = basepath + 'jointGwasMc_LDL.txt'"
   ]
  },
  {
   "cell_type": "code",
   "execution_count": 1,
   "metadata": {
    "collapsed": true
   },
   "outputs": [],
   "source": [
    "os.system('mkdir ../variant_scoring/LDL_gwasNatGenet')\n",
    "\n",
    "with open(path) as f:\n",
    "    with open(basepath + 'ldlGwasWithStatsBed4.bed', 'w') as out:\n",
    "        header = f.readline()\n",
    "        header = header.strip().split('\\t')[2:]\n",
    "        newHeader = ['chr', 'start', 'end'] + header\n",
    "#         out.write('\\t'.join(newHeader) + '\\n')\n",
    "        for line in f:\n",
    "            line = line.strip().split('\\t')\n",
    "            stats = line[2:]\n",
    "            pos = line[1]\n",
    "            chrom = pos.split(':')[0]\n",
    "            start, end = str(int(pos.split(':')[1]) - 72), str(int(pos.split(':')[1]) + 73)\n",
    "            newLine = [chrom, start, end] + stats\n",
    "            out.write('\\t'.join(newLine[:4]) + '\\n')"
   ]
  },
  {
   "cell_type": "code",
   "execution_count": 3,
   "metadata": {
    "collapsed": false
   },
   "outputs": [],
   "source": [
    "with open(basepath + 'ldlGwasWithStats_LdExpanded80_v2.bed') as f:\n",
    "    with open(basepath + 'expanded_tagLd_regions_all.bed', 'w') as out:\n",
    "        for line in f:\n",
    "            line = line.strip().split('\\t')\n",
    "            chrom = line[0]\n",
    "            start, end = str(int(line[1]) - 72), str(int(line[2]) + 72)\n",
    "            variants = line[3] + ',' + line[4]\n",
    "            out.write('\\t'.join([chrom, start, end, variants]) + '\\n')"
   ]
  },
  {
   "cell_type": "code",
   "execution_count": 5,
   "metadata": {
    "collapsed": false
   },
   "outputs": [],
   "source": [
    "!bedtools subtract -a ../../data/variants/ldl_gwas/expanded_tagLd_regions_all.bed -b ../../data/geneCoords/UCSC_canonical_hg19.bed -f 0.1 > ../../data/variants/ldl_gwas/expanded_tagLd_regions_noncoding10pct.bed "
   ]
  },
  {
   "cell_type": "code",
   "execution_count": 6,
   "metadata": {
    "collapsed": true
   },
   "outputs": [],
   "source": [
    "!mv expanded_tagLd_regions_noncoding10pct.bed ../../data/variants/ldl_gwas/"
   ]
  },
  {
   "cell_type": "code",
   "execution_count": 152,
   "metadata": {
    "collapsed": true
   },
   "outputs": [],
   "source": [
    "from collections import OrderedDict\n",
    "\n",
    "snpPvals = OrderedDict()\n",
    "\n",
    "with open(path) as f:\n",
    "    f.readline()\n",
    "    for line in f:\n",
    "        line = line.strip().split('\\t')\n",
    "        snpPvals[line[2]] = float(line[-2])"
   ]
  },
  {
   "cell_type": "code",
   "execution_count": 276,
   "metadata": {
    "collapsed": false
   },
   "outputs": [
    {
     "name": "stdout",
     "output_type": "stream",
     "text": [
      "37696\n"
     ]
    }
   ],
   "source": [
    "import numpy as np\n",
    "\n",
    "useSnp = {snp: False for snp in snpPvals.keys()}\n",
    "\n",
    "thresh = 5e-3\n",
    "percentBackground = 1.0/199\n",
    "# thresh = 1.1\n",
    "# percentBackground = 1\n",
    "cnt = 0\n",
    "for (i, snp) in enumerate(useSnp.keys()):\n",
    "    pval = snpPvals[snp]\n",
    "#     if np.random.random() < 0.01:\n",
    "#         useSnp[snp] = True\n",
    "    if pval < thresh:\n",
    "        useSnp[snp] = True\n",
    "        cnt += 1\n",
    "    elif np.random.random() < percentBackground:\n",
    "        useSnp[snp] = True\n",
    "        cnt += 1\n",
    "print cnt"
   ]
  },
  {
   "cell_type": "code",
   "execution_count": 523,
   "metadata": {
    "collapsed": false
   },
   "outputs": [
    {
     "name": "stdout",
     "output_type": "stream",
     "text": [
      "21148201 21148346\n",
      "160996724 160996869\n"
     ]
    }
   ],
   "source": [
    "ldBlocks = OrderedDict()\n",
    "snps = []\n",
    "\n",
    "# bedtoolsFile = open(basepath + 'expanded_all_bedtools_1m.bed', 'w')\n",
    "\n",
    "i = 0\n",
    "with open(basepath + 'expanded_tagLd_regions_all.bed') as f:\n",
    "    for line in f:\n",
    "#         if i >= 1000000:\n",
    "#             break\n",
    "        line = line.strip().split('\\t')\n",
    "        chrom = line[0]\n",
    "#         start = str(int(line[1]) - 72)\n",
    "#         end = str(int(line[2]) + 72)\n",
    "        start = line[1]\n",
    "        end = line[2]\n",
    "        if int(end) - int(start) != 145:\n",
    "            continue\n",
    "#         tagSnp = line[-1]\n",
    "#         ldSnp = line[-2]\n",
    "        ldSnp, tagSnp = line[-1].split(',')\n",
    "        if (ldSnp, tagSnp) == ('rs3923037', 'rs4426495') or (ldSnp, tagSnp) == ('rs6923877', 'rs6455689'):\n",
    "            print start, end\n",
    "        if useSnp[tagSnp] == False:\n",
    "            continue\n",
    "        if tagSnp not in ldBlocks:\n",
    "            ldBlocks[tagSnp] = []\n",
    "        ldBlocks[tagSnp].append(ldSnp)\n",
    "#         bedtoolsFile.write('\\t'.join([chrom, start, end, ldSnp]) + '\\n')\n",
    "        snps.append((tagSnp, ldSnp))\n",
    "        i += 1\n",
    "\n",
    "# bedtoolsFile.close()"
   ]
  },
  {
   "cell_type": "code",
   "execution_count": 279,
   "metadata": {
    "collapsed": false
   },
   "outputs": [
    {
     "name": "stdout",
     "output_type": "stream",
     "text": [
      "2025319\n"
     ]
    }
   ],
   "source": [
    "print len(snps)"
   ]
  },
  {
   "cell_type": "code",
   "execution_count": 157,
   "metadata": {
    "collapsed": false
   },
   "outputs": [
    {
     "name": "stdout",
     "output_type": "stream",
     "text": [
      "0.345343877432\n",
      "33.7541348815\n"
     ]
    }
   ],
   "source": [
    "print 10**(-1*np.mean(-1*np.log10(np.array([pval+1e-8 for pval in snpPvals.values()]))))\n",
    "print np.mean([len(ldBlocks[snp]) for snp in ldBlocks])"
   ]
  },
  {
   "cell_type": "code",
   "execution_count": 111,
   "metadata": {
    "collapsed": true
   },
   "outputs": [],
   "source": [
    "!head -5000000 ../../data/variants/ldl_gwas/expanded_all_bedtools.bed > ../../data/variants/ldl_gwas/expanded_all_bedtools_5m.bed"
   ]
  },
  {
   "cell_type": "code",
   "execution_count": 158,
   "metadata": {
    "collapsed": false
   },
   "outputs": [],
   "source": [
    "!bedtools getfasta -fi /scratch/users/rmovva/data/hg19.fa -bed ../../data/variants/ldl_gwas/expanded_all_bedtools_1m.bed -fo ../variant_scoring/LDL_gwasNatGenet/variant_sequences_expanded_all_1m.fa"
   ]
  },
  {
   "cell_type": "code",
   "execution_count": 448,
   "metadata": {
    "collapsed": false
   },
   "outputs": [],
   "source": [
    "import avutils.util\n",
    "import deeplift\n",
    "import deeplift.conversion.keras_conversion as kc\n",
    "import numpy as np\n",
    "\n",
    "modelName = \"record_13_model_bgGhy_\"\n",
    "modelJson = \"../model_files/sharpr_znormed_jul23/\" + modelName + \"modelJson.json\"\n",
    "modelWeights = \"../model_files/sharpr_znormed_jul23/\" + modelName + \"modelWeights.h5\"\n",
    "\n",
    "keras_model = kc.load_keras_model(modelWeights, json=modelJson)\n",
    "\n",
    "seqStrings = []\n",
    "with open('../variant_scoring/LDL_gwasNatGenet/variant_sequences_expanded_all_5e3.fa') as seqFile:\n",
    "    i = 0\n",
    "    snpIdx = 0\n",
    "    for line in seqFile:\n",
    "        line = line.strip()\n",
    "        if i % 2 == 1:\n",
    "            seqStrings.append(line)\n",
    "            snpIdx += 1\n",
    "        i += 1"
   ]
  },
  {
   "cell_type": "code",
   "execution_count": 484,
   "metadata": {
    "collapsed": false
   },
   "outputs": [
    {
     "name": "stdout",
     "output_type": "stream",
     "text": [
      "Converting seq strings to one-hot arrays took 90.039 sec\n",
      "(2024253, 145, 4)\n"
     ]
    }
   ],
   "source": [
    "import time\n",
    "t0 = time.time()\n",
    "# N = 10000000\n",
    "seqs = np.array([avutils.util.seq_to_one_hot(seq) for seq in seqStrings]).astype(np.int8)\n",
    "print(\"Converting seq strings to one-hot arrays took %.3f sec\" % (time.time() - t0))\n",
    "print seqs.shape"
   ]
  },
  {
   "cell_type": "code",
   "execution_count": 485,
   "metadata": {
    "collapsed": false
   },
   "outputs": [
    {
     "name": "stdout",
     "output_type": "stream",
     "text": [
      "Computing reference predictions took 58.702 sec\n"
     ]
    }
   ],
   "source": [
    "t0 = time.time()\n",
    "refPreds = keras_model.predict(seqs, batch_size=500)\n",
    "print(\"Computing reference predictions took %.3f sec\" % (time.time() - t0))"
   ]
  },
  {
   "cell_type": "code",
   "execution_count": 165,
   "metadata": {
    "collapsed": true
   },
   "outputs": [],
   "source": [
    "# seqs = seqs.astype(np.float16)\n",
    "seqsMutated = np.ndarray(shape=(4, seqs.shape[0], seqs.shape[1], seqs.shape[2]), dtype=np.int8)\n",
    "for i in range(4):\n",
    "    seqs[:, seqs.shape[1]/2] = np.zeros(4)\n",
    "    seqs[:, seqs.shape[1]/2, i] = 1.0\n",
    "    seqsMutated[i] = seqs"
   ]
  },
  {
   "cell_type": "code",
   "execution_count": 166,
   "metadata": {
    "collapsed": false
   },
   "outputs": [
    {
     "name": "stdout",
     "output_type": "stream",
     "text": [
      "Computing reference predictions took 29.889 sec\n",
      "Computing mutated predictions took 110.198 sec\n"
     ]
    }
   ],
   "source": [
    "mutPreds = np.ndarray(shape=(4, seqs.shape[0], refPreds.shape[1]), dtype=np.float32)\n",
    "t0 = time.time()\n",
    "for i in range(len(mutPreds)):\n",
    "    mutPreds[i] = keras_model.predict(seqsMutated[i], batch_size=500)\n",
    "print(\"Computing mutated predictions took %.3f sec\" % (time.time() - t0))"
   ]
  },
  {
   "cell_type": "code",
   "execution_count": 450,
   "metadata": {
    "collapsed": false
   },
   "outputs": [
    {
     "name": "stdout",
     "output_type": "stream",
     "text": [
      "The autoreload extension is already loaded. To reload it, use:\n",
      "  %reload_ext autoreload\n",
      "nonlinear_mxts_mode is set to: DeepLIFT_GenomicsDefault\n",
      "For layer 1 the preceding linear layer is 0 of type Conv1D;\n",
      "In accordance with nonlinear_mxts_mode=DeepLIFT_GenomicsDefault we are setting the NonlinearMxtsMode to Rescale\n",
      "For layer 5 the preceding linear layer is 4 of type Conv1D;\n",
      "In accordance with nonlinear_mxts_mode=DeepLIFT_GenomicsDefault we are setting the NonlinearMxtsMode to Rescale\n",
      "For layer 10 the preceding linear layer is 8 of type Conv1D;\n",
      "In accordance with nonlinear_mxts_mode=DeepLIFT_GenomicsDefault we are setting the NonlinearMxtsMode to Rescale\n",
      "1000000 reference seqs generated\n",
      "2000000 reference seqs generated\n",
      "3000000 reference seqs generated\n",
      "4000000 reference seqs generated\n",
      "5000000 reference seqs generated\n",
      "6000000 reference seqs generated\n",
      "7000000 reference seqs generated\n",
      "8000000 reference seqs generated\n",
      "9000000 reference seqs generated\n",
      "10000000 reference seqs generated\n",
      "One hot encoding sequences...\n",
      "One hot encoding done...\n",
      "Done 0\n",
      "Done 1000000\n",
      "Done 2000000\n",
      "Done 3000000\n",
      "Done 4000000\n",
      "Done 5000000\n",
      "Done 6000000\n",
      "Done 7000000\n",
      "Done 8000000\n",
      "Done 9000000\n",
      "Done 10000000\n"
     ]
    }
   ],
   "source": [
    "%load_ext autoreload\n",
    "%autoreload 2\n",
    "%matplotlib inline\n",
    "import avutils\n",
    "from avutils import file_processing as fp\n",
    "import numpy as np\n",
    "from collections import OrderedDict\n",
    "from deeplift.blobs import NonlinearMxtsMode, DenseMxtsMode\n",
    "import deeplift\n",
    "reload(deeplift)\n",
    "import deeplift.conversion.keras_conversion as kc\n",
    "from deeplift.visualization import viz_sequence\n",
    "\n",
    "# normalize weights\n",
    "W, b = keras_model.layers[0].get_weights()\n",
    "mean_W = np.mean(W, axis = -2)\n",
    "W = W - mean_W[:, :, None, :]\n",
    "b = b + np.squeeze(np.sum(mean_W,axis=0))\n",
    "keras_model.layers[0].set_weights([W, b])\n",
    "\n",
    "deeplift_model = kc.convert_sequential_model(keras_model,\n",
    "                                             nonlinear_mxts_mode=deeplift.blobs.NonlinearMxtsMode.DeepLIFT_GenomicsDefault)\n",
    "\n",
    "deeplift_prediction_function = deeplift_model.get_prediction_function(input_layer_idx = 0,\n",
    "                                                                      output_layer_idx = -1\n",
    "                                                                     )\n",
    "\n",
    "deeplift_scoring_func = deeplift_model.get_target_contribs_func(find_scores_layer_idx = 0,\n",
    "                                                                target_layer_idx = -1\n",
    "                                                               )\n",
    "\n",
    "import avutils\n",
    "from deeplift.dinuc_shuffle import dinuc_shuffle\n",
    "\n",
    "seed = 0\n",
    "deeplift_many_refs_func = deeplift.util.get_shuffle_seq_ref_function(\n",
    "                                score_computation_function=deeplift_scoring_func, #supply any deeplift scoring function\n",
    "                                shuffle_func=deeplift.dinuc_shuffle.dinuc_shuffle,\n",
    "                                seed=seed,\n",
    "                                one_hot_func=lambda x: np.array([avutils.util.seq_to_one_hot(seq) for seq in x]) #theano_seq_to_2d_image, seq_to_one_hot\n",
    "                            )\n",
    "\n",
    "task_idxs = [8] # 'average' tasks for k5minp, k5sv40, hepminp, hepsv40 respectively\n",
    "\n",
    "task_to_deeplift_contribs = OrderedDict()\n",
    "for task_idx in task_idxs:\n",
    "    task_to_deeplift_contribs[task_idx] = np.array(deeplift_many_refs_func(\n",
    "                                                      task_idx = task_idx,\n",
    "                                                      input_data_sequences=seqStrings,\n",
    "                                                      num_refs_per_seq=5,\n",
    "                                                      batch_size=500,\n",
    "                                                      progress_update=1000000))"
   ]
  },
  {
   "cell_type": "code",
   "execution_count": 451,
   "metadata": {
    "collapsed": false
   },
   "outputs": [],
   "source": [
    "task_to_deeplift_summedscores = OrderedDict()\n",
    "for task_idx in task_idxs:\n",
    "    summed_scores = np.sum(task_to_deeplift_contribs[task_idx], axis=2)\n",
    "    task_to_deeplift_summedscores[task_idx] = np.expand_dims(summed_scores, axis=2)*seqs"
   ]
  },
  {
   "cell_type": "code",
   "execution_count": 452,
   "metadata": {
    "collapsed": true
   },
   "outputs": [],
   "source": [
    "deeplift_minp = np.abs(np.sum(task_to_deeplift_summedscores[8], axis=2)[:, 72])"
   ]
  },
  {
   "cell_type": "code",
   "execution_count": 487,
   "metadata": {
    "collapsed": true
   },
   "outputs": [],
   "source": [
    "np.save(\"../variant_scoring/LDL_gwasNatGenet/refPreds_all_5e3_corrected.npy\",\n",
    "        refPreds)\n",
    "# np.save(\"../variant_scoring/LDL_gwasNatGenet/mutPreds_all_5e3.npy\",\n",
    "#         mutPreds)"
   ]
  },
  {
   "cell_type": "code",
   "execution_count": 100,
   "metadata": {
    "collapsed": true
   },
   "outputs": [],
   "source": [
    "np.save(\"../variant_scoring/LDL_gwasNatGenet/deepliftScores_all_5e3.npy\",\n",
    "        deeplift_minp)"
   ]
  },
  {
   "cell_type": "code",
   "execution_count": 378,
   "metadata": {
    "collapsed": true
   },
   "outputs": [],
   "source": [
    "deepliftScores = np.load(\"../variant_scoring/LDL_gwasNatGenet/deepliftScores_all_5e3.npy\")"
   ]
  },
  {
   "cell_type": "code",
   "execution_count": 379,
   "metadata": {
    "collapsed": false
   },
   "outputs": [
    {
     "name": "stdout",
     "output_type": "stream",
     "text": [
      "(2024253,)\n"
     ]
    }
   ],
   "source": [
    "print deepliftScores.shape"
   ]
  },
  {
   "cell_type": "code",
   "execution_count": 280,
   "metadata": {
    "collapsed": true
   },
   "outputs": [],
   "source": [
    "refPreds = np.load(\"../variant_scoring/LDL_gwasNatGenet/refPreds_all_5e3.npy\")\n",
    "mutPreds = np.load(\"../variant_scoring/LDL_gwasNatGenet/mutPreds_all_5e3.npy\")"
   ]
  },
  {
   "cell_type": "code",
   "execution_count": 488,
   "metadata": {
    "collapsed": false
   },
   "outputs": [],
   "source": [
    "delta = mutPreds[:, :, 8] - refPreds[:, 8]\n",
    "maxIndices = np.argmax(np.abs(delta), axis=0)\n",
    "# signed_scores_minp = np.take(delta, maxIndices, axis=0)\n",
    "signed_scores_minp = []\n",
    "for (i,idx) in enumerate(maxIndices):\n",
    "    signed_scores_minp.append(delta[idx, i])\n",
    "signed_scores_minp = np.array(signed_scores_minp)\n",
    "signed_percents = 100 * signed_scores_minp / np.abs(refPreds[:, 8])\n",
    "scores_minp = np.max(np.abs(mutPreds[:, :, 8] - refPreds[:, 8]), axis=0)"
   ]
  },
  {
   "cell_type": "code",
   "execution_count": 489,
   "metadata": {
    "collapsed": false
   },
   "outputs": [
    {
     "name": "stdout",
     "output_type": "stream",
     "text": [
      "(2024253,)\n",
      "[ 0.02218631 -0.16143413 -0.04134776 -0.05216216  0.09580588  0.13183722\n",
      "  0.05320449  0.05061182  0.05061182  0.03395439]\n",
      "[ 10.36034489 -76.75145721 -17.13240623 -35.65889359  77.16714478\n",
      "  33.55542755  92.1968689   52.54468536  52.54468536  23.3376503 ]\n"
     ]
    }
   ],
   "source": [
    "print signed_scores_minp.shape\n",
    "print signed_scores_minp[:10]\n",
    "print signed_percents[:10]"
   ]
  },
  {
   "cell_type": "code",
   "execution_count": 490,
   "metadata": {
    "collapsed": false
   },
   "outputs": [
    {
     "name": "stdout",
     "output_type": "stream",
     "text": [
      "(2024253,)\n",
      "2025319\n",
      "('rs263526', 'rs192939156')\n"
     ]
    }
   ],
   "source": [
    "print scores_minp.shape\n",
    "print len(snps)\n",
    "print snps[0]\n",
    "# print len(set([snp[0] for snp in snps]))\n",
    "# print len(set([snp[1] for snp in snps]))"
   ]
  },
  {
   "cell_type": "code",
   "execution_count": 491,
   "metadata": {
    "collapsed": false
   },
   "outputs": [],
   "source": [
    "from collections import OrderedDict\n",
    "\n",
    "scoresPerTagSnp = OrderedDict()\n",
    "percentsPerTagSnp = OrderedDict()\n",
    "ldSnpsPerTagSnp = OrderedDict()\n",
    "\n",
    "for (i, score) in enumerate(signed_scores_minp):\n",
    "    tagSnp, ldSnp = snps[i]\n",
    "    if tagSnp not in scoresPerTagSnp:\n",
    "        scoresPerTagSnp[tagSnp] = []\n",
    "    scoresPerTagSnp[tagSnp].append(score)\n",
    "    if tagSnp not in percentsPerTagSnp:\n",
    "        percentsPerTagSnp[tagSnp] = []\n",
    "    percentsPerTagSnp[tagSnp].append(signed_percents[i])\n",
    "    if tagSnp not in ldSnpsPerTagSnp:\n",
    "        ldSnpsPerTagSnp[tagSnp] = []\n",
    "    ldSnpsPerTagSnp[tagSnp].append(ldSnp)\n",
    "\n",
    "maxScorePerTagSnp = OrderedDict()\n",
    "maxPercentPerTagSnp = OrderedDict()\n",
    "topLdSnpPerTagSnp = OrderedDict()\n",
    "for tagSnp in scoresPerTagSnp:\n",
    "    maxAbsIdx = np.argmax(np.abs(np.array(scoresPerTagSnp[tagSnp])))\n",
    "    maxScorePerTagSnp[tagSnp] = scoresPerTagSnp[tagSnp][maxAbsIdx]\n",
    "    maxPercentAbsIdx = np.argmax(np.abs(np.array(percentsPerTagSnp[tagSnp])))\n",
    "    maxPercentPerTagSnp[tagSnp] = percentsPerTagSnp[tagSnp][maxAbsIdx]\n",
    "    topLdSnpPerTagSnp[tagSnp] = ldSnpsPerTagSnp[tagSnp][maxAbsIdx]"
   ]
  },
  {
   "cell_type": "code",
   "execution_count": 492,
   "metadata": {
    "collapsed": true
   },
   "outputs": [],
   "source": [
    "testedTagSnps = []\n",
    "testedPvals = []\n",
    "testedMaxScores = []\n",
    "testedLdBlockSizes = []\n",
    "testedTopLdSnps = []\n",
    "testedMaxPercents = []\n",
    "\n",
    "for snp in maxScorePerTagSnp:\n",
    "    testedTopLdSnps.append(topLdSnpPerTagSnp[snp])\n",
    "    testedTagSnps.append(snp)\n",
    "    testedPvals.append(snpPvals[snp])\n",
    "    testedMaxScores.append(maxScorePerTagSnp[snp])\n",
    "    testedLdBlockSizes.append(len(scoresPerTagSnp[snp]))\n",
    "    testedMaxPercents.append(maxPercentPerTagSnp[snp])\n",
    "    \n",
    "testedTagSnps = np.array(testedTagSnps)\n",
    "testedPvals = np.array(testedPvals)\n",
    "testedMaxScores = np.array(testedMaxScores)\n",
    "testedLdBlockSizes = np.array(testedLdBlockSizes)\n",
    "testedTopLdSnps = np.array(testedTopLdSnps)\n",
    "testedMaxPercents = np.array(testedMaxPercents)"
   ]
  },
  {
   "cell_type": "code",
   "execution_count": 493,
   "metadata": {
    "collapsed": false
   },
   "outputs": [
    {
     "name": "stdout",
     "output_type": "stream",
     "text": [
      "3695\n",
      "9255\n",
      "31.2847090663\n",
      "28.9255537547\n",
      "0.178653\n",
      "0.137775\n",
      "0.140545\n",
      "0.112073\n",
      "0.127041\n",
      "0.102095\n",
      "633.333\n",
      "662.402\n",
      "87.7388\n",
      "65.3552\n",
      "4512.42\n",
      "17110.4\n",
      "MannwhitneyuResult(statistic=15921241.0, pvalue=4.4345039998040536e-10)\n",
      "MannwhitneyuResult(statistic=16128992.5, pvalue=2.2424236912171889e-07)\n"
     ]
    }
   ],
   "source": [
    "import scipy.stats as sp\n",
    "\n",
    "thresh = 5e-6\n",
    "sig = testedPvals < thresh\n",
    "sig = np.logical_and(testedPvals < thresh, testedLdBlockSizes < 100)\n",
    "notsig = testedPvals > 0.1\n",
    "notsig = np.logical_and(testedPvals > 0.1, testedLdBlockSizes < 100)\n",
    "# notsig = np.logical_not(sig)\n",
    "# notsig = testedPvals > thresh\n",
    "# notsig = testedPvals > 0.1\n",
    "# sig = testedPvals < 5e-6\n",
    "# notsig = testedPvals >= 0.1\n",
    "print np.sum(sig)\n",
    "print np.sum(notsig)\n",
    "print np.mean([len(scoresPerTagSnp[snp]) for snp in testedTagSnps[sig]])\n",
    "print np.mean([len(scoresPerTagSnp[snp]) for snp in testedTagSnps[notsig]])\n",
    "print np.mean(np.abs(testedMaxScores[sig]))\n",
    "print np.mean(np.abs(testedMaxScores[notsig]))\n",
    "print np.median(np.abs(testedMaxScores[sig]))\n",
    "print np.median(np.abs(testedMaxScores[notsig]))\n",
    "print np.std(np.abs(testedMaxScores[sig]))\n",
    "print np.std(np.abs(testedMaxScores[notsig]))\n",
    "\n",
    "print np.mean(np.abs(testedMaxPercents[sig]))\n",
    "print np.mean(np.abs(testedMaxPercents[notsig]))\n",
    "print np.median(np.abs(testedMaxPercents[sig]))\n",
    "print np.median(np.abs(testedMaxPercents[notsig]))\n",
    "print np.std(np.abs(testedMaxPercents[sig]))\n",
    "print np.std(np.abs(testedMaxPercents[notsig]))\n",
    "\n",
    "print sp.mannwhitneyu(testedMaxScores[sig], testedMaxScores[notsig])\n",
    "print sp.mannwhitneyu(testedMaxPercents[sig], testedMaxPercents[notsig])"
   ]
  },
  {
   "cell_type": "code",
   "execution_count": 494,
   "metadata": {
    "collapsed": true
   },
   "outputs": [],
   "source": [
    "sigClass = []\n",
    "for i in range(len(sig)):\n",
    "    if sig[i] == True:\n",
    "        sigClass.append(1)\n",
    "    elif notsig[i] == True:\n",
    "        sigClass.append(0)\n",
    "    else:\n",
    "        sigClass.append(-1)"
   ]
  },
  {
   "cell_type": "code",
   "execution_count": 495,
   "metadata": {
    "collapsed": false
   },
   "outputs": [
    {
     "name": "stdout",
     "output_type": "stream",
     "text": [
      "SpearmanrResult(correlation=-0.16006646311290046, pvalue=8.9292355879964982e-207)\n",
      "SpearmanrResult(correlation=0.16006647599240867, pvalue=8.9285495205009407e-207)\n"
     ]
    }
   ],
   "source": [
    "from scipy.stats import spearmanr\n",
    "\n",
    "print spearmanr(np.abs(testedMaxScores), testedPvals)\n",
    "print spearmanr(np.abs(testedMaxScores), -1*np.log10(testedPvals + 1e-200))"
   ]
  },
  {
   "cell_type": "code",
   "execution_count": 496,
   "metadata": {
    "collapsed": false
   },
   "outputs": [
    {
     "name": "stdout",
     "output_type": "stream",
     "text": [
      "26538\n"
     ]
    }
   ],
   "source": [
    "print len(set(list(testedTopLdSnps)))"
   ]
  },
  {
   "cell_type": "code",
   "execution_count": 504,
   "metadata": {
    "collapsed": false
   },
   "outputs": [],
   "source": [
    "negLogP = -1*np.log10(testedPvals + 1e-200)\n",
    "absScores = np.abs(testedMaxScores)\n",
    "low = np.logical_and(negLogP < np.percentile(negLogP, 80), absScores < np.percentile(absScores, 80))\n",
    "high = np.logical_and(negLogP > np.percentile(negLogP, 60), np.logical_or(testedMaxScores > np.percentile(absScores, 90),\n",
    "                                                                          testedMaxScores < np.percentile(absScores, 10))\n",
    "                                                                         )\n",
    "random = np.random.random(len(absScores)) < 0.125\n",
    "colored = np.logical_and(negLogP > 7.3, np.logical_or(testedMaxScores > 0.45,\n",
    "                                                      testedMaxScores < -0.45))\n",
    "show = np.logical_or(np.logical_and(negLogP > 7.3, np.logical_or(testedMaxScores > 0.45, testedMaxScores < -0.45)),\n",
    "                     np.logical_and(negLogP < 7.3, np.logical_and(testedMaxScores < 0.45, testedMaxScores > -0.45)))\n",
    "disease = []\n",
    "for i in range(len(colored)):\n",
    "    if colored[i] == False:\n",
    "        disease.append('Not Significant')\n",
    "    else:\n",
    "        disease.append(np.random.choice(['HDL', 'LDL', 'Obesity']))"
   ]
  },
  {
   "cell_type": "code",
   "execution_count": 682,
   "metadata": {
    "collapsed": false
   },
   "outputs": [
    {
     "name": "stdout",
     "output_type": "stream",
     "text": [
      "36071\n",
      "64\n",
      "80\n",
      "65\n"
     ]
    }
   ],
   "source": [
    "print disease.count('Not Significant')\n",
    "print disease.count('HDL')\n",
    "print disease.count('LDL')\n",
    "print disease.count('Obesity')"
   ]
  },
  {
   "cell_type": "code",
   "execution_count": 505,
   "metadata": {
    "collapsed": true
   },
   "outputs": [],
   "source": [
    "df_dict = {}\n",
    "\n",
    "df_dict['tagId'] = testedTagSnps\n",
    "df_dict['topId'] = testedTopLdSnps\n",
    "df_dict['pval'] = testedPvals\n",
    "df_dict['neglogp'] = -1*np.log10(testedPvals + 1e-200)\n",
    "df_dict['score'] = testedMaxScores\n",
    "df_dict['absscore'] = np.abs(testedMaxScores)\n",
    "df_dict['ldblocksize'] = testedLdBlockSizes\n",
    "df_dict['sig'] = sig\n",
    "df_dict['notsig'] = notsig\n",
    "df_dict['sigclass'] = sigClass\n",
    "df_dict['volcanoend'] = np.logical_or(np.logical_or(low, high), random)\n",
    "df_dict['percent'] = testedMaxPercents\n",
    "df_dict['abspercent'] = np.abs(testedMaxPercents)\n",
    "df_dict['colored'] = colored\n",
    "df_dict['show'] = show\n",
    "df_dict['disease'] = disease\n",
    "\n",
    "import pandas as pd\n",
    "\n",
    "df = pd.DataFrame.from_dict(df_dict)\n",
    "\n",
    "df[df['neglogp'] < 49].to_csv('../variant_scoring/LDL_gwasNatGenet/plotData/snpScores_all_5e3_showEdges_corrected.csv',\n",
    "                              sep = ',')\n",
    "# df[df['show'] == True].to_csv('../variant_scoring/LDL_gwasNatGenet/plotData/snpScores_all_5e3_showEdges.csv',\n",
    "#                               sep = ',')\n",
    "df[df['sigclass'] >= 0].to_csv('../variant_scoring/LDL_gwasNatGenet/plotData/snpScores_all_5e3_sigNotSig_5e6_corrected.csv',\n",
    "                               sep = ',')"
   ]
  },
  {
   "cell_type": "code",
   "execution_count": 683,
   "metadata": {
    "collapsed": false
   },
   "outputs": [
    {
     "data": {
      "text/html": [
       "<div>\n",
       "<table border=\"1\" class=\"dataframe\">\n",
       "  <thead>\n",
       "    <tr style=\"text-align: right;\">\n",
       "      <th></th>\n",
       "      <th>abspercent</th>\n",
       "      <th>absscore</th>\n",
       "      <th>colored</th>\n",
       "      <th>disease</th>\n",
       "      <th>ldblocksize</th>\n",
       "      <th>neglogp</th>\n",
       "      <th>notsig</th>\n",
       "      <th>percent</th>\n",
       "      <th>pval</th>\n",
       "      <th>score</th>\n",
       "      <th>show</th>\n",
       "      <th>sig</th>\n",
       "      <th>sigclass</th>\n",
       "      <th>tagId</th>\n",
       "      <th>topId</th>\n",
       "      <th>volcanoend</th>\n",
       "    </tr>\n",
       "  </thead>\n",
       "  <tbody>\n",
       "    <tr>\n",
       "      <th>657</th>\n",
       "      <td>1285.608032</td>\n",
       "      <td>1.168692</td>\n",
       "      <td>True</td>\n",
       "      <td>LDL</td>\n",
       "      <td>164</td>\n",
       "      <td>9.668775</td>\n",
       "      <td>False</td>\n",
       "      <td>1285.608032</td>\n",
       "      <td>2.144000e-10</td>\n",
       "      <td>1.168692</td>\n",
       "      <td>True</td>\n",
       "      <td>False</td>\n",
       "      <td>-1</td>\n",
       "      <td>rs4927216</td>\n",
       "      <td>rs6658758</td>\n",
       "      <td>True</td>\n",
       "    </tr>\n",
       "    <tr>\n",
       "      <th>5646</th>\n",
       "      <td>662.612122</td>\n",
       "      <td>0.921508</td>\n",
       "      <td>True</td>\n",
       "      <td>HDL</td>\n",
       "      <td>50</td>\n",
       "      <td>40.154716</td>\n",
       "      <td>False</td>\n",
       "      <td>662.612122</td>\n",
       "      <td>7.003000e-41</td>\n",
       "      <td>0.921508</td>\n",
       "      <td>True</td>\n",
       "      <td>True</td>\n",
       "      <td>1</td>\n",
       "      <td>rs174583</td>\n",
       "      <td>rs5792235</td>\n",
       "      <td>True</td>\n",
       "    </tr>\n",
       "    <tr>\n",
       "      <th>15252</th>\n",
       "      <td>3197.253906</td>\n",
       "      <td>0.923429</td>\n",
       "      <td>True</td>\n",
       "      <td>LDL</td>\n",
       "      <td>132</td>\n",
       "      <td>177.962574</td>\n",
       "      <td>False</td>\n",
       "      <td>3197.253906</td>\n",
       "      <td>1.090000e-178</td>\n",
       "      <td>0.923429</td>\n",
       "      <td>True</td>\n",
       "      <td>False</td>\n",
       "      <td>-1</td>\n",
       "      <td>rs515135</td>\n",
       "      <td>rs192400410</td>\n",
       "      <td>True</td>\n",
       "    </tr>\n",
       "  </tbody>\n",
       "</table>\n",
       "</div>"
      ],
      "text/plain": [
       "        abspercent  absscore colored disease  ldblocksize     neglogp notsig  \\\n",
       "657    1285.608032  1.168692    True     LDL          164    9.668775  False   \n",
       "5646    662.612122  0.921508    True     HDL           50   40.154716  False   \n",
       "15252  3197.253906  0.923429    True     LDL          132  177.962574  False   \n",
       "\n",
       "           percent           pval     score  show    sig  sigclass      tagId  \\\n",
       "657    1285.608032   2.144000e-10  1.168692  True  False        -1  rs4927216   \n",
       "5646    662.612122   7.003000e-41  0.921508  True   True         1   rs174583   \n",
       "15252  3197.253906  1.090000e-178  0.923429  True  False        -1   rs515135   \n",
       "\n",
       "             topId volcanoend  \n",
       "657      rs6658758       True  \n",
       "5646     rs5792235       True  \n",
       "15252  rs192400410       True  "
      ]
     },
     "execution_count": 683,
     "metadata": {},
     "output_type": "execute_result"
    }
   ],
   "source": [
    "# df = df.sort_values('score', ascending = False)\n",
    "idxs = np.logical_and(testedMaxScores > 0.75, testedPvals < 5e-8)\n",
    "df[idxs]"
   ]
  },
  {
   "cell_type": "code",
   "execution_count": 677,
   "metadata": {
    "collapsed": false
   },
   "outputs": [
    {
     "data": {
      "text/html": [
       "<div>\n",
       "<table border=\"1\" class=\"dataframe\">\n",
       "  <thead>\n",
       "    <tr style=\"text-align: right;\">\n",
       "      <th></th>\n",
       "      <th>abspercent</th>\n",
       "      <th>absscore</th>\n",
       "      <th>colored</th>\n",
       "      <th>disease</th>\n",
       "      <th>ldblocksize</th>\n",
       "      <th>neglogp</th>\n",
       "      <th>notsig</th>\n",
       "      <th>percent</th>\n",
       "      <th>pval</th>\n",
       "      <th>score</th>\n",
       "      <th>show</th>\n",
       "      <th>sig</th>\n",
       "      <th>sigclass</th>\n",
       "      <th>tagId</th>\n",
       "      <th>topId</th>\n",
       "      <th>volcanoend</th>\n",
       "    </tr>\n",
       "  </thead>\n",
       "  <tbody>\n",
       "    <tr>\n",
       "      <th>15163</th>\n",
       "      <td>81.925194</td>\n",
       "      <td>0.756084</td>\n",
       "      <td>True</td>\n",
       "      <td>Obesity</td>\n",
       "      <td>187</td>\n",
       "      <td>8.919374</td>\n",
       "      <td>False</td>\n",
       "      <td>-81.925194</td>\n",
       "      <td>1.204000e-09</td>\n",
       "      <td>-0.756084</td>\n",
       "      <td>True</td>\n",
       "      <td>False</td>\n",
       "      <td>-1</td>\n",
       "      <td>rs13020417</td>\n",
       "      <td>rs3923037</td>\n",
       "      <td>True</td>\n",
       "    </tr>\n",
       "    <tr>\n",
       "      <th>15390</th>\n",
       "      <td>81.925194</td>\n",
       "      <td>0.756084</td>\n",
       "      <td>True</td>\n",
       "      <td>LDL</td>\n",
       "      <td>6</td>\n",
       "      <td>28.929962</td>\n",
       "      <td>False</td>\n",
       "      <td>-81.925194</td>\n",
       "      <td>1.175000e-29</td>\n",
       "      <td>-0.756084</td>\n",
       "      <td>True</td>\n",
       "      <td>True</td>\n",
       "      <td>1</td>\n",
       "      <td>rs4426495</td>\n",
       "      <td>rs3923037</td>\n",
       "      <td>True</td>\n",
       "    </tr>\n",
       "    <tr>\n",
       "      <th>19501</th>\n",
       "      <td>160.724457</td>\n",
       "      <td>0.664312</td>\n",
       "      <td>True</td>\n",
       "      <td>HDL</td>\n",
       "      <td>99</td>\n",
       "      <td>16.859492</td>\n",
       "      <td>False</td>\n",
       "      <td>-160.724457</td>\n",
       "      <td>1.382000e-17</td>\n",
       "      <td>-0.664312</td>\n",
       "      <td>True</td>\n",
       "      <td>True</td>\n",
       "      <td>1</td>\n",
       "      <td>rs4812493</td>\n",
       "      <td>rs5841407</td>\n",
       "      <td>True</td>\n",
       "    </tr>\n",
       "    <tr>\n",
       "      <th>19599</th>\n",
       "      <td>142.119385</td>\n",
       "      <td>0.533862</td>\n",
       "      <td>True</td>\n",
       "      <td>HDL</td>\n",
       "      <td>92</td>\n",
       "      <td>8.755723</td>\n",
       "      <td>False</td>\n",
       "      <td>-142.119385</td>\n",
       "      <td>1.755000e-09</td>\n",
       "      <td>-0.533862</td>\n",
       "      <td>True</td>\n",
       "      <td>True</td>\n",
       "      <td>1</td>\n",
       "      <td>rs6016404</td>\n",
       "      <td>rs76349423</td>\n",
       "      <td>True</td>\n",
       "    </tr>\n",
       "    <tr>\n",
       "      <th>28048</th>\n",
       "      <td>123.749115</td>\n",
       "      <td>0.866143</td>\n",
       "      <td>True</td>\n",
       "      <td>Obesity</td>\n",
       "      <td>290</td>\n",
       "      <td>7.728623</td>\n",
       "      <td>False</td>\n",
       "      <td>-123.749115</td>\n",
       "      <td>1.868000e-08</td>\n",
       "      <td>-0.866143</td>\n",
       "      <td>True</td>\n",
       "      <td>False</td>\n",
       "      <td>-1</td>\n",
       "      <td>rs6457374</td>\n",
       "      <td>rs116458003</td>\n",
       "      <td>True</td>\n",
       "    </tr>\n",
       "    <tr>\n",
       "      <th>30679</th>\n",
       "      <td>92.065750</td>\n",
       "      <td>0.848217</td>\n",
       "      <td>True</td>\n",
       "      <td>HDL</td>\n",
       "      <td>67</td>\n",
       "      <td>8.100398</td>\n",
       "      <td>False</td>\n",
       "      <td>-92.065750</td>\n",
       "      <td>7.936000e-09</td>\n",
       "      <td>-0.848217</td>\n",
       "      <td>True</td>\n",
       "      <td>True</td>\n",
       "      <td>1</td>\n",
       "      <td>rs6455689</td>\n",
       "      <td>rs6923877</td>\n",
       "      <td>True</td>\n",
       "    </tr>\n",
       "    <tr>\n",
       "      <th>33652</th>\n",
       "      <td>80.687828</td>\n",
       "      <td>0.550956</td>\n",
       "      <td>True</td>\n",
       "      <td>LDL</td>\n",
       "      <td>59</td>\n",
       "      <td>7.624336</td>\n",
       "      <td>False</td>\n",
       "      <td>-80.687828</td>\n",
       "      <td>2.375000e-08</td>\n",
       "      <td>-0.550956</td>\n",
       "      <td>True</td>\n",
       "      <td>True</td>\n",
       "      <td>1</td>\n",
       "      <td>rs6982486</td>\n",
       "      <td>rs74884939</td>\n",
       "      <td>True</td>\n",
       "    </tr>\n",
       "    <tr>\n",
       "      <th>34523</th>\n",
       "      <td>50.336308</td>\n",
       "      <td>0.503454</td>\n",
       "      <td>True</td>\n",
       "      <td>HDL</td>\n",
       "      <td>22</td>\n",
       "      <td>43.338282</td>\n",
       "      <td>False</td>\n",
       "      <td>-50.336308</td>\n",
       "      <td>4.589000e-44</td>\n",
       "      <td>-0.503454</td>\n",
       "      <td>True</td>\n",
       "      <td>True</td>\n",
       "      <td>1</td>\n",
       "      <td>rs2980855</td>\n",
       "      <td>rs2980855</td>\n",
       "      <td>True</td>\n",
       "    </tr>\n",
       "    <tr>\n",
       "      <th>34532</th>\n",
       "      <td>128.295929</td>\n",
       "      <td>0.563853</td>\n",
       "      <td>True</td>\n",
       "      <td>LDL</td>\n",
       "      <td>21</td>\n",
       "      <td>26.104356</td>\n",
       "      <td>False</td>\n",
       "      <td>-128.295929</td>\n",
       "      <td>7.864000e-27</td>\n",
       "      <td>-0.563853</td>\n",
       "      <td>True</td>\n",
       "      <td>True</td>\n",
       "      <td>1</td>\n",
       "      <td>rs2954021</td>\n",
       "      <td>rs2980853</td>\n",
       "      <td>True</td>\n",
       "    </tr>\n",
       "  </tbody>\n",
       "</table>\n",
       "</div>"
      ],
      "text/plain": [
       "       abspercent  absscore colored  disease  ldblocksize    neglogp notsig  \\\n",
       "15163   81.925194  0.756084    True  Obesity          187   8.919374  False   \n",
       "15390   81.925194  0.756084    True      LDL            6  28.929962  False   \n",
       "19501  160.724457  0.664312    True      HDL           99  16.859492  False   \n",
       "19599  142.119385  0.533862    True      HDL           92   8.755723  False   \n",
       "28048  123.749115  0.866143    True  Obesity          290   7.728623  False   \n",
       "30679   92.065750  0.848217    True      HDL           67   8.100398  False   \n",
       "33652   80.687828  0.550956    True      LDL           59   7.624336  False   \n",
       "34523   50.336308  0.503454    True      HDL           22  43.338282  False   \n",
       "34532  128.295929  0.563853    True      LDL           21  26.104356  False   \n",
       "\n",
       "          percent          pval     score  show    sig  sigclass       tagId  \\\n",
       "15163  -81.925194  1.204000e-09 -0.756084  True  False        -1  rs13020417   \n",
       "15390  -81.925194  1.175000e-29 -0.756084  True   True         1   rs4426495   \n",
       "19501 -160.724457  1.382000e-17 -0.664312  True   True         1   rs4812493   \n",
       "19599 -142.119385  1.755000e-09 -0.533862  True   True         1   rs6016404   \n",
       "28048 -123.749115  1.868000e-08 -0.866143  True  False        -1   rs6457374   \n",
       "30679  -92.065750  7.936000e-09 -0.848217  True   True         1   rs6455689   \n",
       "33652  -80.687828  2.375000e-08 -0.550956  True   True         1   rs6982486   \n",
       "34523  -50.336308  4.589000e-44 -0.503454  True   True         1   rs2980855   \n",
       "34532 -128.295929  7.864000e-27 -0.563853  True   True         1   rs2954021   \n",
       "\n",
       "             topId volcanoend  \n",
       "15163    rs3923037       True  \n",
       "15390    rs3923037       True  \n",
       "19501    rs5841407       True  \n",
       "19599   rs76349423       True  \n",
       "28048  rs116458003       True  \n",
       "30679    rs6923877       True  \n",
       "33652   rs74884939       True  \n",
       "34523    rs2980855       True  \n",
       "34532    rs2980853       True  "
      ]
     },
     "execution_count": 677,
     "metadata": {},
     "output_type": "execute_result"
    }
   ],
   "source": [
    "# df = df.sort_values('score', ascending = True)\n",
    "idxs = np.logical_and(testedMaxScores < -0.5, testedPvals < 5e-8)\n",
    "df[idxs]"
   ]
  },
  {
   "cell_type": "code",
   "execution_count": 528,
   "metadata": {
    "collapsed": false
   },
   "outputs": [
    {
     "name": "stdout",
     "output_type": "stream",
     "text": [
      "788811\n",
      "814606\n",
      "733177\n",
      "733178\n",
      "31751\n",
      "324202\n",
      "779826\n",
      "378456\n",
      "1555069\n",
      "1773894\n"
     ]
    }
   ],
   "source": [
    "# Increase in expression\n",
    "print snps.index(('rs62135035', 'rs312967')) # APOB\n",
    "print snps.index(('rs515135', 'rs192400410')) # APOB\n",
    "print snps.index(('rs754255', 'rs139602107')) # GATAD2A\n",
    "print snps.index(('rs10405625', 'rs150938498')) # GATAD2A\n",
    "print snps.index(('rs4927216', 'rs6658758')) # PCSK9\n",
    "print snps.index(('rs174583', 'rs5792235')) # FADS\n",
    "\n",
    "# Decrease in expression\n",
    "print snps.index(('rs4426495', 'rs3923037')) #APOB\n",
    "print snps.index(('rs184518959', 'rs185108791')) # APOA5\n",
    "print snps.index(('rs6457374', 'rs116458003')) # HLA-C\n",
    "print snps.index(('rs6455689', 'rs6923877')) # LPA"
   ]
  },
  {
   "cell_type": "code",
   "execution_count": 676,
   "metadata": {
    "collapsed": false
   },
   "outputs": [
    {
     "name": "stdout",
     "output_type": "stream",
     "text": [
      "0.421137\n",
      "rs185108791\n"
     ]
    }
   ],
   "source": [
    "print maxScorePerTagSnp['rs184518959']\n",
    "print topLdSnpPerTagSnp['rs184518959']"
   ]
  },
  {
   "cell_type": "code",
   "execution_count": 519,
   "metadata": {
    "collapsed": false
   },
   "outputs": [
    {
     "name": "stdout",
     "output_type": "stream",
     "text": [
      "['rs10201379', 'rs10180633', 'rs10183548', 'rs5829761', 'rs6732011', 'rs3923037']\n"
     ]
    }
   ],
   "source": [
    "print ldSnpsPerTagSnp['rs4426495']"
   ]
  },
  {
   "cell_type": "code",
   "execution_count": 532,
   "metadata": {
    "collapsed": false
   },
   "outputs": [
    {
     "name": "stdout",
     "output_type": "stream",
     "text": [
      "0.922895\n",
      "[ 0.32127514  0.92289543  0.1821667   0.16681156]\n"
     ]
    },
    {
     "data": {
      "image/png": "[encoded data removed]",
      "text/plain": [
       "<matplotlib.figure.Figure at 0x7faabe54d5d0>"
      ]
     },
     "metadata": {},
     "output_type": "display_data"
    }
   ],
   "source": [
    "from deeplift.visualization import viz_sequence\n",
    "\n",
    "# idxs = [779826, 788811, 814606, 733177, 31751, 324202]\\\n",
    "idxs = [779826]\n",
    "\n",
    "for idx in idxs:\n",
    "    print refPreds[idx, 8]\n",
    "    print mutPreds[:, idx, 8]\n",
    "    viz_sequence.plot_weights(task_to_deeplift_summedscores[8][idx],\n",
    "                              tickcount=4)"
   ]
  },
  {
   "cell_type": "code",
   "execution_count": 535,
   "metadata": {
    "collapsed": false
   },
   "outputs": [
    {
     "name": "stdout",
     "output_type": "stream",
     "text": [
      "(4, 1000000, 145, 4)\n"
     ]
    }
   ],
   "source": [
    "print seqsMutated.shape"
   ]
  },
  {
   "cell_type": "code",
   "execution_count": 543,
   "metadata": {
    "collapsed": false
   },
   "outputs": [
    {
     "name": "stdout",
     "output_type": "stream",
     "text": [
      "(4, 145)\n"
     ]
    }
   ],
   "source": [
    "idx = 779826\n",
    "\n",
    "refPred = refPreds[idx, 8]\n",
    "\n",
    "origSeq = seqs[idx]\n",
    "saturationMutSeqs = np.ndarray(shape=(145, 4, 145, 4), dtype=np.int8)\n",
    "for i in range(145):\n",
    "    for j in range(4):\n",
    "        seq = np.copy(origSeq)\n",
    "        seq[i] = np.zeros(4)\n",
    "        seq[i, j] = 1\n",
    "        saturationMutSeqs[i, j] = seq\n",
    "saturationMutSeqs = np.reshape(saturationMutSeqs, (-1, 145, 4))\n",
    "saturationMutPreds = keras_model.predict(saturationMutSeqs, batch_size=200)\n",
    "ismScores = np.transpose(np.reshape(saturationMutPreds[:, 8], (145, 4))) - refPred\n",
    "print ismScores.shape"
   ]
  },
  {
   "cell_type": "code",
   "execution_count": 660,
   "metadata": {
    "collapsed": false
   },
   "outputs": [
    {
     "data": {
      "image/png": "[encoded data removed]",
      "text/plain": [
       "<matplotlib.figure.Figure at 0x7fad34b29910>"
      ]
     },
     "metadata": {},
     "output_type": "display_data"
    }
   ],
   "source": [
    "viz_sequence.plot_weights(task_to_deeplift_summedscores[8][idx][72-25 : 72+25],\n",
    "                          tickcount=5,\n",
    "                          save=True,\n",
    "                          savepath='../plots/variant_scoring/deepliftTrack_50bp_%d' % idx,\n",
    "                          dpi=300)"
   ]
  },
  {
   "cell_type": "code",
   "execution_count": 730,
   "metadata": {
    "collapsed": false
   },
   "outputs": [
    {
     "data": {
      "image/png": "[encoded data removed]",
      "text/plain": [
       "<matplotlib.figure.Figure at 0x7fa8e01d66d0>"
      ]
     },
     "metadata": {},
     "output_type": "display_data"
    }
   ],
   "source": [
    "from matplotlib.patches import Rectangle\n",
    "\n",
    "fig = plt.figure(figsize=(20, 2), dpi=300)\n",
    "\n",
    "ax = fig.add_subplot(1, 1, 1)\n",
    "\n",
    "cbar_ax = fig.add_axes([.92, 0.128, .02, 0.772])\n",
    "\n",
    "ax = sns.heatmap(ismScores[:, 72-25 : 72+25], cmap = 'RdBu_r', center = 0,\n",
    "                 lw = 1.2, linecolor = 'black',\n",
    "                 ax = ax,\n",
    "#                  robust = True,\n",
    "                 cbar_ax = cbar_ax)\n",
    "\n",
    "ax.add_patch(Rectangle((0, 0), 50, 4, fill=False, edgecolor='black', lw=5))\n",
    "\n",
    "sns.heatmap(ismScores[:, 72-25 : 72+25], \n",
    "            mask = np.abs(ismScores[:, 72-25 : 72+25]) > 0, \n",
    "            cbar=False,\n",
    "            cmap = sns.color_palette(\"RdGy\", n_colors=3),\n",
    "            lw = 1.2, linecolor = 'black',\n",
    "            ax = ax)\n",
    "\n",
    "# bases = ['a', 'c', 'g', 't']\n",
    "# for (i, base) in enumerate(seqStrings[idx][72-25 : 72+25]):\n",
    "#     h = bases.index(base)\n",
    "#     if i == 0:\n",
    "#         ax.add_patch(Rectangle((i+0.05, h + 0.012), 0.938, 0.976, fill=True, edgecolor='black', lw=0, facecolor='#CCCCCC'))\n",
    "#     if base == 'a':\n",
    "#         ax.add_patch(Rectangle((i+0.02, h+0.05), 0.96, 0.8, fill=True, edgecolor='black', lw=0, facecolor='#CCCCCC'))\n",
    "#     if base == 't':\n",
    "#         ax.add_patch(Rectangle((i+0.02, h+0.02), 0.96, 0.93, fill=True, edgecolor='black', lw=0, facecolor='#CCCCCC'))\n",
    "#     ax.add_patch(Rectangle((i+0.012, h+0.012), 0.976, 0.976, fill=True, edgecolor='black', lw=0, facecolor='#CCCCCC'))\n",
    "\n",
    "ax.set_xticks([])\n",
    "ax.yaxis.set_ticks_position('none')\n",
    "locs = [x + 0.55 for x in range(4)]\n",
    "# ax.set_yticks(locs, ['A', 'C', 'G', 'T'], fontsize = 36, rotation = 0)\n",
    "# plt.tick_params(axis='y', which='major', labelsize=36)\n",
    "ax.set_yticks(locs)\n",
    "ax.set_yticklabels(['A', 'C', 'G', 'T'])\n",
    "plt.setp(ax.get_yticklabels(), rotation=0, fontsize=24)\n",
    "\n",
    "cbar_ax.set_frame_on(False)\n",
    "cbar_ax.yaxis.set_ticks_position('none')\n",
    "plt.setp(cbar_ax.get_yticklabels(), rotation=0, fontsize=0)\n",
    "# plt.setp(ax.collections, linewidth = 10)\n",
    "\n",
    "ax.tick_params(axis='y', which='major', pad=15)\n",
    "\n",
    "plt.savefig('../plots/variant_scoring/ismTrack_50bp_shorter_linestyle_greyedout_%d' % idx, dpi = 600)\n",
    "plt.show()"
   ]
  },
  {
   "cell_type": "code",
   "execution_count": 525,
   "metadata": {
    "collapsed": false
   },
   "outputs": [
    {
     "name": "stdout",
     "output_type": "stream",
     "text": [
      "tttgtatgggtcccatggtgttattcaaggtttatggtattgcagtaaccatgatgaaaaatacatgagaaccggaagagatcacttgttattgcaatatacagtttactggagagataaccttcccatgtggagatgaatagca\n",
      "acatgagaaccggaagagat\n"
     ]
    }
   ],
   "source": [
    "print seqStrings[779826]\n",
    "print seqStrings[779826][62:82]"
   ]
  },
  {
   "cell_type": "code",
   "execution_count": 481,
   "metadata": {
    "collapsed": false
   },
   "outputs": [
    {
     "data": {
      "text/plain": [
       "array([[ 0.        ,  0.        ,  0.        ,  0.        ],\n",
       "       [-0.        , -0.        , -0.00092608, -0.        ],\n",
       "       [-0.        , -0.        , -0.00025197, -0.        ],\n",
       "       [ 0.00165053,  0.        ,  0.        ,  0.        ],\n",
       "       [ 0.        ,  0.00025478,  0.        ,  0.        ],\n",
       "       [-0.        , -0.        , -0.        , -0.00641352],\n",
       "       [ 0.        ,  0.00460546,  0.        ,  0.        ],\n",
       "       [-0.        , -0.0021883 , -0.        , -0.        ],\n",
       "       [-0.        , -0.        , -0.        , -0.0098759 ],\n",
       "       [-0.        , -0.01111351, -0.        , -0.        ]], dtype=float32)"
      ]
     },
     "execution_count": 481,
     "metadata": {},
     "output_type": "execute_result"
    }
   ],
   "source": [
    "task_to_deeplift_summedscores[8][1956654][:10]"
   ]
  },
  {
   "cell_type": "code",
   "execution_count": 464,
   "metadata": {
    "collapsed": false
   },
   "outputs": [
    {
     "name": "stdout",
     "output_type": "stream",
     "text": [
      "ArgSpec(args=['array', 'figsize', 'height_padding_factor', 'length_padding', 'subticks_frequency', 'colors', 'plot_funcs', 'highlight', 'show', 'save', 'savepath', 'xlabel', 'ylabel', 'tickcount', 'xtickfontsize', 'ytickfontsize', 'start_coord', 'title', 'titlefontsize', 'xaxisfontsize', 'yaxisfontsize', 'xaxispad', 'yaxispad', 'titlepad', 'dpi'], varargs=None, keywords=None, defaults=((20, 2), 0.2, 1.0, 1.0, {0: 'green', 1: 'blue', 2: 'orange', 3: 'red'}, {0: <function plot_a at 0x7fad5eb49e60>, 1: <function plot_c at 0x7fad5eb5f578>, 2: <function plot_g at 0x7fad5eb5f8c0>, 3: <function plot_t at 0x7fad5eb5f938>}, {}, True, False, None, 'Genomic Coordinate', 'DeepLIFT Score', 20.0, 16, 16, None, None, 24, 24, 18, 15, 10, 15, 300))\n"
     ]
    }
   ],
   "source": [
    "import inspect\n",
    "print inspect.getargspec(viz_sequence.plot_weights)"
   ]
  },
  {
   "cell_type": "code",
   "execution_count": 409,
   "metadata": {
    "collapsed": false
   },
   "outputs": [
    {
     "data": {
      "image/png": "[encoded data removed]",
      "text/plain": [
       "<matplotlib.figure.Figure at 0x7facee131710>"
      ]
     },
     "metadata": {},
     "output_type": "display_data"
    }
   ],
   "source": [
    "import matplotlib.pyplot as plt\n",
    "import seaborn as sns\n",
    "\n",
    "# sns.kdeplot(data = df[df['sigclass'] == 1]['absscore'])\n",
    "# sns.kdeplot(data = df[df['sigclass'] == 0]['absscore'])\n",
    "ax = sns.boxplot(data = df[df['sigclass'] >= 0], y = 'abspercent', x = 'sigclass', fliersize=0)\n",
    "\n",
    "ax.set_ylim(0, 500)\n",
    "\n",
    "plt.show()"
   ]
  },
  {
   "cell_type": "code",
   "execution_count": 380,
   "metadata": {
    "collapsed": false
   },
   "outputs": [
    {
     "data": {
      "image/png": "[encoded data removed]",
      "text/plain": [
       "<matplotlib.figure.Figure at 0x7fa86eaeb690>"
      ]
     },
     "metadata": {},
     "output_type": "display_data"
    }
   ],
   "source": [
    "from scipy.stats import spearmanr\n",
    "\n",
    "sns.jointplot(data = df[df['volcanoend'] == True], x = 'score', y = 'neglogp', stat_func = spearmanr, alpha = 0.1)\n",
    "\n",
    "plt.show()"
   ]
  },
  {
   "cell_type": "code",
   "execution_count": null,
   "metadata": {
    "collapsed": true
   },
   "outputs": [],
   "source": []
  }
 ],
 "metadata": {
  "anaconda-cloud": {},
  "kernelspec": {
   "display_name": "Python [conda env:mommadragonn]",
   "language": "python",
   "name": "conda-env-mommadragonn-py"
  },
  "language_info": {
   "codemirror_mode": {
    "name": "ipython",
    "version": 2
   },
   "file_extension": ".py",
   "mimetype": "text/x-python",
   "name": "python",
   "nbconvert_exporter": "python",
   "pygments_lexer": "ipython2",
   "version": "2.7.13"
  }
 },
 "nbformat": 4,
 "nbformat_minor": 2
}
