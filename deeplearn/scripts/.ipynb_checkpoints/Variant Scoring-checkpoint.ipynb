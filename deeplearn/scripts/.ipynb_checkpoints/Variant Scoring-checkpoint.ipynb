{
 "cells": [
  {
   "cell_type": "markdown",
   "metadata": {},
   "source": [
    "# Score LDL variants for the HepG2 task\n",
    "Look for variants that increase / decrease expression to explain mechanisms of disease, find causal variants, and predict the most pathogenic variants. Also a validation technique.\n",
    "\n",
    "1. make bed file with appropriate regions\n",
    "2. bedtools getfasta for the sequences\n",
    "3. intialize model\n",
    "4. convert to one hot\n",
    "5. try all base pair changes (ISM)\n",
    "6. compute deepLIFT scores"
   ]
  },
  {
   "cell_type": "code",
   "execution_count": 6,
   "metadata": {
    "collapsed": true
   },
   "outputs": [],
   "source": [
    "import os\n",
    "\n",
    "basePath = '../../data/variants/peyton_gwas/expanded_LD_geno/rsq_0.8/grasp/'\n",
    "phenotype = 'LDL_cholesterol'\n",
    "os.system('mkdir ../variant_scoring/%s' % phenotype)\n",
    "variantBed = open(basePath + phenotype + '_pruned_rsq_0.8_expanded_rsq_0.8.bed')\n",
    "variantSequenceBed = open('../variant_scoring/%s/variants_sequence_context.bed' % phenotype, 'w')\n",
    "associatedVariants = []\n",
    "for line in variantBed:\n",
    "    line = line.strip().split('\\t')\n",
    "    line[1] = str(int(line[1]) - 72)\n",
    "    line[2] = str(int(line[2]) + 72)\n",
    "    associatedVariants.append(line[3])\n",
    "    variantSequenceBed.write('\\t'.join(line) + '\\n')\n",
    "variantBed.close()\n",
    "variantSequenceBed.close()"
   ]
  },
  {
   "cell_type": "code",
   "execution_count": 4,
   "metadata": {
    "collapsed": false
   },
   "outputs": [],
   "source": [
    "!bedtools getfasta -fi /scratch/users/rmovva/data/hg19.fa -bed ../variant_scoring/LDL_cholesterol/variants_sequence_context.bed -fo ../variant_scoring/LDL_cholesterol/variant_sequences.fa"
   ]
  },
  {
   "cell_type": "code",
   "execution_count": 70,
   "metadata": {
    "collapsed": false
   },
   "outputs": [],
   "source": [
    "import avutils.util\n",
    "import deeplift\n",
    "import deeplift.conversion.keras_conversion as kc\n",
    "import numpy as np\n",
    "\n",
    "modelName = \"record_13_model_bgGhy_\"\n",
    "modelJson = \"../model_files/sharpr_znormed_jul23/\" + modelName + \"modelJson.json\"\n",
    "modelWeights = \"../model_files/sharpr_znormed_jul23/\" + modelName + \"modelWeights.h5\"\n",
    "\n",
    "keras_model = kc.load_keras_model(modelWeights, json=modelJson)\n",
    "\n",
    "seqNames = []\n",
    "seqStrings = []\n",
    "with open('../variant_scoring/%s/variant_sequences.fa' % phenotype) as seqFile:\n",
    "    i = 0\n",
    "    for line in seqFile:\n",
    "        line = line.strip()\n",
    "        if i % 2 == 0:\n",
    "            seqNames.append(line.split('>')[1] + ',' + associatedVariants[i/2])\n",
    "        else:\n",
    "            seqStrings.append(line)\n",
    "        i += 1\n",
    "\n",
    "import time\n",
    "t0 = time.time()\n",
    "seqs = np.array([avutils.util.seq_to_one_hot(seq) for seq in seqStrings]).astype(np.float32)\n",
    "print(\"Converting seq strings to one-hot arrays took %.3f sec\" % (time.time() - t0))\n",
    "print seqs.shape"
   ]
  },
  {
   "cell_type": "code",
   "execution_count": 17,
   "metadata": {
    "collapsed": true
   },
   "outputs": [],
   "source": [
    "seqs = seqs.astype(np.float32)\n",
    "seqsMutated = np.ndarray(shape=(4, seqs.shape[0], seqs.shape[1], seqs.shape[2]), dtype=np.float32)\n",
    "for i in range(4):\n",
    "    seqs[:, seqs.shape[1]/2] = np.zeros(4)\n",
    "    seqs[:, seqs.shape[1]/2, i] = 1.0\n",
    "    seqsMutated[i] = seqs"
   ]
  },
  {
   "cell_type": "code",
   "execution_count": 22,
   "metadata": {
    "collapsed": false
   },
   "outputs": [
    {
     "name": "stdout",
     "output_type": "stream",
     "text": [
      "[ 0.  0.  0.  1.]\n",
      "[[ 1.  0.  0.  0.]\n",
      " [ 0.  1.  0.  0.]\n",
      " [ 0.  0.  1.  0.]\n",
      " [ 0.  0.  0.  1.]]\n"
     ]
    }
   ],
   "source": [
    "print seqs[0][72]\n",
    "print seqsMutated[:, 0, 72, :]"
   ]
  },
  {
   "cell_type": "code",
   "execution_count": 23,
   "metadata": {
    "collapsed": false
   },
   "outputs": [
    {
     "name": "stdout",
     "output_type": "stream",
     "text": [
      "Computing reference predictions took 34.718 sec\n"
     ]
    }
   ],
   "source": [
    "t0 = time.time()\n",
    "refPreds = keras_model.predict(seqs, batch_size=200)\n",
    "print(\"Computing reference predictions took %.3f sec\" % (time.time() - t0))"
   ]
  },
  {
   "cell_type": "code",
   "execution_count": 24,
   "metadata": {
    "collapsed": false
   },
   "outputs": [
    {
     "name": "stdout",
     "output_type": "stream",
     "text": [
      "Computing mutated predictions took 138.671 sec\n"
     ]
    }
   ],
   "source": [
    "mutPreds = np.ndarray(shape=(4, seqs.shape[0], refPreds.shape[1]), dtype=np.float32)\n",
    "t0 = time.time()\n",
    "for i in range(len(mutPreds)):\n",
    "    mutPreds[i] = keras_model.predict(seqsMutated[i], batch_size=200)\n",
    "print(\"Computing mutated predictions took %.3f sec\" % (time.time() - t0))"
   ]
  },
  {
   "cell_type": "code",
   "execution_count": 148,
   "metadata": {
    "collapsed": false
   },
   "outputs": [],
   "source": [
    "# hepg2_scores = np.max(np.abs(np.log2(mutPreds[:, :, 8]) - np.log2(refPreds[:, 8])), axis=0)\n",
    "# k562_scores = np.max(np.abs(np.log2(mutPreds[:, :, 2]) - np.log2(refPreds[:, 2])), axis=0)\n",
    "# hepg2_scores = np.log2(np.max(np.abs((mutPreds[:, :, 8] - refPreds[:, 8]) / refPreds[:, 8]), axis=0))\n",
    "# k562_scores = np.log2(np.max(np.abs((mutPreds[:, :, 2] - refPreds[:, 2]) / refPreds[:, 2]), axis=0))\n",
    "hepg2_scores = np.max(np.abs(mutPreds[:, :, 11] - refPreds[:, 11]), axis=0)\n",
    "k562_scores = np.max(np.abs(mutPreds[:, :, 5] - refPreds[:, 5]), axis=0)"
   ]
  },
  {
   "cell_type": "code",
   "execution_count": 157,
   "metadata": {
    "collapsed": false
   },
   "outputs": [],
   "source": [
    "hepg2ScoresByTagSnp = {snp: [] for snp in set(associatedVariants)}\n",
    "k562ScoresByTagSnp = {snp: [] for snp in set(associatedVariants)}\n",
    "for (i, score) in enumerate(hepg2_scores):\n",
    "    hepg2ScoresByTagSnp[associatedVariants[i]].append(hepg2_scores[i])\n",
    "    k562ScoresByTagSnp[associatedVariants[i]].append(k562_scores[i])\n",
    "hepg2MaxScoresByTagSnp = {snp: np.max(hepg2ScoresByTagSnp[snp]) for snp in hepg2ScoresByTagSnp}\n",
    "k562MaxScoresByTagSnp = {snp: np.max(k562ScoresByTagSnp[snp]) for snp in k562ScoresByTagSnp}\n",
    "hepg2SecondScoresByTagSnp = {snp: hepg2ScoresByTagSnp[snp][0] if len(hepg2ScoresByTagSnp[snp]) == 1 else np.sort(hepg2ScoresByTagSnp[snp])[::-1][1] for snp in hepg2ScoresByTagSnp}\n",
    "k562SecondScoresByTagSnp = {snp: k562ScoresByTagSnp[snp][0] if len(k562ScoresByTagSnp[snp]) == 1 else np.sort(k562ScoresByTagSnp[snp])[::-1][1] for snp in k562ScoresByTagSnp}"
   ]
  },
  {
   "cell_type": "code",
   "execution_count": 160,
   "metadata": {
    "collapsed": false
   },
   "outputs": [
    {
     "name": "stdout",
     "output_type": "stream",
     "text": [
      "0.0401165 0.0371062\n",
      "0.0307385 0.0270016\n",
      "0.0886967 0.083682\n",
      "0.0657791 0.0587133\n",
      "1.56748 1.31324\n",
      "1.5424 1.32669\n"
     ]
    }
   ],
   "source": [
    "print np.mean(hepg2_scores), np.std(hepg2_scores)\n",
    "print np.mean(k562_scores), np.std(k562_scores)\n",
    "print np.mean(hepg2MaxScoresByTagSnp.values()), np.std(hepg2MaxScoresByTagSnp.values())\n",
    "print np.mean(k562MaxScoresByTagSnp.values()), np.std(k562MaxScoresByTagSnp.values())\n",
    "hepg2Ratios = np.array(hepg2MaxScoresByTagSnp.values()) / np.array(hepg2SecondScoresByTagSnp.values())\n",
    "k562Ratios = np.array(k562MaxScoresByTagSnp.values()) / np.array(k562SecondScoresByTagSnp.values())\n",
    "print np.mean(hepg2Ratios), np.std(hepg2Ratios)\n",
    "print np.mean(k562Ratios), np.std(k562Ratios)"
   ]
  },
  {
   "cell_type": "code",
   "execution_count": 151,
   "metadata": {
    "collapsed": false
   },
   "outputs": [
    {
     "data": {
      "image/png": "[encoded data removed]",
      "text/plain": [
       "<matplotlib.figure.Figure at 0x7fba225907d0>"
      ]
     },
     "metadata": {},
     "output_type": "display_data"
    }
   ],
   "source": [
    "import matplotlib.pyplot as plt\n",
    "import seaborn as sns\n",
    "\n",
    "sns.kdeplot(hepg2MaxScoresByTagSnp.values())\n",
    "sns.kdeplot(k562MaxScoresByTagSnp.values())\n",
    "plt.show()"
   ]
  },
  {
   "cell_type": "code",
   "execution_count": 131,
   "metadata": {
    "collapsed": false
   },
   "outputs": [
    {
     "name": "stdout",
     "output_type": "stream",
     "text": [
      "HepG2\n",
      "[ 1.29019952  1.20572996  1.06968939  1.04579473  1.03509963  0.97602427\n",
      "  0.96438742  0.95192677  0.94532216  0.93639517]\n",
      "[808722 231500 210803 621244 648508 414723 494358 631461 497844 566686]\n",
      "[ 0.00023094  0.00027475  0.00048102  0.000528    0.000606    0.000606\n",
      "  0.0006067   0.00060672  0.00063346  0.00067669]\n",
      "[198935  87611 725309 516173 590269 590268  58069  92427 975889 730089]\n",
      "K562\n",
      "[ 1.17142379  1.15530252  1.01787317  0.9672491   0.95594156  0.94325411\n",
      "  0.93980086  0.90893173  0.90420294  0.89360923]\n",
      "[808722 231500 648508 621244 210803 497844 414723 528849 566686 494358]\n",
      "[ 0.00036955  0.00052136  0.0005483   0.0006566   0.00089183  0.00104889\n",
      "  0.00105584  0.00107908  0.00108552  0.00112133]\n",
      "[ 50779 582144  53781  59562 469238 623531 445132 735473 822081 117239]\n",
      "9\n"
     ]
    }
   ],
   "source": [
    "print \"HepG2\"\n",
    "print np.sort(hepg2_scores)[::-1][:10]\n",
    "print np.argsort(hepg2_scores)[::-1][:10]\n",
    "print np.sort(hepg2_scores)[:10]\n",
    "print np.argsort(hepg2_scores)[:10]\n",
    "print \"K562\"\n",
    "print np.sort(k562_scores)[::-1][:10]\n",
    "print np.argsort(k562_scores)[::-1][:10]\n",
    "print np.sort(k562_scores)[:10]\n",
    "print np.argsort(k562_scores)[:10]\n",
    "print len(set(np.argsort(k562_scores)[::-1][:10]).intersection(np.argsort(hepg2_scores)[::-1][:10]))"
   ]
  },
  {
   "cell_type": "code",
   "execution_count": 123,
   "metadata": {
    "collapsed": false
   },
   "outputs": [
    {
     "name": "stdout",
     "output_type": "stream",
     "text": [
      "SpearmanrResult(correlation=0.7652785229639244, pvalue=0.0)\n"
     ]
    }
   ],
   "source": [
    "from scipy.stats import spearmanr\n",
    "\n",
    "# sample = np.random.choice(np.arange(len(hepg2_scores)), 1000)\n",
    "\n",
    "print spearmanr(k562_scores, hepg2_scores, nan_policy = 'omit')"
   ]
  },
  {
   "cell_type": "code",
   "execution_count": 127,
   "metadata": {
    "collapsed": false
   },
   "outputs": [
    {
     "name": "stdout",
     "output_type": "stream",
     "text": [
      "1\n",
      "1.2902\n",
      "acctggtggaatatgattgaattatggggtcaggtctttcccatgctgttctcatgatagtgaatgggtctcacgagatatgatggttttaaaaatgggagtttctctgcacaagctctctttttttgactgttgccatccatgt\n",
      "chr6:84544203-84544348,rs16874003\n",
      "gggtctcacgagata\n",
      "2\n",
      "1.20573\n",
      "gtgtttgcaatgaattttaaaaCGCACATCTGggtcaggtgcggtggctcacacctgtaatcccagcacttcaggaagctgatgtgggaggatcgcttgaggccaggagttcgagacccagcctgggcaacatagtgagatactg\n",
      "chr12:124410456-124410601,rs11057408\n",
      "gcacttcaggaagct\n",
      "3\n",
      "1.06969\n",
      "cccaaaagagaaaaaaacagaaaatcgactacagaatgaaaagagaaaggatgctggttcttccactcttccggaagtcactttatgcagaaaggaggagcttgccacaagtaagggaagtgcaacaacagtggccatgtttctt\n",
      "chr12:55572428-55572573,rs7966464\n",
      "ctcttccggaagtca\n",
      "4\n",
      "1.04579\n",
      "tggctcttgggggtggattcctcatgaatggctctgtgttgttctctgggccgtgagtgagtttttgctctctcgagactggtttagttcttgggggaatggattagttctcactaataaaagaacaggtttttatagagaaaga\n",
      "chr3:176929172-176929317,rs9290612\n",
      "tgctctctcgagact\n",
      "5\n",
      "1.0351\n",
      "ACCGTGATTTAAACATACTTCAAGAggctgggcatggtggctcacgcctgtaatcccagcactttcggaagccgaagtgggtggatcacaaggtcaggagttcaagaccagcctggccaagatggtgaaaccccatctctattaa\n",
      "chr4:46264609-46264754,rs504696\n",
      "cggaagccgaagtgg\n",
      "6\n",
      "0.976024\n",
      "acagaaaaaaaggaagttaaattatcttacactgatgatataatgctctacctagaaaactttacagatttcTGGAAGtatataattttaaaatataaattatGGCTGTTAAATATCTTCATTTCTATACCTCTTTTGGCTAATA\n",
      "chr19:21847561-21847706,rs16998334\n",
      "agatttcTGGAAGta\n",
      "7\n",
      "0.964387\n",
      "gtatatttcactgattaaatggaagcaatcagaagaaaaaagctagcttcaccctatcccatgtgtgcttgcacatgcgcacgcacacacacacacacacaccttaactacctgcatctgtgtcatgtattctgcattgtttatg\n",
      "chr2:195331729-195331874,rs1406028\n",
      "tgcttgcacatgcgc\n",
      "8\n",
      "0.951927\n",
      "ctgggttcaaataagccttagtagctgtgtcacctcagatgtggtacccactctctccaagcctttgcttcccgaaatggaggtagtacccacctgacaaggtccttgtgagataacacatagacactcatgagataacacatag\n",
      "chr4:5436312-5436457,rs3733183\n",
      "tgcttcccgaaatgg\n",
      "9\n",
      "0.945322\n",
      "gaactcccaacctcaggtgatccgcccgcctcgacctcccaaagtgctgggattacaggcatgagccaccacgtccggtcACTATGATTTTTGTAATAACCGTAATTTGATAACTAACGGAAACCCATTCACATTTCAACACCTT\n",
      "chr2:207570041-207570186,rs16838596\n",
      "ccaccacgtccggtc\n",
      "10\n",
      "0.936395\n",
      "AGGGAAGGAAACTGGCTGGAGGCCGCTGGACCCACAGAGGACAATAGACAATCTCCTGCTGTAAGTCACTTCTGGTCCCATCATCAGTTATGCCCCCAGCAATTTGGTTCTCTATCTCCAAAAGCTAGAACAATTAGAGATTCTA\n",
      "chr3:27844281-27844426,rs7649139\n",
      "TCACTTCTGGTCCCA\n"
     ]
    }
   ],
   "source": [
    "variant_idxs = np.argsort(hepg2_scores)[::-1][:10]\n",
    "for (i, variant_idx) in enumerate(variant_idxs):\n",
    "    print(i+1)\n",
    "    print hepg2_scores[variant_idx]\n",
    "    print seqStrings[variant_idx]\n",
    "    print seqNames[variant_idx]\n",
    "    print seqStrings[variant_idx][65:80]"
   ]
  },
  {
   "cell_type": "markdown",
   "metadata": {},
   "source": [
    "Motifs for the top 10 matches above ALL correspond to known TFs!\n",
    "1. ZBTB33\n",
    "2. ELK1\n",
    "3. ELK1\n",
    "4. ZBTB33\n",
    "5. SPI1_full\n",
    "6. ELK1\n",
    "7. NRF1\n",
    "8. ETV6\n",
    "9. GABPA\n",
    "10. ELK1"
   ]
  }
 ],
 "metadata": {
  "anaconda-cloud": {},
  "kernelspec": {
   "display_name": "Python [conda env:mommadragonn]",
   "language": "python",
   "name": "conda-env-mommadragonn-py"
  },
  "language_info": {
   "codemirror_mode": {
    "name": "ipython",
    "version": 2
   },
   "file_extension": ".py",
   "mimetype": "text/x-python",
   "name": "python",
   "nbconvert_exporter": "python",
   "pygments_lexer": "ipython2",
   "version": "2.7.13"
  }
 },
 "nbformat": 4,
 "nbformat_minor": 2
}
