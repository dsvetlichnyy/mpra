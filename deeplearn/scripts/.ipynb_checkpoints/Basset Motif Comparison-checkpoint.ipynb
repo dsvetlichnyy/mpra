{
 "cells": [
  {
   "cell_type": "code",
   "execution_count": 1,
   "metadata": {
    "collapsed": false
   },
   "outputs": [
    {
     "name": "stdout",
     "output_type": "stream",
     "text": [
      "[u'activation_1', u'activation_2', u'activation_3', u'batchnormalization_1', u'batchnormalization_2', u'batchnormalization_3', u'batchnormalization_4', u'batchnormalization_5', u'convolution1d_1', u'convolution1d_2', u'convolution1d_3', u'dense_1', u'dense_2', u'dense_3', u'dropout_1', u'dropout_2', u'flatten_1', u'maxpooling1d_1', u'maxpooling1d_2', u'maxpooling1d_3', u'prelu_1', u'prelu_2']\n"
     ]
    }
   ],
   "source": [
    "import h5py\n",
    "\n",
    "modelID = \"record_2_model_88vVF_\"\n",
    "weightsFileName = \"../model_files/regression_jul3_strands_augmented/\" + modelID + \"modelWeights.h5\"\n",
    "weights = h5py.File(weightsFileName, 'r')\n",
    "print weights.keys()"
   ]
  },
  {
   "cell_type": "code",
   "execution_count": 2,
   "metadata": {
    "collapsed": false
   },
   "outputs": [
    {
     "name": "stdout",
     "output_type": "stream",
     "text": [
      "(19, 1, 4, 100)\n",
      "(100,)\n"
     ]
    }
   ],
   "source": [
    "import numpy as np\n",
    "\n",
    "layer = 'convolution1d_1'\n",
    "# print np.array(weights[layer][str(layer + '_W')])\n",
    "conv1_weights = np.array(weights[layer][str(layer + '_W')])\n",
    "conv1_biases = np.array(weights[layer][str(layer + '_b')])\n",
    "print conv1_weights.shape\n",
    "print conv1_biases.shape"
   ]
  },
  {
   "cell_type": "code",
   "execution_count": 3,
   "metadata": {
    "collapsed": false
   },
   "outputs": [],
   "source": [
    "val_data_path = \"../hdf5files/regression_jul3_strands_augmented_rep2only/valid_data.hdf5\"\n",
    "val_data = h5py.File(val_data_path)"
   ]
  },
  {
   "cell_type": "code",
   "execution_count": 4,
   "metadata": {
    "collapsed": false
   },
   "outputs": [
    {
     "name": "stdout",
     "output_type": "stream",
     "text": [
      "(205984, 2000, 4)\n"
     ]
    }
   ],
   "source": [
    "print val_data['X']['sequence'].shape"
   ]
  },
  {
   "cell_type": "code",
   "execution_count": 123,
   "metadata": {
    "collapsed": false
   },
   "outputs": [
    {
     "name": "stdout",
     "output_type": "stream",
     "text": [
      "Took ~0.1604s for sequences -9881 to 119\n",
      "Took ~0.1351s for sequences -9762 to 238\n",
      "Took ~0.136s for sequences -9660 to 340\n",
      "Took ~0.1344s for sequences -9558 to 442\n",
      "Took ~0.1355s for sequences -9461 to 539\n",
      "Took ~0.1069s for sequences -9364 to 636\n",
      "Took ~0.0982s for sequences -9256 to 744\n",
      "Took ~0.0954s for sequences -9148 to 852\n",
      "Took ~0.0957s for sequences -9094 to 906\n",
      "Took ~0.0957s for sequences -9040 to 960\n",
      "Took ~0.095s for sequences -8902 to 1098\n",
      "Took ~0.0953s for sequences -8764 to 1236\n",
      "Took ~0.0955s for sequences -8715 to 1285\n",
      "Took ~0.0948s for sequences -8666 to 1334\n",
      "Took ~0.0951s for sequences -8531 to 1469\n",
      "Took ~0.0955s for sequences -8396 to 1604\n",
      "Took ~0.0956s for sequences -8254 to 1746\n",
      "Took ~0.0954s for sequences -8112 to 1888\n",
      "Took ~0.0955s for sequences -7940 to 2060\n",
      "Took ~0.0948s for sequences -7768 to 2232\n",
      "Took ~0.095s for sequences -7631 to 2369\n",
      "Took ~0.0955s for sequences -7494 to 2506\n",
      "Took ~0.0953s for sequences -7295 to 2705\n",
      "Took ~0.0949s for sequences -7096 to 2904\n",
      "Took ~0.0956s for sequences -6943 to 3057\n",
      "Took ~0.0947s for sequences -6790 to 3210\n",
      "Took ~0.0947s for sequences -6732 to 3268\n",
      "Took ~0.0958s for sequences -6674 to 3326\n",
      "Took ~0.0947s for sequences -6519 to 3481\n",
      "Took ~0.0956s for sequences -6364 to 3636\n",
      "Took ~0.0954s for sequences -6317 to 3683\n",
      "Took ~0.0945s for sequences -6270 to 3730\n",
      "Took ~0.0953s for sequences -6093 to 3907\n",
      "Took ~0.0954s for sequences -5916 to 4084\n",
      "Took ~0.0944s for sequences -5903 to 4097\n",
      "Took ~0.095s for sequences -5890 to 4110\n",
      "Took ~0.0956s for sequences -5735 to 4265\n",
      "Took ~0.0947s for sequences -5580 to 4420\n",
      "Took ~0.0951s for sequences -5433 to 4567\n",
      "Took ~0.0962s for sequences -5286 to 4714\n",
      "Took ~0.0945s for sequences -5265 to 4735\n",
      "Took ~0.0946s for sequences -5244 to 4756\n",
      "Took ~0.0953s for sequences -5198 to 4802\n",
      "Took ~0.0949s for sequences -5152 to 4848\n",
      "Took ~0.0942s for sequences -5117 to 4883\n"
     ]
    },
    {
     "ename": "KeyboardInterrupt",
     "evalue": "",
     "output_type": "error",
     "traceback": [
      "\u001b[0;31m---------------------------------------------------------------------------\u001b[0m",
      "\u001b[0;31mKeyboardInterrupt\u001b[0m                         Traceback (most recent call last)",
      "\u001b[0;32m<ipython-input-123-a26d6f75d92e>\u001b[0m in \u001b[0;36m<module>\u001b[0;34m()\u001b[0m\n\u001b[1;32m      8\u001b[0m \u001b[0mval_sequences\u001b[0m \u001b[0;34m=\u001b[0m \u001b[0;34m[\u001b[0m\u001b[0;34m]\u001b[0m\u001b[0;34m\u001b[0m\u001b[0m\n\u001b[1;32m      9\u001b[0m \u001b[0mcnt\u001b[0m \u001b[0;34m=\u001b[0m \u001b[0;36m0\u001b[0m\u001b[0;34m\u001b[0m\u001b[0m\n\u001b[0;32m---> 10\u001b[0;31m \u001b[0;32mfor\u001b[0m \u001b[0mseq\u001b[0m \u001b[0;32min\u001b[0m \u001b[0mval_data\u001b[0m\u001b[0;34m[\u001b[0m\u001b[0;34m'X'\u001b[0m\u001b[0;34m]\u001b[0m\u001b[0;34m[\u001b[0m\u001b[0;34m'sequence'\u001b[0m\u001b[0;34m]\u001b[0m\u001b[0;34m:\u001b[0m\u001b[0;34m\u001b[0m\u001b[0m\n\u001b[0m\u001b[1;32m     11\u001b[0m     \u001b[0;32mif\u001b[0m \u001b[0mlen\u001b[0m\u001b[0;34m(\u001b[0m\u001b[0mval_sequences\u001b[0m\u001b[0;34m)\u001b[0m \u001b[0;34m>\u001b[0m \u001b[0mnumSequences\u001b[0m\u001b[0;34m:\u001b[0m\u001b[0;34m\u001b[0m\u001b[0m\n\u001b[1;32m     12\u001b[0m         \u001b[0;32mbreak\u001b[0m\u001b[0;34m\u001b[0m\u001b[0m\n",
      "\u001b[0;32m/home/users/rmovva/.local/lib/python2.7/site-packages/h5py-2.6.0-py2.7-linux-x86_64.egg/h5py/_hl/dataset.pyc\u001b[0m in \u001b[0;36m__iter__\u001b[0;34m(self)\u001b[0m\n\u001b[1;32m    384\u001b[0m             \u001b[0;32mraise\u001b[0m \u001b[0mTypeError\u001b[0m\u001b[0;34m(\u001b[0m\u001b[0;34m\"Can't iterate over a scalar dataset\"\u001b[0m\u001b[0;34m)\u001b[0m\u001b[0;34m\u001b[0m\u001b[0m\n\u001b[1;32m    385\u001b[0m         \u001b[0;32mfor\u001b[0m \u001b[0mi\u001b[0m \u001b[0;32min\u001b[0m \u001b[0mxrange\u001b[0m\u001b[0;34m(\u001b[0m\u001b[0mshape\u001b[0m\u001b[0;34m[\u001b[0m\u001b[0;36m0\u001b[0m\u001b[0;34m]\u001b[0m\u001b[0;34m)\u001b[0m\u001b[0;34m:\u001b[0m\u001b[0;34m\u001b[0m\u001b[0m\n\u001b[0;32m--> 386\u001b[0;31m             \u001b[0;32myield\u001b[0m \u001b[0mself\u001b[0m\u001b[0;34m[\u001b[0m\u001b[0mi\u001b[0m\u001b[0;34m]\u001b[0m\u001b[0;34m\u001b[0m\u001b[0m\n\u001b[0m\u001b[1;32m    387\u001b[0m \u001b[0;34m\u001b[0m\u001b[0m\n\u001b[1;32m    388\u001b[0m \u001b[0;34m\u001b[0m\u001b[0m\n",
      "\u001b[0;32mh5py/_objects.pyx\u001b[0m in \u001b[0;36mh5py._objects.with_phil.wrapper (/local-scratch/rmovva/37366/easy_install-4wBUck/h5py-2.6.0/h5py/_objects.c:2841)\u001b[0;34m()\u001b[0m\n",
      "\u001b[0;32mh5py/_objects.pyx\u001b[0m in \u001b[0;36mh5py._objects.with_phil.wrapper (/local-scratch/rmovva/37366/easy_install-4wBUck/h5py-2.6.0/h5py/_objects.c:2799)\u001b[0;34m()\u001b[0m\n",
      "\u001b[0;32m/home/users/rmovva/.local/lib/python2.7/site-packages/h5py-2.6.0-py2.7-linux-x86_64.egg/h5py/_hl/dataset.pyc\u001b[0m in \u001b[0;36m__getitem__\u001b[0;34m(self, args)\u001b[0m\n\u001b[1;32m    480\u001b[0m         \u001b[0mmspace\u001b[0m \u001b[0;34m=\u001b[0m \u001b[0mh5s\u001b[0m\u001b[0;34m.\u001b[0m\u001b[0mcreate_simple\u001b[0m\u001b[0;34m(\u001b[0m\u001b[0mmshape\u001b[0m\u001b[0;34m)\u001b[0m\u001b[0;34m\u001b[0m\u001b[0m\n\u001b[1;32m    481\u001b[0m         \u001b[0mfspace\u001b[0m \u001b[0;34m=\u001b[0m \u001b[0mselection\u001b[0m\u001b[0;34m.\u001b[0m\u001b[0mid\u001b[0m\u001b[0;34m\u001b[0m\u001b[0m\n\u001b[0;32m--> 482\u001b[0;31m         \u001b[0mself\u001b[0m\u001b[0;34m.\u001b[0m\u001b[0mid\u001b[0m\u001b[0;34m.\u001b[0m\u001b[0mread\u001b[0m\u001b[0;34m(\u001b[0m\u001b[0mmspace\u001b[0m\u001b[0;34m,\u001b[0m \u001b[0mfspace\u001b[0m\u001b[0;34m,\u001b[0m \u001b[0marr\u001b[0m\u001b[0;34m,\u001b[0m \u001b[0mmtype\u001b[0m\u001b[0;34m,\u001b[0m \u001b[0mdxpl\u001b[0m\u001b[0;34m=\u001b[0m\u001b[0mself\u001b[0m\u001b[0;34m.\u001b[0m\u001b[0m_dxpl\u001b[0m\u001b[0;34m)\u001b[0m\u001b[0;34m\u001b[0m\u001b[0m\n\u001b[0m\u001b[1;32m    483\u001b[0m \u001b[0;34m\u001b[0m\u001b[0m\n\u001b[1;32m    484\u001b[0m         \u001b[0;31m# Patch up the output for NumPy\u001b[0m\u001b[0;34m\u001b[0m\u001b[0;34m\u001b[0m\u001b[0m\n",
      "\u001b[0;31mKeyboardInterrupt\u001b[0m: "
     ]
    }
   ],
   "source": [
    "import time\n",
    "t0 = time.time()\n",
    "\n",
    "numSequences = 6e6\n",
    "\n",
    "filter_length = conv1_weights.shape[0]\n",
    "stride = filter_length / 2\n",
    "val_sequences = []\n",
    "cnt = 0\n",
    "for seq in val_data['X']['sequence']:\n",
    "    if len(val_sequences) > numSequences:\n",
    "        break\n",
    "    seqLen = int(np.sum(seq))\n",
    "    \n",
    "    sliceIndices = np.arange(1000 - seqLen/2, 1000 + seqLen/2 - filter_length, stride)\n",
    "    slicer = lambda t: [t, t + filter_length]\n",
    "    sliceIndices = np.swapaxes(np.array(slicer(sliceIndices)), 0, 1)\n",
    "    \n",
    "    val_sequences += [seq[iin : iout] for iin, iout in sliceIndices]\n",
    "    print_interval = 3e5\n",
    "    if len(val_sequences) / print_interval > cnt / print_interval:\n",
    "        cnt += len(sliceIndices)\n",
    "        print \"Took ~\" + str(round(time.time() - t0, 4)) + \"s for sequences \" + str(cnt - print_interval) + \" to \" + str(cnt)\n",
    "        t0 = time.time()\n",
    "    else:\n",
    "        cnt += len(sliceIndices)\n",
    "#     if len(val_sequences) % 1000 == 0:\n",
    "#             cnt = len(val_sequences)\n",
    "#             print \"Took \" + str(round(time.time() - t0, 4)) + \"s for sequences \" + str(cnt-1000) + \" to \" + str(cnt)\n",
    "            \n",
    "#     for idx in startIndices:\n",
    "#         val_sequences.append(seq[idx : idx + filter_length])\n",
    "#         if len(val_sequences) % 1000 == 0:\n",
    "#             cnt = len(val_sequences)\n",
    "#             print \"Took \" + str(round(time.time() - t0, 4)) + \"s for sequences \" + str(cnt-1000) + \" to \" + str(cnt)"
   ]
  },
  {
   "cell_type": "code",
   "execution_count": 7,
   "metadata": {
    "collapsed": false
   },
   "outputs": [
    {
     "name": "stdout",
     "output_type": "stream",
     "text": [
      "(1000034, 19, 4)\n"
     ]
    }
   ],
   "source": [
    "val_sequences = np.array(val_sequences)\n",
    "print val_sequences.shape"
   ]
  },
  {
   "cell_type": "code",
   "execution_count": 110,
   "metadata": {
    "collapsed": false
   },
   "outputs": [
    {
     "name": "stdout",
     "output_type": "stream",
     "text": [
      "Took 0.539s.\n",
      "(1, 100, 1000034)\n"
     ]
    }
   ],
   "source": [
    "import time\n",
    "# from scipy.stats.mstats import zscore\n",
    "\n",
    "conv1_biases_reshaped = np.broadcast_to(conv1_biases, shape = (19, 1, 4, 100))\n",
    "conv1_weights_plus_biases = conv1_weights + conv1_biases_reshaped\n",
    "# conv1_weights_plus_biases_normalized = zscore(conv1_weights_plus_biases, axis = None)\n",
    "\n",
    "t0 = time.time()\n",
    "filter_sequence_activations = np.tensordot(conv1_weights, val_sequences, axes = [[0, 2], [1, 2]])\n",
    "# filter_sequence_activations = np.tensordot(conv1_weights_plus_biases, val_sequences, axes = [[0, 2], [1, 2]])\n",
    "# filter_sequence_activations_normalized = np.tensordot(conv1_weights_plus_biases_normalized, val_sequences, axes = [[0, 2], [1, 2]])\n",
    "print \"Took \" + str(round(time.time() - t0, 3)) + \"s.\"\n",
    "\n",
    "print filter_sequence_activations.shape"
   ]
  },
  {
   "cell_type": "code",
   "execution_count": 111,
   "metadata": {
    "collapsed": false
   },
   "outputs": [
    {
     "name": "stdout",
     "output_type": "stream",
     "text": [
      "(100, 1000034)\n"
     ]
    }
   ],
   "source": [
    "# filter_sequence_activations[i, j] will be the activation of the ith filter on the jth sequence.\n",
    "\n",
    "filter_sequence_activations = np.squeeze(filter_sequence_activations, axis=0)\n",
    "print filter_sequence_activations.shape"
   ]
  },
  {
   "cell_type": "code",
   "execution_count": 115,
   "metadata": {
    "collapsed": false
   },
   "outputs": [
    {
     "name": "stdout",
     "output_type": "stream",
     "text": [
      "(100, 1000034)\n",
      "(100, 1000034)\n"
     ]
    }
   ],
   "source": [
    "# normalize the filter activations so that we can use a unified activation threshold.\n",
    "from scipy.stats.mstats import zscore\n",
    "import scipy.stats as st\n",
    "\n",
    "# the \"globally\" activating sequences are sequences that strongly activate their filters overall\n",
    "# the \"locally\" activating sequences are the strongest sequences on a per-filter basis;\n",
    "# this latter type allows to construct PWMs for all the filters, while the globally activating sequences\n",
    "# only help with some PWMs\n",
    "\n",
    "global_activation_fraction = 0.01\n",
    "global_activation_threshold = st.norm.ppf(1 - local_activation_fraction) # a z-score threshold for the entire array\n",
    "filter_sequence_activations_globally_normalized = zscore(filter_sequence_activations, axis=None)\n",
    "global_activating_sequences = np.ndarray(shape = filter_sequence_activations.shape, dtype = np.bool_)\n",
    "global_activating_sequences = filter_sequence_activations_globally_normalized > global_activation_threshold\n",
    "print global_activating_sequences.shape\n",
    "\n",
    "local_activation_fraction = 0.01 # get top 1 percent of sequences for each filter; approx 10K sequences\n",
    "local_activation_threshold = st.norm.ppf(1 - local_activation_fraction)\n",
    "filter_sequence_activations_locally_normalized = zscore(filter_sequence_activations, axis=1)\n",
    "local_activating_sequences = np.ndarray(shape = filter_sequence_activations.shape, dtype = np.bool_)\n",
    "local_activating_sequences = filter_sequence_activations_locally_normalized > local_activation_threshold\n",
    "print local_activating_sequences.shape"
   ]
  },
  {
   "cell_type": "code",
   "execution_count": 93,
   "metadata": {
    "collapsed": false
   },
   "outputs": [],
   "source": [
    "local_activating_sequences_val = st.norm.cdf(filter_sequence_activations_locally_normalized) > 0.99"
   ]
  },
  {
   "cell_type": "code",
   "execution_count": 116,
   "metadata": {
    "collapsed": false
   },
   "outputs": [
    {
     "name": "stdout",
     "output_type": "stream",
     "text": [
      "[  2693   2878  19562   2312   5541   8414   9019    445  14961    137\n",
      "   9548  27087   3670   8243   9338  13478   2500   2749   8233   7467\n",
      "   4915   8472 120555   7770  12409   2585   7560  17199   5340   8377\n",
      "   5414   1364   4382    377   5857   1417   8038  11215    288  11913\n",
      "   2745    702   2354   9366   9552   1507   1223   6718   1976   2924\n",
      "   1913   8312  31365   1126    319   4634  19380  10553 134328   2599\n",
      "    506   8338   6162  20344    523   4886   4530   6354  26387   3000\n",
      "   9385  18000    448    547   1085   1321    689  10591  21634   1295\n",
      "  11229   1881   4358    201   6529  14036  14833    783   5004  18161\n",
      "  12141   5337    401  13658  12757   1974   1553   5764    172  23353]\n",
      "[10373  8946 10598 10323 10000  7185  7793  9312 11202 12596  9461  9183\n",
      "  7258 10060  7466  8885 10560  9194  9032  8604 10265 10236  6400  7694\n",
      "  9229  8502  6799  7407  7069  8185  8637 10720  8729 10241  7454 11091\n",
      " 10465  7112  8945 10661  7654  9829  9890  8019  9673  8927  7083  8512\n",
      "  8365  8834  7911  8099  9373  9416  9773  7220  8665  8639  9632 11444\n",
      " 10548 10284 10356  2355 10145  8925 11796  7564  8456 10470  9903  7751\n",
      "  7108  7744  7192 11475  7738  9093  9738  7559  9241  8409  8944 13549\n",
      "  9027  9391  8590  9479  9971  7073  5326  8175  9904  9537  8930  8908\n",
      "  9275  8926  7165  7181]\n"
     ]
    }
   ],
   "source": [
    "print np.sum(global_activating_sequences, axis=1)\n",
    "print np.sum(local_activating_sequences, axis=1)"
   ]
  },
  {
   "cell_type": "code",
   "execution_count": 117,
   "metadata": {
    "collapsed": false
   },
   "outputs": [
    {
     "name": "stdout",
     "output_type": "stream",
     "text": [
      "(19, 1, 4, 100)\n"
     ]
    }
   ],
   "source": [
    "filter_pwms = np.ndarray(shape = (19, 1, 4, 100))\n",
    "for i in range(filter_pwms.shape[3]):\n",
    "    filter_sequences = val_sequences[local_activating_sequences[i]]\n",
    "    filter_pwm = np.sum(filter_sequences, axis = 0) / len(filter_sequences)\n",
    "    filter_pwm = np.expand_dims(filter_pwm, axis = 1)\n",
    "    filter_pwms[:, :, :, i] = filter_pwm\n",
    "    \n",
    "print filter_pwms.shape"
   ]
  },
  {
   "cell_type": "code",
   "execution_count": 119,
   "metadata": {
    "collapsed": false
   },
   "outputs": [
    {
     "name": "stdout",
     "output_type": "stream",
     "text": [
      "SpearmanrResult(correlation=0.93889722187910973, pvalue=0.0)\n"
     ]
    }
   ],
   "source": [
    "from scipy.stats import spearmanr\n",
    "print spearmanr(np.ravel(filter_pwms), np.ravel(conv1_weights))"
   ]
  },
  {
   "cell_type": "code",
   "execution_count": 121,
   "metadata": {
    "collapsed": true
   },
   "outputs": [],
   "source": [
    "meme = open('../model_files/regression_jul3_strands_augmented/interpretation/88vVF_100_conv_filters_meme.txt', 'w')\n",
    "# background frequencies 0.2901785   0.20715891  0.20895831  0.29370428\n",
    "meme.write(\"MEME version 4\\n\\nALPHABET = ACGT\\n\\nStrands: + -\\n\\n\" +\n",
    "           \"Background letter frequencies\\nA 0.292 C 0.208 G 0.208 T 0.292\\n\\n\")\n",
    "\n",
    "filter_pwms_reaxis = np.squeeze(filter_pwms, axis = 1)\n",
    "filter_pwms_reaxis = np.swapaxes(filter_pwms_reaxis, 0, 2)\n",
    "filter_pwms_reaxis = np.swapaxes(filter_pwms_reaxis, 1, 2)\n",
    "for i in range(len(filter_pwms_reaxis)):\n",
    "    meme.write('MOTIF conv1_filter' + str(i) + '\\n')\n",
    "    meme.write('letter-probability matrix: alength= 4 w= 19\\n')\n",
    "    for j in range(len(filter_pwms_reaxis[i])):\n",
    "        meme.write(' '.join(filter_pwms_reaxis[i, j].astype(np.str)) + '\\n')\n",
    "    meme.write('\\n')\n",
    "\n",
    "meme.close()"
   ]
  },
  {
   "cell_type": "code",
   "execution_count": 102,
   "metadata": {
    "collapsed": false
   },
   "outputs": [
    {
     "name": "stdout",
     "output_type": "stream",
     "text": [
      "(1000034, 19, 4)\n",
      "(100, 1000034)\n"
     ]
    },
    {
     "ename": "IndexError",
     "evalue": "boolean index did not match indexed array along dimension 0; dimension is 1000034 but corresponding boolean dimension is 100",
     "output_type": "error",
     "traceback": [
      "\u001b[0;31m---------------------------------------------------------------------------\u001b[0m",
      "\u001b[0;31mIndexError\u001b[0m                                Traceback (most recent call last)",
      "\u001b[0;32m<ipython-input-102-9da8b75bf656>\u001b[0m in \u001b[0;36m<module>\u001b[0;34m()\u001b[0m\n\u001b[1;32m      1\u001b[0m \u001b[0;32mprint\u001b[0m \u001b[0mval_sequences\u001b[0m\u001b[0;34m.\u001b[0m\u001b[0mshape\u001b[0m\u001b[0;34m\u001b[0m\u001b[0m\n\u001b[1;32m      2\u001b[0m \u001b[0;32mprint\u001b[0m \u001b[0mlocal_activating_sequences\u001b[0m\u001b[0;34m.\u001b[0m\u001b[0mshape\u001b[0m\u001b[0;34m\u001b[0m\u001b[0m\n\u001b[0;32m----> 3\u001b[0;31m \u001b[0;32mprint\u001b[0m \u001b[0mval_sequences\u001b[0m\u001b[0;34m[\u001b[0m\u001b[0mlocal_activating_sequences\u001b[0m\u001b[0;34m[\u001b[0m\u001b[0;34m:\u001b[0m\u001b[0;34m,\u001b[0m\u001b[0;34m:\u001b[0m\u001b[0;34m]\u001b[0m\u001b[0;34m]\u001b[0m\u001b[0;34m.\u001b[0m\u001b[0mshape\u001b[0m\u001b[0;34m\u001b[0m\u001b[0m\n\u001b[0m",
      "\u001b[0;31mIndexError\u001b[0m: boolean index did not match indexed array along dimension 0; dimension is 1000034 but corresponding boolean dimension is 100"
     ]
    }
   ],
   "source": [
    "print val_sequences.shape\n",
    "print local_activating_sequences.shape\n",
    "print val_sequences[local_activating_sequences[:,:]].shape"
   ]
  },
  {
   "cell_type": "code",
   "execution_count": 77,
   "metadata": {
    "collapsed": false
   },
   "outputs": [
    {
     "name": "stdout",
     "output_type": "stream",
     "text": [
      "[-4.13218212 -3.05381727 -3.68134642 ..., -3.92485142 -4.27456188\n",
      " -3.33619428]\n"
     ]
    }
   ],
   "source": [
    "print filter_sequence_activations[0][local_activating_sequences[0]]"
   ]
  },
  {
   "cell_type": "markdown",
   "metadata": {},
   "source": [
    "# Misc"
   ]
  },
  {
   "cell_type": "code",
   "execution_count": 24,
   "metadata": {
    "collapsed": false
   },
   "outputs": [
    {
     "name": "stdout",
     "output_type": "stream",
     "text": [
      "(1, 100, 1000000)\n",
      "Took 0.806s.\n",
      "(1, 100, 1000000)\n",
      "Took 17.453s.\n"
     ]
    }
   ],
   "source": [
    "# test dot product speeds of numpy vs. theano\n",
    "\n",
    "import numpy as np\n",
    "import theano\n",
    "import theano.tensor as T\n",
    "import time\n",
    "\n",
    "a = np.random.random((19,1,4,100))\n",
    "b = np.random.random((1000000,19,4))\n",
    "\n",
    "t0 = time.time()\n",
    "nptest = np.tensordot(a, b, axes = [[0, 2], [1, 2]])\n",
    "print nptest.shape\n",
    "# print nptest\n",
    "print \"Took \" + str(round(time.time() - t0, 3)) + \"s.\"\n",
    "\n",
    "t0 = time.time()\n",
    "theanotest = T.tensordot(a, b, axes = [[0, 2], [1, 2]]).eval()\n",
    "print theanotest.shape\n",
    "# print theanotest\n",
    "print \"Took \" + str(round(time.time() - t0, 3)) + \"s.\""
   ]
  },
  {
   "cell_type": "code",
   "execution_count": null,
   "metadata": {
    "collapsed": true
   },
   "outputs": [],
   "source": []
  }
 ],
 "metadata": {
  "anaconda-cloud": {},
  "kernelspec": {
   "display_name": "Python [conda env:mommadragonn]",
   "language": "python",
   "name": "conda-env-mommadragonn-py"
  },
  "language_info": {
   "codemirror_mode": {
    "name": "ipython",
    "version": 2
   },
   "file_extension": ".py",
   "mimetype": "text/x-python",
   "name": "python",
   "nbconvert_exporter": "python",
   "pygments_lexer": "ipython2",
   "version": "2.7.13"
  }
 },
 "nbformat": 4,
 "nbformat_minor": 2
}
